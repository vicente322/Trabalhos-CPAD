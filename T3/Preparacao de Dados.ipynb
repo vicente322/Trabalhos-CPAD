{
 "cells": [
  {
   "cell_type": "markdown",
   "metadata": {},
   "source": [
    "\n",
    "<h2>Coleta, Preparação e Análise de Dados</h2>\n",
    "<h3>Prof. Luan Garcia</h3>    \n",
    "\n",
    "Material adaptado do notebook originalmente desenvolvido por: <a href=\"http://lattes.cnpq.br/2532893661927339\">Renato Moraes Silva</a>\n",
    "\n",
    " <hr style=\"height:2px\"> \n"
   ]
  },
  {
   "cell_type": "markdown",
   "metadata": {},
   "source": [
    "## Introdução\n",
    "\n",
    "Frequentemente, a visualização dos dados auxilia na interpretação e na análise de como eles estão distribuídos. O Python possui algumas bibliotecas que facilitam o processo de visualização, tais como: `Pandas`, `Matplotlib` e `Seaborn`. \n",
    "\n",
    "Neste trabalho, utilizaremos a base de dados Iris [1] que está na pasta raiz deste exercício. É importante destacar que a base de dados Iris usada neste exercício foi modificada pelos autores por motivos didáticos [2]. A versão original dela pode ser encontrada no seguinte link: <https://archive.ics.uci.edu/ml/datasets/iris>. \n",
    "\n",
    "Usando a versão modificada dessa base de dados, os seguintes tópicos serão abordados:\n",
    "- eliminação de atributos irrelevantes \n",
    "- tratamento de valores faltantes \n",
    "- tratamento de valores redundantes ou inconsistentes\n",
    "- normalização dos dados\n",
    "- detecção e remoção de *outliers* \n",
    "- análise da distribuição das classes\n",
    "- correlação entre os atributos\n",
    "\n",
    "Para cada um destes tópicos, serão propostos exercícios ou serão apresentadas maneiras de como realizar a tarefa em questão.\n",
    "\n",
    "Seu trabalho é implementar o que é pedido nos exercícios abaixo e compreender o que está acontecendo ao longo do notebook."
   ]
  },
  {
   "cell_type": "markdown",
   "metadata": {},
   "source": [
    "---\n",
    "## Recursos Necessários\n",
    "\n",
    "Para este *notebook*, deve ser utilizado o `Python 3.5` ou superior com as seguintes bibliotecas externas, que deverão ser instaladas (preferencialmente em um ambiente virtual conda):\n",
    "\n",
    "* [`matplotlib`](https://matplotlib.org/) (versão 3.1.3 ou superior): construção e exibição de gráficos variados\n",
    "* [`seaborn`](https://seaborn.pydata.org/) (versão 0.10.0 ou superior): construção e exibição de gráficos variados\n",
    "* [`numpy`](https://numpy.org) (versão 1.16.2 ou superior): manipulação de dados em formato de vetores e matrizes\n",
    "* [`pandas`](https://pandas.pydata.org/pandas-docs/stable/index.html) (versão 0.24.1 ou superior): manipulação de dados em formato de tabelas\n",
    "\n",
    "\n",
    "Será utilizado também o conjuntos de dados disponibilizado junto com este *notebook*, que se encontra no diretório `datasets`, em formato de arquivo `.csv`."
   ]
  },
  {
   "cell_type": "markdown",
   "metadata": {},
   "source": [
    "---\n",
    "## Carregando os dados\n",
    "\n",
    "Primeiro, vamos importar todas as bibliotecas que serão utilizadas ao longo deste exercício."
   ]
  },
  {
   "cell_type": "code",
   "execution_count": 15,
   "metadata": {},
   "outputs": [],
   "source": [
    "# -*- coding: utf-8 -*-\n",
    "\n",
    "import numpy as np # importa a biblioteca usada para trabalhar com vetores e matrizes\n",
    "import pandas as pd # importa a biblioteca usada para trabalhar com dataframes (dados em formato de tabela) e análise de dados\n",
    "import spicy\n",
    "\n",
    "# bibliotecas usadas para geracao de graficos\n",
    "import seaborn as sns\n",
    "import matplotlib.pyplot as plt"
   ]
  },
  {
   "cell_type": "markdown",
   "metadata": {},
   "source": [
    "Em seguida, os dados serão carregados do arquivo para um DataFrame pandas."
   ]
  },
  {
   "cell_type": "code",
   "execution_count": 16,
   "metadata": {},
   "outputs": [],
   "source": [
    "# importa o arquivo e guarda em um dataframe do Pandas\n",
    "df_dataset = pd.read_csv( 'datasets/iris.csv', sep=',', index_col=None) "
   ]
  },
  {
   "cell_type": "markdown",
   "metadata": {},
   "source": [
    "Agora, vamos dar uma olhada nas 10 primeiras amostras da base de dados."
   ]
  },
  {
   "cell_type": "code",
   "execution_count": 17,
   "metadata": {},
   "outputs": [
    {
     "data": {
      "text/html": [
       "<div>\n",
       "<style scoped>\n",
       "    .dataframe tbody tr th:only-of-type {\n",
       "        vertical-align: middle;\n",
       "    }\n",
       "\n",
       "    .dataframe tbody tr th {\n",
       "        vertical-align: top;\n",
       "    }\n",
       "\n",
       "    .dataframe thead th {\n",
       "        text-align: right;\n",
       "    }\n",
       "</style>\n",
       "<table border=\"1\" class=\"dataframe\">\n",
       "  <thead>\n",
       "    <tr style=\"text-align: right;\">\n",
       "      <th></th>\n",
       "      <th>id_planta</th>\n",
       "      <th>comprimento_sepala</th>\n",
       "      <th>largura_sepala</th>\n",
       "      <th>comprimento_petala</th>\n",
       "      <th>largura_petala</th>\n",
       "      <th>cidade_origem</th>\n",
       "      <th>classe</th>\n",
       "    </tr>\n",
       "  </thead>\n",
       "  <tbody>\n",
       "    <tr>\n",
       "      <th>0</th>\n",
       "      <td>0</td>\n",
       "      <td>5.1</td>\n",
       "      <td>3.5</td>\n",
       "      <td>1.4</td>\n",
       "      <td>0.2</td>\n",
       "      <td>São Paulo</td>\n",
       "      <td>Iris-setosa</td>\n",
       "    </tr>\n",
       "    <tr>\n",
       "      <th>1</th>\n",
       "      <td>1</td>\n",
       "      <td>4.9</td>\n",
       "      <td>3.0</td>\n",
       "      <td>1.4</td>\n",
       "      <td>0.2</td>\n",
       "      <td>Sorocaba</td>\n",
       "      <td>Iris-setosa</td>\n",
       "    </tr>\n",
       "    <tr>\n",
       "      <th>2</th>\n",
       "      <td>2</td>\n",
       "      <td>4.7</td>\n",
       "      <td>3.2</td>\n",
       "      <td>1.3</td>\n",
       "      <td>0.2</td>\n",
       "      <td>São Paulo</td>\n",
       "      <td>Iris-setosa</td>\n",
       "    </tr>\n",
       "    <tr>\n",
       "      <th>3</th>\n",
       "      <td>3</td>\n",
       "      <td>4.6</td>\n",
       "      <td>3.1</td>\n",
       "      <td>1.5</td>\n",
       "      <td>0.2</td>\n",
       "      <td>Sorocaba</td>\n",
       "      <td>Iris-setosa</td>\n",
       "    </tr>\n",
       "    <tr>\n",
       "      <th>4</th>\n",
       "      <td>4</td>\n",
       "      <td>5.0</td>\n",
       "      <td>3.6</td>\n",
       "      <td>1.4</td>\n",
       "      <td>0.2</td>\n",
       "      <td>São Paulo</td>\n",
       "      <td>Iris-setosa</td>\n",
       "    </tr>\n",
       "    <tr>\n",
       "      <th>...</th>\n",
       "      <td>...</td>\n",
       "      <td>...</td>\n",
       "      <td>...</td>\n",
       "      <td>...</td>\n",
       "      <td>...</td>\n",
       "      <td>...</td>\n",
       "      <td>...</td>\n",
       "    </tr>\n",
       "    <tr>\n",
       "      <th>147</th>\n",
       "      <td>145</td>\n",
       "      <td>6.7</td>\n",
       "      <td>3.0</td>\n",
       "      <td>5.2</td>\n",
       "      <td>2.3</td>\n",
       "      <td>São Paulo</td>\n",
       "      <td>Iris-virginica</td>\n",
       "    </tr>\n",
       "    <tr>\n",
       "      <th>148</th>\n",
       "      <td>146</td>\n",
       "      <td>6.3</td>\n",
       "      <td>2.5</td>\n",
       "      <td>5.0</td>\n",
       "      <td>1.9</td>\n",
       "      <td>Campinas</td>\n",
       "      <td>Iris-virginica</td>\n",
       "    </tr>\n",
       "    <tr>\n",
       "      <th>149</th>\n",
       "      <td>147</td>\n",
       "      <td>6.5</td>\n",
       "      <td>3.0</td>\n",
       "      <td>5.2</td>\n",
       "      <td>2.0</td>\n",
       "      <td>Sorocaba</td>\n",
       "      <td>Iris-virginica</td>\n",
       "    </tr>\n",
       "    <tr>\n",
       "      <th>150</th>\n",
       "      <td>148</td>\n",
       "      <td>6.2</td>\n",
       "      <td>3.4</td>\n",
       "      <td>5.4</td>\n",
       "      <td>2.3</td>\n",
       "      <td>Sorocaba</td>\n",
       "      <td>Iris-virginica</td>\n",
       "    </tr>\n",
       "    <tr>\n",
       "      <th>151</th>\n",
       "      <td>149</td>\n",
       "      <td>5.9</td>\n",
       "      <td>3.0</td>\n",
       "      <td>5.1</td>\n",
       "      <td>1.8</td>\n",
       "      <td>Campinas</td>\n",
       "      <td>Iris-virginica</td>\n",
       "    </tr>\n",
       "  </tbody>\n",
       "</table>\n",
       "<p>152 rows × 7 columns</p>\n",
       "</div>"
      ],
      "text/plain": [
       "     id_planta  comprimento_sepala  largura_sepala  comprimento_petala  \\\n",
       "0            0                 5.1             3.5                 1.4   \n",
       "1            1                 4.9             3.0                 1.4   \n",
       "2            2                 4.7             3.2                 1.3   \n",
       "3            3                 4.6             3.1                 1.5   \n",
       "4            4                 5.0             3.6                 1.4   \n",
       "..         ...                 ...             ...                 ...   \n",
       "147        145                 6.7             3.0                 5.2   \n",
       "148        146                 6.3             2.5                 5.0   \n",
       "149        147                 6.5             3.0                 5.2   \n",
       "150        148                 6.2             3.4                 5.4   \n",
       "151        149                 5.9             3.0                 5.1   \n",
       "\n",
       "     largura_petala cidade_origem          classe  \n",
       "0               0.2     São Paulo     Iris-setosa  \n",
       "1               0.2      Sorocaba     Iris-setosa  \n",
       "2               0.2     São Paulo     Iris-setosa  \n",
       "3               0.2      Sorocaba     Iris-setosa  \n",
       "4               0.2     São Paulo     Iris-setosa  \n",
       "..              ...           ...             ...  \n",
       "147             2.3     São Paulo  Iris-virginica  \n",
       "148             1.9      Campinas  Iris-virginica  \n",
       "149             2.0      Sorocaba  Iris-virginica  \n",
       "150             2.3      Sorocaba  Iris-virginica  \n",
       "151             1.8      Campinas  Iris-virginica  \n",
       "\n",
       "[152 rows x 7 columns]"
      ]
     },
     "execution_count": 17,
     "metadata": {},
     "output_type": "execute_result"
    }
   ],
   "source": [
    "# exibe o dataframe\n",
    "# df_dataset.head(n=10)\n",
    "df_dataset"
   ]
  },
  {
   "cell_type": "markdown",
   "metadata": {},
   "source": [
    "A base de dados contém amostras de flores (linhas) representadas pelos seguintes atributos (colunas): `id_planta`, `comprimento_sepala`, `largura_sepala`, `comprimento_petala`, `largura_petala` e `cidade_origem`. Por fim, temos o atributo `classe` que contém a espécie de cada flor.\n",
    "\n",
    "O atributo `id_planta` é qualitativo, uma vez que é usado para identificar uma determinada amostra. Apesar dele possuir valores numéricos crescentes, ele exerce apenas a função de identificação e seus valores poderiam ser trocados por outros identificadores não numéricos sem nenhum prejuízo. O atributo `cidade_origem` também é qualitativo. Os atributos `comprimento_sepala`, `largura_sepala`, `comprimento_petala` e `largura_petala` são quantitativos contínuos.\n",
    "\n",
    "Quanto à escala, os atributos `id_planta` e `cidade_origem` são qualitativos nominais, enquanto os atributos `comprimento_sepala`, `largura_sepala`, `comprimento_petala` e `largura_petala` são quantitativos racionais.\n",
    "\n",
    "O atributo `classe` é qualitativo nominal e representa espécies de flores. \n"
   ]
  },
  {
   "cell_type": "markdown",
   "metadata": {},
   "source": [
    "\n",
    "## Atividades\n",
    "\n",
    "O nosso objetivo é preparar o dataset das flores Iris para uma tarefa de aprendizado de máquina (classificação). Caso não saiba o que é isto, não se preocupe, nosso objetivo é apenas preparar o dataset, não gerar algum tipo de modelo.\n",
    "\n",
    "O que desejamos no futuro é utilizar este dataset para identificar de forma automática a espécie de uma flor (`classe`), dados os demais atributos. "
   ]
  },
  {
   "cell_type": "markdown",
   "metadata": {},
   "source": [
    "# Eliminação de atributos irrelevantes\n",
    "\n",
    "\n",
    "Não é preciso uma análise profunda para observar que os atributos `id_planta` e `cidade_origem` não contribuem para a identificação da classe. Portanto, como o dataset será utilizado para uma tarefa de aprendizado de máquina, podemos remover esses atributos, pois são irrelevantes. Em cenários reais, muitas vezes é necessário consultar especialistas para ajudar a identificar quais atributos são irrelevantes."
   ]
  },
  {
   "cell_type": "markdown",
   "metadata": {},
   "source": [
    "### Exercício\n",
    "\n",
    "1. Remova do dataset os atributos `id_planta` e `cidade_origem`. "
   ]
  },
  {
   "cell_type": "code",
   "execution_count": 18,
   "metadata": {},
   "outputs": [
    {
     "data": {
      "text/html": [
       "<div>\n",
       "<style scoped>\n",
       "    .dataframe tbody tr th:only-of-type {\n",
       "        vertical-align: middle;\n",
       "    }\n",
       "\n",
       "    .dataframe tbody tr th {\n",
       "        vertical-align: top;\n",
       "    }\n",
       "\n",
       "    .dataframe thead th {\n",
       "        text-align: right;\n",
       "    }\n",
       "</style>\n",
       "<table border=\"1\" class=\"dataframe\">\n",
       "  <thead>\n",
       "    <tr style=\"text-align: right;\">\n",
       "      <th></th>\n",
       "      <th>comprimento_sepala</th>\n",
       "      <th>largura_sepala</th>\n",
       "      <th>comprimento_petala</th>\n",
       "      <th>largura_petala</th>\n",
       "      <th>classe</th>\n",
       "    </tr>\n",
       "  </thead>\n",
       "  <tbody>\n",
       "    <tr>\n",
       "      <th>0</th>\n",
       "      <td>5.1</td>\n",
       "      <td>3.5</td>\n",
       "      <td>1.4</td>\n",
       "      <td>0.2</td>\n",
       "      <td>Iris-setosa</td>\n",
       "    </tr>\n",
       "    <tr>\n",
       "      <th>1</th>\n",
       "      <td>4.9</td>\n",
       "      <td>3.0</td>\n",
       "      <td>1.4</td>\n",
       "      <td>0.2</td>\n",
       "      <td>Iris-setosa</td>\n",
       "    </tr>\n",
       "    <tr>\n",
       "      <th>2</th>\n",
       "      <td>4.7</td>\n",
       "      <td>3.2</td>\n",
       "      <td>1.3</td>\n",
       "      <td>0.2</td>\n",
       "      <td>Iris-setosa</td>\n",
       "    </tr>\n",
       "    <tr>\n",
       "      <th>3</th>\n",
       "      <td>4.6</td>\n",
       "      <td>3.1</td>\n",
       "      <td>1.5</td>\n",
       "      <td>0.2</td>\n",
       "      <td>Iris-setosa</td>\n",
       "    </tr>\n",
       "    <tr>\n",
       "      <th>4</th>\n",
       "      <td>5.0</td>\n",
       "      <td>3.6</td>\n",
       "      <td>1.4</td>\n",
       "      <td>0.2</td>\n",
       "      <td>Iris-setosa</td>\n",
       "    </tr>\n",
       "    <tr>\n",
       "      <th>...</th>\n",
       "      <td>...</td>\n",
       "      <td>...</td>\n",
       "      <td>...</td>\n",
       "      <td>...</td>\n",
       "      <td>...</td>\n",
       "    </tr>\n",
       "    <tr>\n",
       "      <th>147</th>\n",
       "      <td>6.7</td>\n",
       "      <td>3.0</td>\n",
       "      <td>5.2</td>\n",
       "      <td>2.3</td>\n",
       "      <td>Iris-virginica</td>\n",
       "    </tr>\n",
       "    <tr>\n",
       "      <th>148</th>\n",
       "      <td>6.3</td>\n",
       "      <td>2.5</td>\n",
       "      <td>5.0</td>\n",
       "      <td>1.9</td>\n",
       "      <td>Iris-virginica</td>\n",
       "    </tr>\n",
       "    <tr>\n",
       "      <th>149</th>\n",
       "      <td>6.5</td>\n",
       "      <td>3.0</td>\n",
       "      <td>5.2</td>\n",
       "      <td>2.0</td>\n",
       "      <td>Iris-virginica</td>\n",
       "    </tr>\n",
       "    <tr>\n",
       "      <th>150</th>\n",
       "      <td>6.2</td>\n",
       "      <td>3.4</td>\n",
       "      <td>5.4</td>\n",
       "      <td>2.3</td>\n",
       "      <td>Iris-virginica</td>\n",
       "    </tr>\n",
       "    <tr>\n",
       "      <th>151</th>\n",
       "      <td>5.9</td>\n",
       "      <td>3.0</td>\n",
       "      <td>5.1</td>\n",
       "      <td>1.8</td>\n",
       "      <td>Iris-virginica</td>\n",
       "    </tr>\n",
       "  </tbody>\n",
       "</table>\n",
       "<p>152 rows × 5 columns</p>\n",
       "</div>"
      ],
      "text/plain": [
       "     comprimento_sepala  largura_sepala  comprimento_petala  largura_petala  \\\n",
       "0                   5.1             3.5                 1.4             0.2   \n",
       "1                   4.9             3.0                 1.4             0.2   \n",
       "2                   4.7             3.2                 1.3             0.2   \n",
       "3                   4.6             3.1                 1.5             0.2   \n",
       "4                   5.0             3.6                 1.4             0.2   \n",
       "..                  ...             ...                 ...             ...   \n",
       "147                 6.7             3.0                 5.2             2.3   \n",
       "148                 6.3             2.5                 5.0             1.9   \n",
       "149                 6.5             3.0                 5.2             2.0   \n",
       "150                 6.2             3.4                 5.4             2.3   \n",
       "151                 5.9             3.0                 5.1             1.8   \n",
       "\n",
       "             classe  \n",
       "0       Iris-setosa  \n",
       "1       Iris-setosa  \n",
       "2       Iris-setosa  \n",
       "3       Iris-setosa  \n",
       "4       Iris-setosa  \n",
       "..              ...  \n",
       "147  Iris-virginica  \n",
       "148  Iris-virginica  \n",
       "149  Iris-virginica  \n",
       "150  Iris-virginica  \n",
       "151  Iris-virginica  \n",
       "\n",
       "[152 rows x 5 columns]"
      ]
     },
     "execution_count": 18,
     "metadata": {},
     "output_type": "execute_result"
    }
   ],
   "source": [
    "new_dataset = df_dataset.drop(columns=['id_planta', 'cidade_origem']) # Retira colunas indesejadas \n",
    "new_dataset"
   ]
  },
  {
   "cell_type": "markdown",
   "metadata": {},
   "source": [
    "# Tratamento de atributos com valores ausentes\n",
    "\n",
    "Outro passo importante, é verificar se existem atributos com valores ausentes (*NaN*) na base de dados. Começaremos analisando nosso dataset para verificar se existem valores faltantes."
   ]
  },
  {
   "cell_type": "markdown",
   "metadata": {},
   "source": [
    "### Exercício"
   ]
  },
  {
   "cell_type": "markdown",
   "metadata": {},
   "source": [
    "2. Armazene na variável `idxRowNan` abaixo os índices das linhas do dataset que possuem algum valor faltante.\n",
    "\n",
    "<b>Atenção</b>: Não necessariamente estarão faltando valores para todos atributos de uma linha."
   ]
  },
  {
   "cell_type": "code",
   "execution_count": 19,
   "metadata": {},
   "outputs": [
    {
     "name": "stdout",
     "output_type": "stream",
     "text": [
      "Index([23, 24, 30], dtype='int64')\n"
     ]
    }
   ],
   "source": [
    "null_mask = new_dataset.isna().any(axis='columns') # Retorna booleano. True se tem null na linha\n",
    "linhas_na = new_dataset[null_mask] # Retorna as linhas que tem algum campo null\n",
    "\n",
    "idxRowNaN = linhas_na.index # Guarda somente os ids das linhas com nulls\n",
    "\n",
    "print(idxRowNaN)"
   ]
  },
  {
   "cell_type": "markdown",
   "metadata": {},
   "source": [
    "Com o comando abaixo podemos visualizar apenas os registros (linhas) que possuem valores faltantes. Como resultado esperado, devemos poder verificar que o atributo `largura_sepala` possui 2 amostras com valores ausentes e o atributo `comprimento_petala` possui 1 amostra com valor faltante. "
   ]
  },
  {
   "cell_type": "code",
   "execution_count": 20,
   "metadata": {},
   "outputs": [
    {
     "data": {
      "text/html": [
       "<div>\n",
       "<style scoped>\n",
       "    .dataframe tbody tr th:only-of-type {\n",
       "        vertical-align: middle;\n",
       "    }\n",
       "\n",
       "    .dataframe tbody tr th {\n",
       "        vertical-align: top;\n",
       "    }\n",
       "\n",
       "    .dataframe thead th {\n",
       "        text-align: right;\n",
       "    }\n",
       "</style>\n",
       "<table border=\"1\" class=\"dataframe\">\n",
       "  <thead>\n",
       "    <tr style=\"text-align: right;\">\n",
       "      <th></th>\n",
       "      <th>id_planta</th>\n",
       "      <th>comprimento_sepala</th>\n",
       "      <th>largura_sepala</th>\n",
       "      <th>comprimento_petala</th>\n",
       "      <th>largura_petala</th>\n",
       "      <th>cidade_origem</th>\n",
       "      <th>classe</th>\n",
       "    </tr>\n",
       "  </thead>\n",
       "  <tbody>\n",
       "    <tr>\n",
       "      <th>23</th>\n",
       "      <td>23</td>\n",
       "      <td>5.1</td>\n",
       "      <td>NaN</td>\n",
       "      <td>1.7</td>\n",
       "      <td>0.5</td>\n",
       "      <td>Sorocaba</td>\n",
       "      <td>Iris-setosa</td>\n",
       "    </tr>\n",
       "    <tr>\n",
       "      <th>24</th>\n",
       "      <td>24</td>\n",
       "      <td>4.8</td>\n",
       "      <td>NaN</td>\n",
       "      <td>1.9</td>\n",
       "      <td>0.2</td>\n",
       "      <td>São Paulo</td>\n",
       "      <td>Iris-setosa</td>\n",
       "    </tr>\n",
       "    <tr>\n",
       "      <th>30</th>\n",
       "      <td>30</td>\n",
       "      <td>4.8</td>\n",
       "      <td>3.1</td>\n",
       "      <td>NaN</td>\n",
       "      <td>0.2</td>\n",
       "      <td>Campinas</td>\n",
       "      <td>Iris-setosa</td>\n",
       "    </tr>\n",
       "  </tbody>\n",
       "</table>\n",
       "</div>"
      ],
      "text/plain": [
       "    id_planta  comprimento_sepala  largura_sepala  comprimento_petala  \\\n",
       "23         23                 5.1             NaN                 1.7   \n",
       "24         24                 4.8             NaN                 1.9   \n",
       "30         30                 4.8             3.1                 NaN   \n",
       "\n",
       "    largura_petala cidade_origem       classe  \n",
       "23             0.5      Sorocaba  Iris-setosa  \n",
       "24             0.2     São Paulo  Iris-setosa  \n",
       "30             0.2      Campinas  Iris-setosa  "
      ]
     },
     "execution_count": 20,
     "metadata": {},
     "output_type": "execute_result"
    }
   ],
   "source": [
    "df_dataset.iloc[idxRowNaN]"
   ]
  },
  {
   "cell_type": "markdown",
   "metadata": {},
   "source": [
    "Como podemos ver todos os casos de valores faltantes ocorreram para instâncias da classe `Iris-setosa`. Este fato será relevante para nossa próxima tarefa.\n",
    "\n",
    "Existem diversas técnicas para tratar atributos faltantes. Como este problema possui poucos valores ausentes, vamos utilizar a média dos valores conhecidos da respectiva classe (`Iris-setosa`) para preencher nosso dataset.\n"
   ]
  },
  {
   "cell_type": "markdown",
   "metadata": {},
   "source": [
    "### Exercício"
   ]
  },
  {
   "cell_type": "markdown",
   "metadata": {},
   "source": [
    "3. Substitua os valores faltantes da coluna `largura_sepala` com a média dos valores desta coluna para instâncias de `Iris-setosa`.\n",
    "\n",
    "4. Substitua os valores faltantes da coluna `comprimento_petala` com a média dos valores desta coluna para instâncias de `Iris-setosa`."
   ]
  },
  {
   "cell_type": "code",
   "execution_count": 21,
   "metadata": {},
   "outputs": [],
   "source": [
    "\n",
    "IS = new_dataset.where(new_dataset.classe == 'Iris-setosa').dropna() # busca somente parte do dataset com classe Iris-setosa\n",
    "media_lard_sep = IS.largura_sepala.mean(skipna=True) # faz media da coluna largura_sepala\n",
    "media_comp_pet = IS.comprimento_petala.mean(skipna=True) # faz media da coluna comprimento_petala\n",
    "\n",
    "new_dataset.largura_sepala = new_dataset.largura_sepala.fillna(media_lard_sep) # substitui valores na coluna largura_sepala\n",
    "new_dataset.comprimento_petala = new_dataset.comprimento_petala.fillna(media_comp_pet) # substitui valores na coluna comprimento_petala"
   ]
  },
  {
   "cell_type": "markdown",
   "metadata": {},
   "source": [
    "Se tudo ocorreu corretamente, abaixo será possível visualizar os registros que anteriormente possuíam valores faltantes preenchidos.\n",
    "Para a `largura_sepala` o valor esperado é aproximadamente $3.416$, já para `comprimento_petala`o valor esperado é aproximadamente $1.461$."
   ]
  },
  {
   "cell_type": "code",
   "execution_count": 22,
   "metadata": {},
   "outputs": [
    {
     "data": {
      "text/html": [
       "<div>\n",
       "<style scoped>\n",
       "    .dataframe tbody tr th:only-of-type {\n",
       "        vertical-align: middle;\n",
       "    }\n",
       "\n",
       "    .dataframe tbody tr th {\n",
       "        vertical-align: top;\n",
       "    }\n",
       "\n",
       "    .dataframe thead th {\n",
       "        text-align: right;\n",
       "    }\n",
       "</style>\n",
       "<table border=\"1\" class=\"dataframe\">\n",
       "  <thead>\n",
       "    <tr style=\"text-align: right;\">\n",
       "      <th></th>\n",
       "      <th>comprimento_sepala</th>\n",
       "      <th>largura_sepala</th>\n",
       "      <th>comprimento_petala</th>\n",
       "      <th>largura_petala</th>\n",
       "      <th>classe</th>\n",
       "    </tr>\n",
       "  </thead>\n",
       "  <tbody>\n",
       "    <tr>\n",
       "      <th>23</th>\n",
       "      <td>5.1</td>\n",
       "      <td>3.423404</td>\n",
       "      <td>1.700000</td>\n",
       "      <td>0.5</td>\n",
       "      <td>Iris-setosa</td>\n",
       "    </tr>\n",
       "    <tr>\n",
       "      <th>24</th>\n",
       "      <td>4.8</td>\n",
       "      <td>3.423404</td>\n",
       "      <td>1.900000</td>\n",
       "      <td>0.2</td>\n",
       "      <td>Iris-setosa</td>\n",
       "    </tr>\n",
       "    <tr>\n",
       "      <th>30</th>\n",
       "      <td>4.8</td>\n",
       "      <td>3.100000</td>\n",
       "      <td>1.446809</td>\n",
       "      <td>0.2</td>\n",
       "      <td>Iris-setosa</td>\n",
       "    </tr>\n",
       "  </tbody>\n",
       "</table>\n",
       "</div>"
      ],
      "text/plain": [
       "    comprimento_sepala  largura_sepala  comprimento_petala  largura_petala  \\\n",
       "23                 5.1        3.423404            1.700000             0.5   \n",
       "24                 4.8        3.423404            1.900000             0.2   \n",
       "30                 4.8        3.100000            1.446809             0.2   \n",
       "\n",
       "         classe  \n",
       "23  Iris-setosa  \n",
       "24  Iris-setosa  \n",
       "30  Iris-setosa  "
      ]
     },
     "execution_count": 22,
     "metadata": {},
     "output_type": "execute_result"
    }
   ],
   "source": [
    "new_dataset.loc[idxRowNaN]"
   ]
  },
  {
   "cell_type": "markdown",
   "metadata": {},
   "source": [
    "# Tratamento de dados inconsistentes ou redundantes\n",
    "\n",
    "Outro passo importante, é verificar se existem dados inconsistentes ou redundantes. A forma mais comum de inconsistência é quando há amostras representadas por atributos com todos os valores iguais, mas com classes diferentes. A redundância é dada pela repetição de linhas na base de dados.\n",
    "\n",
    "A seguir, vamos verificar se existem amostras duplicadas (redundantes) e inconsistentes."
   ]
  },
  {
   "cell_type": "code",
   "execution_count": 23,
   "metadata": {},
   "outputs": [
    {
     "name": "stdout",
     "output_type": "stream",
     "text": [
      "\n",
      "Amostras redundantes ou inconsistentes:\n"
     ]
    },
    {
     "data": {
      "text/html": [
       "<div>\n",
       "<style scoped>\n",
       "    .dataframe tbody tr th:only-of-type {\n",
       "        vertical-align: middle;\n",
       "    }\n",
       "\n",
       "    .dataframe tbody tr th {\n",
       "        vertical-align: top;\n",
       "    }\n",
       "\n",
       "    .dataframe thead th {\n",
       "        text-align: right;\n",
       "    }\n",
       "</style>\n",
       "<table border=\"1\" class=\"dataframe\">\n",
       "  <thead>\n",
       "    <tr style=\"text-align: right;\">\n",
       "      <th></th>\n",
       "      <th>comprimento_sepala</th>\n",
       "      <th>largura_sepala</th>\n",
       "      <th>comprimento_petala</th>\n",
       "      <th>largura_petala</th>\n",
       "      <th>classe</th>\n",
       "    </tr>\n",
       "  </thead>\n",
       "  <tbody>\n",
       "    <tr>\n",
       "      <th>9</th>\n",
       "      <td>4.9</td>\n",
       "      <td>3.1</td>\n",
       "      <td>1.5</td>\n",
       "      <td>0.1</td>\n",
       "      <td>Iris-setosa</td>\n",
       "    </tr>\n",
       "    <tr>\n",
       "      <th>34</th>\n",
       "      <td>4.9</td>\n",
       "      <td>3.1</td>\n",
       "      <td>1.5</td>\n",
       "      <td>0.1</td>\n",
       "      <td>Iris-setosa</td>\n",
       "    </tr>\n",
       "    <tr>\n",
       "      <th>37</th>\n",
       "      <td>4.9</td>\n",
       "      <td>3.1</td>\n",
       "      <td>1.5</td>\n",
       "      <td>0.1</td>\n",
       "      <td>Iris-setosa</td>\n",
       "    </tr>\n",
       "    <tr>\n",
       "      <th>49</th>\n",
       "      <td>5.0</td>\n",
       "      <td>3.3</td>\n",
       "      <td>1.4</td>\n",
       "      <td>0.2</td>\n",
       "      <td>Iris-setosa</td>\n",
       "    </tr>\n",
       "    <tr>\n",
       "      <th>50</th>\n",
       "      <td>5.0</td>\n",
       "      <td>3.3</td>\n",
       "      <td>1.4</td>\n",
       "      <td>0.2</td>\n",
       "      <td>Iris-versicolor</td>\n",
       "    </tr>\n",
       "    <tr>\n",
       "      <th>102</th>\n",
       "      <td>5.8</td>\n",
       "      <td>2.7</td>\n",
       "      <td>5.1</td>\n",
       "      <td>1.9</td>\n",
       "      <td>Iris-virginica</td>\n",
       "    </tr>\n",
       "    <tr>\n",
       "      <th>123</th>\n",
       "      <td>7.7</td>\n",
       "      <td>2.8</td>\n",
       "      <td>6.7</td>\n",
       "      <td>2.0</td>\n",
       "      <td>Iris-virginica</td>\n",
       "    </tr>\n",
       "    <tr>\n",
       "      <th>124</th>\n",
       "      <td>7.7</td>\n",
       "      <td>2.8</td>\n",
       "      <td>6.7</td>\n",
       "      <td>2.0</td>\n",
       "      <td>Iris-virginica</td>\n",
       "    </tr>\n",
       "    <tr>\n",
       "      <th>144</th>\n",
       "      <td>5.8</td>\n",
       "      <td>2.7</td>\n",
       "      <td>5.1</td>\n",
       "      <td>1.9</td>\n",
       "      <td>Iris-virginica</td>\n",
       "    </tr>\n",
       "  </tbody>\n",
       "</table>\n",
       "</div>"
      ],
      "text/plain": [
       "     comprimento_sepala  largura_sepala  comprimento_petala  largura_petala  \\\n",
       "9                   4.9             3.1                 1.5             0.1   \n",
       "34                  4.9             3.1                 1.5             0.1   \n",
       "37                  4.9             3.1                 1.5             0.1   \n",
       "49                  5.0             3.3                 1.4             0.2   \n",
       "50                  5.0             3.3                 1.4             0.2   \n",
       "102                 5.8             2.7                 5.1             1.9   \n",
       "123                 7.7             2.8                 6.7             2.0   \n",
       "124                 7.7             2.8                 6.7             2.0   \n",
       "144                 5.8             2.7                 5.1             1.9   \n",
       "\n",
       "              classe  \n",
       "9        Iris-setosa  \n",
       "34       Iris-setosa  \n",
       "37       Iris-setosa  \n",
       "49       Iris-setosa  \n",
       "50   Iris-versicolor  \n",
       "102   Iris-virginica  \n",
       "123   Iris-virginica  \n",
       "124   Iris-virginica  \n",
       "144   Iris-virginica  "
      ]
     },
     "metadata": {},
     "output_type": "display_data"
    }
   ],
   "source": [
    "df_duplicates = new_dataset[ new_dataset.duplicated(subset=['comprimento_sepala','largura_sepala','comprimento_petala','largura_petala'],keep=False)] \n",
    "\n",
    "# se houver valores redundantes ou inconsistentes, imprima \n",
    "if len(df_duplicates)>0:\n",
    "    print('\\nAmostras redundantes ou inconsistentes:')\n",
    "    display(df_duplicates)\n",
    "else:\n",
    "    print('Não existem valores duplicados')"
   ]
  },
  {
   "cell_type": "markdown",
   "metadata": {},
   "source": [
    "Como podemos ver, existem algumas amostras redundantes (duplicadas) e outras inconsistentes (amostras iguais, mas com classes distintas). "
   ]
  },
  {
   "cell_type": "markdown",
   "metadata": {},
   "source": [
    "### Exercício\n",
    "5. Remova as instâncias redudantes e as instâncias inconsistentes."
   ]
  },
  {
   "cell_type": "code",
   "execution_count": 24,
   "metadata": {
    "scrolled": true
   },
   "outputs": [],
   "source": [
    "new_dataset = new_dataset.drop_duplicates()\n",
    "df_duplicates = new_dataset[ new_dataset.duplicated(subset=['comprimento_sepala','largura_sepala','comprimento_petala','largura_petala'],keep=False)] \n",
    "new_dataset = new_dataset.drop(labels=df_duplicates.index)\n"
   ]
  },
  {
   "cell_type": "markdown",
   "metadata": {},
   "source": [
    "Abaixo podemos verificar se ainda existem amostras redudantes ou incosistentes."
   ]
  },
  {
   "cell_type": "code",
   "execution_count": 25,
   "metadata": {},
   "outputs": [
    {
     "name": "stdout",
     "output_type": "stream",
     "text": [
      "Não existem amostras redundantes ou inconsistentes\n"
     ]
    }
   ],
   "source": [
    "# obtém apenas as amostras onde os valores dos atributos estão duplicados\n",
    "df_duplicates = new_dataset[ new_dataset.duplicated(subset=['comprimento_sepala','largura_sepala','comprimento_petala','largura_petala'],keep=False)] \n",
    "\n",
    "# se tiver valores redundantes ou inconsistentes, imprime \n",
    "if len(df_duplicates)>0:\n",
    "    display(df_duplicates)\n",
    "else:\n",
    "    print('Não existem amostras redundantes ou inconsistentes')\n",
    "    "
   ]
  },
  {
   "cell_type": "markdown",
   "metadata": {},
   "source": [
    "# Normalização dos atributos\n",
    "\n",
    "Agora, vamos gerar algumas estatísticas sobre a base de dados.\n",
    "\n",
    "A função `describe()` da biblioteca `Pandas` sumariza as principais estatísticas sobre os dados de um *data frame*, como a média, o desvio padrão, valor máximo, valor mínimo e alguns percentis.\n",
    "\n"
   ]
  },
  {
   "cell_type": "code",
   "execution_count": 26,
   "metadata": {},
   "outputs": [
    {
     "data": {
      "text/html": [
       "<div>\n",
       "<style scoped>\n",
       "    .dataframe tbody tr th:only-of-type {\n",
       "        vertical-align: middle;\n",
       "    }\n",
       "\n",
       "    .dataframe tbody tr th {\n",
       "        vertical-align: top;\n",
       "    }\n",
       "\n",
       "    .dataframe thead th {\n",
       "        text-align: right;\n",
       "    }\n",
       "</style>\n",
       "<table border=\"1\" class=\"dataframe\">\n",
       "  <thead>\n",
       "    <tr style=\"text-align: right;\">\n",
       "      <th></th>\n",
       "      <th>id_planta</th>\n",
       "      <th>comprimento_sepala</th>\n",
       "      <th>largura_sepala</th>\n",
       "      <th>comprimento_petala</th>\n",
       "      <th>largura_petala</th>\n",
       "    </tr>\n",
       "  </thead>\n",
       "  <tbody>\n",
       "    <tr>\n",
       "      <th>count</th>\n",
       "      <td>152.000000</td>\n",
       "      <td>152.000000</td>\n",
       "      <td>150.000000</td>\n",
       "      <td>151.000000</td>\n",
       "      <td>152.000000</td>\n",
       "    </tr>\n",
       "    <tr>\n",
       "      <th>mean</th>\n",
       "      <td>74.644737</td>\n",
       "      <td>5.942105</td>\n",
       "      <td>3.182000</td>\n",
       "      <td>3.776821</td>\n",
       "      <td>1.197368</td>\n",
       "    </tr>\n",
       "    <tr>\n",
       "      <th>std</th>\n",
       "      <td>43.378880</td>\n",
       "      <td>1.479284</td>\n",
       "      <td>1.692545</td>\n",
       "      <td>1.776455</td>\n",
       "      <td>0.765216</td>\n",
       "    </tr>\n",
       "    <tr>\n",
       "      <th>min</th>\n",
       "      <td>0.000000</td>\n",
       "      <td>4.300000</td>\n",
       "      <td>2.000000</td>\n",
       "      <td>1.000000</td>\n",
       "      <td>0.100000</td>\n",
       "    </tr>\n",
       "    <tr>\n",
       "      <th>25%</th>\n",
       "      <td>37.750000</td>\n",
       "      <td>5.100000</td>\n",
       "      <td>2.800000</td>\n",
       "      <td>1.550000</td>\n",
       "      <td>0.300000</td>\n",
       "    </tr>\n",
       "    <tr>\n",
       "      <th>50%</th>\n",
       "      <td>74.500000</td>\n",
       "      <td>5.800000</td>\n",
       "      <td>3.000000</td>\n",
       "      <td>4.400000</td>\n",
       "      <td>1.300000</td>\n",
       "    </tr>\n",
       "    <tr>\n",
       "      <th>75%</th>\n",
       "      <td>112.250000</td>\n",
       "      <td>6.400000</td>\n",
       "      <td>3.300000</td>\n",
       "      <td>5.100000</td>\n",
       "      <td>1.800000</td>\n",
       "    </tr>\n",
       "    <tr>\n",
       "      <th>max</th>\n",
       "      <td>149.000000</td>\n",
       "      <td>20.900000</td>\n",
       "      <td>23.100000</td>\n",
       "      <td>6.900000</td>\n",
       "      <td>2.500000</td>\n",
       "    </tr>\n",
       "  </tbody>\n",
       "</table>\n",
       "</div>"
      ],
      "text/plain": [
       "        id_planta  comprimento_sepala  largura_sepala  comprimento_petala  \\\n",
       "count  152.000000          152.000000      150.000000          151.000000   \n",
       "mean    74.644737            5.942105        3.182000            3.776821   \n",
       "std     43.378880            1.479284        1.692545            1.776455   \n",
       "min      0.000000            4.300000        2.000000            1.000000   \n",
       "25%     37.750000            5.100000        2.800000            1.550000   \n",
       "50%     74.500000            5.800000        3.000000            4.400000   \n",
       "75%    112.250000            6.400000        3.300000            5.100000   \n",
       "max    149.000000           20.900000       23.100000            6.900000   \n",
       "\n",
       "       largura_petala  \n",
       "count      152.000000  \n",
       "mean         1.197368  \n",
       "std          0.765216  \n",
       "min          0.100000  \n",
       "25%          0.300000  \n",
       "50%          1.300000  \n",
       "75%          1.800000  \n",
       "max          2.500000  "
      ]
     },
     "execution_count": 26,
     "metadata": {},
     "output_type": "execute_result"
    }
   ],
   "source": [
    "# apresenta as principais estatísticas da base de dados\n",
    "df_detalhes = df_dataset.describe()\n",
    "\n",
    "df_detalhes"
   ]
  },
  {
   "cell_type": "markdown",
   "metadata": {},
   "source": [
    "\n",
    "Observe que a média do atributo `comprimento_sepala` é bastante superior a média do atributo `largura_petala`. Diante disso, está claro que a escala dos atributos é diferente, o que pode prejudicar alguns métodos de aprendizado de máquina."
   ]
  },
  {
   "cell_type": "markdown",
   "metadata": {},
   "source": [
    "### Exercício\n",
    "6. Normalize os valores de todos atributos numéricos utilizando a técnica de normalização z-score (standardizaton)."
   ]
  },
  {
   "cell_type": "code",
   "execution_count": 28,
   "metadata": {},
   "outputs": [],
   "source": [
    "new_dataset['comprimento_sepala'] = (new_dataset['comprimento_sepala'] \\\n",
    "                                    - new_dataset['comprimento_sepala'].mean()) \\\n",
    "                                    / new_dataset['comprimento_sepala'].std()\n",
    "\n",
    "new_dataset['largura_petala'] = (new_dataset['largura_petala'] \\\n",
    "                                - new_dataset['largura_petala'].mean()) \\\n",
    "                                / new_dataset['largura_petala'].std()"
   ]
  },
  {
   "cell_type": "markdown",
   "metadata": {},
   "source": [
    "Agora que os dados estão normalizados, vamos analisar as informações estatísticas novamente."
   ]
  },
  {
   "cell_type": "code",
   "execution_count": 29,
   "metadata": {},
   "outputs": [
    {
     "data": {
      "text/html": [
       "<div>\n",
       "<style scoped>\n",
       "    .dataframe tbody tr th:only-of-type {\n",
       "        vertical-align: middle;\n",
       "    }\n",
       "\n",
       "    .dataframe tbody tr th {\n",
       "        vertical-align: top;\n",
       "    }\n",
       "\n",
       "    .dataframe thead th {\n",
       "        text-align: right;\n",
       "    }\n",
       "</style>\n",
       "<table border=\"1\" class=\"dataframe\">\n",
       "  <thead>\n",
       "    <tr style=\"text-align: right;\">\n",
       "      <th></th>\n",
       "      <th>comprimento_sepala</th>\n",
       "      <th>largura_sepala</th>\n",
       "      <th>comprimento_petala</th>\n",
       "      <th>largura_petala</th>\n",
       "    </tr>\n",
       "  </thead>\n",
       "  <tbody>\n",
       "    <tr>\n",
       "      <th>count</th>\n",
       "      <td>146.000000</td>\n",
       "      <td>146.000000</td>\n",
       "      <td>146.000000</td>\n",
       "      <td>146.000000</td>\n",
       "    </tr>\n",
       "    <tr>\n",
       "      <th>mean</th>\n",
       "      <td>0.000000</td>\n",
       "      <td>3.190732</td>\n",
       "      <td>3.795526</td>\n",
       "      <td>-0.000000</td>\n",
       "    </tr>\n",
       "    <tr>\n",
       "      <th>std</th>\n",
       "      <td>1.000000</td>\n",
       "      <td>1.715100</td>\n",
       "      <td>1.755356</td>\n",
       "      <td>1.000000</td>\n",
       "    </tr>\n",
       "    <tr>\n",
       "      <th>min</th>\n",
       "      <td>-1.110451</td>\n",
       "      <td>2.000000</td>\n",
       "      <td>1.000000</td>\n",
       "      <td>-1.476211</td>\n",
       "    </tr>\n",
       "    <tr>\n",
       "      <th>25%</th>\n",
       "      <td>-0.574719</td>\n",
       "      <td>2.800000</td>\n",
       "      <td>1.600000</td>\n",
       "      <td>-1.211599</td>\n",
       "    </tr>\n",
       "    <tr>\n",
       "      <th>50%</th>\n",
       "      <td>-0.105954</td>\n",
       "      <td>3.000000</td>\n",
       "      <td>4.400000</td>\n",
       "      <td>0.111463</td>\n",
       "    </tr>\n",
       "    <tr>\n",
       "      <th>75%</th>\n",
       "      <td>0.295845</td>\n",
       "      <td>3.400000</td>\n",
       "      <td>5.100000</td>\n",
       "      <td>0.772995</td>\n",
       "    </tr>\n",
       "    <tr>\n",
       "      <th>max</th>\n",
       "      <td>10.005986</td>\n",
       "      <td>23.100000</td>\n",
       "      <td>6.900000</td>\n",
       "      <td>1.699138</td>\n",
       "    </tr>\n",
       "  </tbody>\n",
       "</table>\n",
       "</div>"
      ],
      "text/plain": [
       "       comprimento_sepala  largura_sepala  comprimento_petala  largura_petala\n",
       "count          146.000000      146.000000          146.000000      146.000000\n",
       "mean             0.000000        3.190732            3.795526       -0.000000\n",
       "std              1.000000        1.715100            1.755356        1.000000\n",
       "min             -1.110451        2.000000            1.000000       -1.476211\n",
       "25%             -0.574719        2.800000            1.600000       -1.211599\n",
       "50%             -0.105954        3.000000            4.400000        0.111463\n",
       "75%              0.295845        3.400000            5.100000        0.772995\n",
       "max             10.005986       23.100000            6.900000        1.699138"
      ]
     },
     "metadata": {},
     "output_type": "display_data"
    }
   ],
   "source": [
    "# apresenta as principais estatísticas da base de dados\n",
    "df_detalhes = new_dataset.describe()\n",
    "display(df_detalhes.round(8))"
   ]
  },
  {
   "cell_type": "markdown",
   "metadata": {},
   "source": [
    "Podemos ver acima que a média (*mean*) ficou igual a 0 e o desvio padrão (*std*) igual a 1. "
   ]
  },
  {
   "cell_type": "markdown",
   "metadata": {},
   "source": [
    "# Detecção de *outliers*\n",
    "\n",
    "Outro passo importante na análise e tratamento dos dados é a detecção de *outliers* (*i.e.*, dados gerados por leituras incorretas, erros de digitação, etc). \n",
    "\n",
    "Uma das maneiras mais simples de verificar se os dados contém *outliers* é criar um gráfico box plot de cada atributo. Para isso, podemos usar a função `boxplot` da biblioteca `Pandas`."
   ]
  },
  {
   "cell_type": "code",
   "execution_count": null,
   "metadata": {},
   "outputs": [],
   "source": [
    "# gera um bloxplot para cada atributo\n",
    "df_dataset.boxplot(figsize=(15,7))\n",
    "plt.show()"
   ]
  },
  {
   "cell_type": "markdown",
   "metadata": {},
   "source": [
    "O box plot está indicando que os atributos `comprimento_sepala` e `largura_sepala` possuem *outliers*, o que pode prejudicar o desempenho de vários métodos de aprendizado de máquina, pois provavelmente tratam-se de amostras com valores de atributos incorretos. "
   ]
  },
  {
   "cell_type": "markdown",
   "metadata": {},
   "source": [
    "Outra forma de analisar se a base de dados contém *outliers* é usar gráficos de dispersão. Podemos plotar gráficos de dispersão a partir dos _dataframes_ utilizando a biblioteca `Seaborn`. Juntamente com essa biblioteca, também é recomendável importar a biblioteca `Matplotlib` para personalizar os gráficos."
   ]
  },
  {
   "cell_type": "code",
   "execution_count": null,
   "metadata": {
    "scrolled": true
   },
   "outputs": [],
   "source": [
    "# matriz de gráficos scatter \n",
    "sns.pairplot(df_dataset, hue='classe', height=3.5)\n",
    "\n",
    "# mostra o gráfico usando a função show() da matplotlib\n",
    "plt.show()"
   ]
  },
  {
   "cell_type": "markdown",
   "metadata": {},
   "source": [
    "Observando os gráficos de dispersão, é fácil perceber que existem duas amostras da classe *Iris-virginica* que estão deslocadas no espaço em relação às demais amostras.\n",
    "\n",
    "Pelos gráficos, os *outliers* parecem ser mais visíveis na combinação dos atributos `comprimento_sepala` e `largura_sepala`. Então, vamos usar a função `lmplot` da biblioteca `Seaborn`para visualizar a combinação desses dois atributos."
   ]
  },
  {
   "cell_type": "code",
   "execution_count": null,
   "metadata": {},
   "outputs": [],
   "source": [
    "# define o scatter plot\n",
    "sns.lmplot(x='comprimento_sepala', y='largura_sepala', data=df_dataset, \n",
    "           fit_reg=False,  \n",
    "           hue='classe')\n",
    "\n",
    "# cria um título para o gráfico\n",
    "plt.title('Comprimento vs largura da sepala')\n",
    "\n",
    "# mostra o gráfico\n",
    "plt.show()"
   ]
  },
  {
   "cell_type": "markdown",
   "metadata": {},
   "source": [
    "Pelos gráficos vistos até o momento, fica claro que um dos *outliers* possui um alto valor no atributo `largura_sepala`. Já o segundo outlier contém um alto valor no atributo `comprimento_sepala`. \n",
    "\n",
    "A bilioteca `Seaborn` permite criar gráficos boxplot agrupados por um determinado atributo, o que facilita a análise dos dados. No exemplo abaixo, criaremos boxplots para cada atributo agrupados pela classe."
   ]
  },
  {
   "cell_type": "code",
   "execution_count": null,
   "metadata": {},
   "outputs": [],
   "source": [
    "for atributo in df_dataset.columns[:-1]:\n",
    "    # define a dimensão do gráfico\n",
    "    plt.figure(figsize=(8,8))\n",
    "\n",
    "    # cria o boxplot\n",
    "    sns.boxplot(x=\"classe\", y=atributo, data=df_dataset, whis=1.5)\n",
    "\n",
    "    # mostra o gráfico\n",
    "    plt.show()"
   ]
  },
  {
   "cell_type": "markdown",
   "metadata": {},
   "source": [
    "Os box plots dos atributos mostraram outros *outliers* que não haviam aparecido no primeiro box plot. Portanto, esses novos valores são considerados *outliers* se analisarmos as classes individualmente, mas não são considerados *outliers* se analisarmos a base de dados de forma geral. \n",
    "\n",
    "Outro tipo de gráfico que ajuda a detectar *outliers* é o histograma. Portanto, vamos usá-lo para analisar cada atributo."
   ]
  },
  {
   "cell_type": "code",
   "execution_count": null,
   "metadata": {},
   "outputs": [],
   "source": [
    "for atributo in df_dataset.columns[:-1]:\n",
    "    \n",
    "    # cria o histograma\n",
    "    n, bins, patches = plt.hist(df_dataset[atributo].values,bins=10, color='red', edgecolor='black', linewidth=0.9)\n",
    "\n",
    "    # cria um título para o gráfico\n",
    "    plt.title(atributo)\n",
    "\n",
    "    # mostra o gráfico\n",
    "    plt.show()"
   ]
  },
  {
   "cell_type": "markdown",
   "metadata": {},
   "source": [
    "Nos histogramas, os *outliers* mais evidentes estão nos atributos `comprimento_sepala` e `largura_sepala`."
   ]
  },
  {
   "cell_type": "markdown",
   "metadata": {},
   "source": [
    "Uma das maneiras mais simples de tratar *outliers* é remover aqueles valores que são menores que $Q1 - 1.5 * IQR$ ou maiores que $Q3 + 1.5 * IQR$, onde $Q1$ é o primeiro quartil, $Q3$ é o terceiro quartil e $IQR$ é o intervalo interquartil. O IQR pode ser calculado pela seguinte equação: $IQR = Q3-Q1$. "
   ]
  },
  {
   "cell_type": "markdown",
   "metadata": {},
   "source": [
    "### Exercício"
   ]
  },
  {
   "cell_type": "markdown",
   "metadata": {},
   "source": [
    "6. Remova as instâncias consideradas outliers do dataset. Vamos considerar como outliers valores que são menores que $Q1 - 1.5 * IQR$ ou maiores que $Q3 + 1.5 * IQR$. Utilize como base o IQR de cada atributo em relação a todos os valores na base de dados, em vez do IQR individual de cada classe."
   ]
  },
  {
   "cell_type": "code",
   "execution_count": null,
   "metadata": {},
   "outputs": [],
   "source": [
    "#Remova outliers aqui"
   ]
  },
  {
   "cell_type": "markdown",
   "metadata": {},
   "source": [
    "Depois da remoção, se analizarmos o box plot e os gráficos de dispersão deveremos observar que não há mais nenhum *outlier* na base de dados. \n",
    "\n",
    "Abaixo vamos plotar os gráficos novamente."
   ]
  },
  {
   "cell_type": "code",
   "execution_count": null,
   "metadata": {},
   "outputs": [],
   "source": [
    "# apresenta as principais estatísticas sobre a base de dados\n",
    "df_dataset.boxplot(figsize=(15,7))\n",
    "plt.show()\n",
    "\n",
    "# matriz de gráficos scatter \n",
    "sns.pairplot(df_dataset, hue='classe', height=3.5)\n",
    "\n",
    "# mostra o gráfico usando a função show() da matplotlib\n",
    "plt.show()"
   ]
  },
  {
   "cell_type": "markdown",
   "metadata": {},
   "source": [
    "Com os novos gráficos de dispersão, também é possível perceber que a classe *Iris-setosa* é mais fácil de identificar, pois está mais separada no espaço de atributos. Por outro lado, em várias combinações de atributos, as classes *Iris-versicolor* e *Iris-virginica* se misturam."
   ]
  },
  {
   "cell_type": "markdown",
   "metadata": {},
   "source": [
    "**IMPORTANTE:** antes de realizar a remoção de *outliers*, é mandatório analisar cuidadosamente as características das amostras antes de removê-las. Em alguns casos, remover os *outliers* pode ser prejudicial. Além disso, algumas tarefas de aprendizado de máquina são voltadas para a detecção de *outliers* e, portanto, esses dados não podem ser removidos. Adicionalmente, se a base de dados for desbalanceada, a remoção dos *outliers* com base nas estatísticas de toda a base, pode acabar removendo amostras da classe minoritária (aquela que possui menos amostras). Ainda, alguns métodos de classificação, tais como métodos baseados em *ensemble* e métodos baseados em árvores, costumam ser robustos a *outliers*. Diante disso, em alguns problemas, é recomendável remover apenas aqueles *outliers* que são claramente erros de leitura/digitação, isto é, valores que estão fora dos limites aceitáveis para o que é esperado para um determinado atributo (por exemplo, uma pessoa com 500 anos ou um bebê com 300 kg). "
   ]
  },
  {
   "cell_type": "markdown",
   "metadata": {},
   "source": [
    "\n",
    "## Distribuição das classes\n",
    "\n",
    "Outro passo importante na análise de dados é verificar a distribuição das classes. Para isso, é possível criar um gráfico de barra indicando quantas amostras de cada classe há na base de dados."
   ]
  },
  {
   "cell_type": "code",
   "execution_count": null,
   "metadata": {},
   "outputs": [],
   "source": [
    "print( df_dataset['classe'].value_counts())\n",
    "\n",
    "# cria um gráfico de barras com a frequência de cada classe\n",
    "sns.countplot(x=\"classe\", data=df_dataset)\n",
    "\n",
    "# mostra o gráfico\n",
    "plt.show()"
   ]
  },
  {
   "cell_type": "markdown",
   "metadata": {},
   "source": [
    "Conforme podemos ver acima, as 3 classes possuem aproximadamente 50 instâncias cada uma, ou seja, temos um dataset balanceado. Se o número de exemplos em alguma das classes fosse muito superior às demais, teríamos que usar alguma técnica de balanceamento de classes, pois o modelo gerado pela maioira dos métodos de aprendizado supervisionado costuma ser tendencioso para as classes com maior número de amostras. "
   ]
  },
  {
   "cell_type": "markdown",
   "metadata": {},
   "source": [
    "## Correlação entre os atributos\n",
    "\n",
    "Quando dois atributos possuem valores idênticos ou muito semelhantes para todas as amostras, um deles deve ser eliminado ou eles devem ser combinados. Isso ajuda a diminuir o custo computacional das tarefas de aprendizado e evita que o aprendizado de alguns método seja prejudicado, principalmente os métodos baseados em otimização.\n",
    "\n",
    "Uma das maneiras mais comuns de analisar a correlação dos dados é através das matrizes de correlação e covariância. Podemos fazer isso usando as funções nativas de correlação e covariância da bilioteca `Pandas`."
   ]
  },
  {
   "cell_type": "code",
   "execution_count": null,
   "metadata": {},
   "outputs": [],
   "source": [
    "# matriz de covariancia\n",
    "df_covariance = df_dataset[[\"comprimento_sepala\",\"comprimento_petala\",\n",
    "                            \"largura_sepala\", \"largura_petala\"]].cov()\n",
    "\n",
    "# matriz de correlação\n",
    "df_correlation = df_dataset[[\"comprimento_sepala\",\"comprimento_petala\",\n",
    "                            \"largura_sepala\", \"largura_petala\"]].corr()\n",
    "\n",
    "print('Matriz de covariância: ')\n",
    "display(df_covariance)\n",
    "\n",
    "print('\\n\\nMatriz de correlação: ')\n",
    "display(df_correlation)"
   ]
  },
  {
   "cell_type": "markdown",
   "metadata": {},
   "source": [
    "Podemos ver que os atributos `comprimento_petala` e `largura_petala` possuem alta covariância e alta correlação. Se o problema que estamos analisando tivesse muitos atributos, poderíamos pensar na possibilidade de combinar esses dois atributos. Se a correlação entre dois atributos for igual a 1 ou -1, significa que eles são redundantes e um deles poderia ser eliminado."
   ]
  },
  {
   "cell_type": "markdown",
   "metadata": {},
   "source": [
    "É importante notar que a alta correlação entre dois atributos não significa que um deles influencia no valor do outro. Veja alguns exemplos que mostram isso em <http://www.tylervigen.com/spurious-correlations>."
   ]
  },
  {
   "cell_type": "markdown",
   "metadata": {},
   "source": [
    "---\n",
    "## Referências\n",
    "\n",
    "[1] R. A. Fisher. The use of multiple measurements in taxonomic problems. Annual Eugenics, 7, Part II, 179-188 (1936). DOI: [10.1111/j.1469-1809.1936.tb02137.x](http://dx.doi.org/10.1111/j.1469-1809.1936.tb02137.x).\n",
    "\n",
    "[2] Faceli, Katti, et al. Inteligência artificial: uma abordagem de aprendizado de máquina. (2021).\n",
    "---"
   ]
  }
 ],
 "metadata": {
  "kernelspec": {
   "display_name": "dataprep",
   "language": "python",
   "name": "python3"
  },
  "language_info": {
   "codemirror_mode": {
    "name": "ipython",
    "version": 3
   },
   "file_extension": ".py",
   "mimetype": "text/x-python",
   "name": "python",
   "nbconvert_exporter": "python",
   "pygments_lexer": "ipython3",
   "version": "3.12.3"
  }
 },
 "nbformat": 4,
 "nbformat_minor": 4
}
