{
 "cells": [
  {
   "cell_type": "markdown",
   "metadata": {},
   "source": [
    "# Trabalho Final\n",
    "\n",
    "## Coleta Preparação e Análise de Dados\n",
    "\n",
    "#### Aléxia de Jesus Dorneles Pereira, Arthur Land Avila, Gustavo Giongo Lottermann, Matheus Gonzaga Krebs e Vicente Hofmeister"
   ]
  },
  {
   "cell_type": "markdown",
   "metadata": {},
   "source": [
    "Trabalho feito utilizando [biblioteca Pysus](https://github.com/AlertaDengue/PySUS/tree/main). Caso necessário, confira a [documentação](https://pysus.readthedocs.io/en/latest/)."
   ]
  },
  {
   "cell_type": "markdown",
   "metadata": {},
   "source": [
    "## Pysus"
   ]
  },
  {
   "cell_type": "code",
   "execution_count": 1,
   "metadata": {},
   "outputs": [],
   "source": [
    "import os\n",
    "import pandas as pd\n",
    "from pysus.online_data import SINAN as SINAN_Online\n",
    "from pysus.online_data import SINASC as SINASC_Online\n",
    "from pysus.online_data import SIM as SIM_ONLINE\n",
    "from pysus.ftp.databases.sinan import SINAN"
   ]
  },
  {
   "cell_type": "markdown",
   "metadata": {},
   "source": [
    "Import de bibliotecas"
   ]
  },
  {
   "cell_type": "markdown",
   "metadata": {},
   "source": [
    "A sessão de código a seguir salva em listas os anos que os dados de sinan, sinasc e sim estão disponiveis"
   ]
  },
  {
   "cell_type": "code",
   "execution_count": 2,
   "metadata": {},
   "outputs": [],
   "source": [
    "states = ['AC', 'AL', 'AP', 'AM', 'BA', 'CE', 'DF', 'ES', 'GO', 'MA', 'MT', \\\n",
    "          'MS', 'MG', 'PA', 'PB', 'PR', 'PE', 'PI', 'RJ', 'RN', 'RS', 'RO', \\\n",
    "          'RR', 'SC', 'SP', 'SE', 'TO']\n",
    "\n",
    "sinan_years = SINAN_Online.get_available_years(\"DENG\")\n",
    "sinasc_years = SINASC_Online.get_available_years(group= 'DN', states = states)\n",
    "sim_years = SIM_ONLINE.get_available_years(group= 'CID10', states = states)"
   ]
  },
  {
   "cell_type": "markdown",
   "metadata": {},
   "source": [
    "Confere os anos em que todas bases de dados estão disponiveis simultaneamente"
   ]
  },
  {
   "cell_type": "code",
   "execution_count": 3,
   "metadata": {},
   "outputs": [],
   "source": [
    "avaliable_years = []\n",
    "\n",
    "for year in sinan_years:\n",
    "      if year in sinasc_years and year in sim_years:\n",
    "            avaliable_years.append(year)"
   ]
  },
  {
   "cell_type": "markdown",
   "metadata": {},
   "source": [
    "busca arquivos SINAN baseado nos anos definidos em years, descreve-os e realiza download dos datasets"
   ]
  },
  {
   "cell_type": "code",
   "execution_count": 4,
   "metadata": {},
   "outputs": [
    {
     "name": "stdout",
     "output_type": "stream",
     "text": [
      "{'name': 'DENGBR12.dbc', 'disease': 'Dengue', 'year': 2012, 'size': '31.3 MB', 'last_update': '2022-02-22 10:28AM'}\n",
      "{'name': 'DENGBR13.dbc', 'disease': 'Dengue', 'year': 2013, 'size': '65.5 MB', 'last_update': '2022-02-18 10:03AM'}\n",
      "{'name': 'DENGBR14.dbc', 'disease': 'Dengue', 'year': 2014, 'size': '42.7 MB', 'last_update': '2021-11-23 12:15PM'}\n",
      "{'name': 'DENGBR15.dbc', 'disease': 'Dengue', 'year': 2015, 'size': '109.2 MB', 'last_update': '2021-11-23 12:15PM'}\n",
      "{'name': 'DENGBR16.dbc', 'disease': 'Dengue', 'year': 2016, 'size': '99.4 MB', 'last_update': '2021-11-23 12:16PM'}\n",
      "{'name': 'DENGBR17.dbc', 'disease': 'Dengue', 'year': 2017, 'size': '22.9 MB', 'last_update': '2021-11-23 12:16PM'}\n",
      "{'name': 'DENGBR18.dbc', 'disease': 'Dengue', 'year': 2018, 'size': '21.3 MB', 'last_update': '2021-11-23 12:16PM'}\n",
      "{'name': 'DENGBR19.dbc', 'disease': 'Dengue', 'year': 2019, 'size': '110.2 MB', 'last_update': '2021-11-23 12:17PM'}\n",
      "{'name': 'DENGBR20.dbc', 'disease': 'Dengue', 'year': 2020, 'size': '73.8 MB', 'last_update': '2022-02-23 12:06PM'}\n",
      "{'name': 'DENGBR21.dbc', 'disease': 'Dengue', 'year': 2021, 'size': '42.9 MB', 'last_update': '2023-05-11 11:10AM'}\n",
      "{'name': 'DENGBR22.dbc', 'disease': 'Dengue', 'year': 2022, 'size': '62.2 MB', 'last_update': '2023-08-21 03:20PM'}\n"
     ]
    }
   ],
   "source": [
    "years = [2012, 2013, 2014, 2015, 2016, 2017, 2018, 2019, 2020, 2021, 2022]\n",
    "sinan = SINAN().load()\n",
    "sinan_files = sinan.get_files(dis_code=['DENG'], year=years)\n",
    "\n",
    "for file in sinan_files:\n",
    "      print(sinan.describe(file))\n",
    "\n",
    "parquet_path = os.getcwd() + \"/Data/Parquet/\"\n",
    "# sinan.download(sinan_files, local_dir=parquet_path)"
   ]
  },
  {
   "cell_type": "code",
   "execution_count": 12,
   "metadata": {},
   "outputs": [
    {
     "name": "stdout",
     "output_type": "stream",
     "text": [
      "DENGBR12.parquet\n",
      "DENGBR15.parquet\n",
      "DENGBR20.parquet\n",
      "DENGBR21.parquet\n",
      "DENGBR19.parquet\n",
      "DENGBR13.parquet\n",
      "DENGBR16.parquet\n",
      "DENGBR22.parquet\n",
      "DENGBR18.parquet\n",
      "DENGBR14.parquet\n",
      "DENGBR17.parquet\n"
     ]
    }
   ],
   "source": [
    "csv_path = os.getcwd() + '/Data/CSV/'\n",
    "files_names = os.listdir(parquet_path)\n",
    "for file in files_names:\n",
    "      df = pd.read_parquet(path= parquet_path + file)\n",
    "      print(file)\n",
    "      df.to_csv(path_or_buf = (csv_path + file.replace('.parquet', '.csv')), sep = ';')\n",
    "      \n",
    "      parquet_files = os.listdir(parquet_path + file)\n",
    "      for pFile in parquet_files:\n",
    "            os.remove(parquet_path + file + '/' + pFile)      \n",
    "      os.rmdir(parquet_path + file)\n"
   ]
  }
 ],
 "metadata": {
  "kernelspec": {
   "display_name": "Python 3",
   "language": "python",
   "name": "python3"
  },
  "language_info": {
   "codemirror_mode": {
    "name": "ipython",
    "version": 3
   },
   "file_extension": ".py",
   "mimetype": "text/x-python",
   "name": "python",
   "nbconvert_exporter": "python",
   "pygments_lexer": "ipython3",
   "version": "3.10.12"
  }
 },
 "nbformat": 4,
 "nbformat_minor": 2
}
