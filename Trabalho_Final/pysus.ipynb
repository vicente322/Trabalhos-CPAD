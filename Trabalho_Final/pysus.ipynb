{
 "cells": [
  {
   "cell_type": "markdown",
   "metadata": {},
   "source": [
    "# Trabalho Final\n",
    "\n",
    "## Coleta Preparação e Análise de Dados\n",
    "\n",
    "#### Aléxia de Jesus Dorneles Pereira, Arthur Land Avila, Gustavo Giongo Lottermann, Matheus Gonzaga Krebs e Vicente Hofmeister"
   ]
  },
  {
   "cell_type": "markdown",
   "metadata": {},
   "source": [
    "Trabalho feito utilizando [biblioteca Pysus](https://github.com/AlertaDengue/PySUS/tree/main). Caso necessário, confira a [documentação](https://pysus.readthedocs.io/en/latest/)."
   ]
  },
  {
   "cell_type": "markdown",
   "metadata": {},
   "source": [
    "## Pysus"
   ]
  },
  {
   "cell_type": "code",
   "execution_count": 85,
   "metadata": {},
   "outputs": [],
   "source": [
    "import os\n",
    "from IPython.display import display, Javascript\n",
    "import pandas as pd\n",
    "from pysus.online_data import SINAN as SINAN_Online\n",
    "from pysus.online_data import SINASC as SINASC_Online\n",
    "from pysus.online_data import SIM as SIM_ONLINE\n",
    "from pysus.ftp.databases.sinan import SINAN\n",
    "from pysus.ftp.databases.sinasc import SINASC\n",
    "from pysus.ftp.databases.sim import SIM"
   ]
  },
  {
   "cell_type": "markdown",
   "metadata": {},
   "source": [
    "Import de bibliotecas"
   ]
  },
  {
   "cell_type": "markdown",
   "metadata": {},
   "source": [
    "A sessão de código a seguir salva em listas os anos que os dados de sinan, sinasc e sim estão disponiveis"
   ]
  },
  {
   "cell_type": "code",
   "execution_count": 86,
   "metadata": {},
   "outputs": [],
   "source": [
    "states = ['AC', 'AL', 'AP', 'AM', 'BA', 'CE', 'DF', 'ES', 'GO', 'MA', 'MT', \\\n",
    "          'MS', 'MG', 'PA', 'PB', 'PR', 'PE', 'PI', 'RJ', 'RN', 'RS', 'RO', \\\n",
    "          'RR', 'SC', 'SP', 'SE', 'TO']\n",
    "\n",
    "sinan_years = SINAN_Online.get_available_years(\"DENG\")\n",
    "sinasc_years = SINASC_Online.get_available_years(group= 'DN', states = states)\n",
    "sim_years = SIM_ONLINE.get_available_years(group= 'CID10', states = states)"
   ]
  },
  {
   "cell_type": "markdown",
   "metadata": {},
   "source": [
    "Confere os anos em que todas bases de dados estão disponiveis simultaneamente"
   ]
  },
  {
   "cell_type": "code",
   "execution_count": 87,
   "metadata": {},
   "outputs": [],
   "source": [
    "avaliable_years = []\n",
    "\n",
    "for year in sinan_years:\n",
    "      if year in sinasc_years and year in sim_years:\n",
    "            avaliable_years.append(year)"
   ]
  },
  {
   "cell_type": "markdown",
   "metadata": {},
   "source": [
    "#### SINAN"
   ]
  },
  {
   "cell_type": "markdown",
   "metadata": {},
   "source": [
    "busca arquivos SINAN baseado nos anos definidos em years, descreve-os e realiza download dos datasets"
   ]
  },
  {
   "cell_type": "code",
   "execution_count": 88,
   "metadata": {},
   "outputs": [
    {
     "name": "stdout",
     "output_type": "stream",
     "text": [
      "{'name': 'DENGBR12.dbc', 'disease': 'Dengue', 'year': 2012, 'size': '31.3 MB', 'last_update': '2022-02-22 10:28AM'}\n"
     ]
    },
    {
     "name": "stderr",
     "output_type": "stream",
     "text": [
      "DENGBR12.parquet: 100%|██████████| 1.12M/1.12M [00:27<00:00, 40.5kB/s]\n"
     ]
    },
    {
     "name": "stdout",
     "output_type": "stream",
     "text": [
      "{'name': 'DENGBR13.dbc', 'disease': 'Dengue', 'year': 2013, 'size': '65.5 MB', 'last_update': '2022-02-18 10:03AM'}\n"
     ]
    },
    {
     "name": "stderr",
     "output_type": "stream",
     "text": [
      "DENGBR13.parquet: 100%|██████████| 2.40M/2.40M [00:59<00:00, 40.6kB/s]\n"
     ]
    },
    {
     "name": "stdout",
     "output_type": "stream",
     "text": [
      "{'name': 'DENGBR14.dbc', 'disease': 'Dengue', 'year': 2014, 'size': '42.7 MB', 'last_update': '2021-11-23 12:15PM'}\n"
     ]
    },
    {
     "name": "stderr",
     "output_type": "stream",
     "text": [
      "DENGBR14.parquet: 100%|██████████| 1.55M/1.55M [00:49<00:00, 31.3kB/s]\n"
     ]
    },
    {
     "name": "stdout",
     "output_type": "stream",
     "text": [
      "{'name': 'DENGBR15.dbc', 'disease': 'Dengue', 'year': 2015, 'size': '109.2 MB', 'last_update': '2021-11-23 12:15PM'}\n"
     ]
    },
    {
     "name": "stderr",
     "output_type": "stream",
     "text": [
      "DENGBR15.parquet: 100%|██████████| 3.85M/3.85M [02:02<00:00, 31.3kB/s]\n"
     ]
    },
    {
     "name": "stdout",
     "output_type": "stream",
     "text": [
      "{'name': 'DENGBR16.dbc', 'disease': 'Dengue', 'year': 2016, 'size': '99.4 MB', 'last_update': '2021-11-23 12:16PM'}\n"
     ]
    },
    {
     "name": "stderr",
     "output_type": "stream",
     "text": [
      "DENGBR16.parquet: 100%|██████████| 3.69M/3.69M [01:57<00:00, 31.3kB/s]\n"
     ]
    },
    {
     "name": "stdout",
     "output_type": "stream",
     "text": [
      "{'name': 'DENGBR17.dbc', 'disease': 'Dengue', 'year': 2017, 'size': '22.9 MB', 'last_update': '2021-11-23 12:16PM'}\n"
     ]
    },
    {
     "name": "stderr",
     "output_type": "stream",
     "text": [
      "DENGBR17.parquet: 100%|██████████| 832k/832k [00:26<00:00, 31.4kB/s]\n"
     ]
    },
    {
     "name": "stdout",
     "output_type": "stream",
     "text": [
      "{'name': 'DENGBR18.dbc', 'disease': 'Dengue', 'year': 2018, 'size': '21.3 MB', 'last_update': '2021-11-23 12:16PM'}\n"
     ]
    },
    {
     "name": "stderr",
     "output_type": "stream",
     "text": [
      "DENGBR18.parquet: 100%|██████████| 769k/769k [00:24<00:00, 31.3kB/s]\n"
     ]
    },
    {
     "name": "stdout",
     "output_type": "stream",
     "text": [
      "{'name': 'DENGBR19.dbc', 'disease': 'Dengue', 'year': 2019, 'size': '110.2 MB', 'last_update': '2021-11-23 12:17PM'}\n"
     ]
    },
    {
     "name": "stderr",
     "output_type": "stream",
     "text": [
      "DENGBR19.parquet: 100%|██████████| 3.63M/3.63M [01:56<00:00, 31.1kB/s]\n"
     ]
    },
    {
     "name": "stdout",
     "output_type": "stream",
     "text": [
      "{'name': 'DENGBR20.dbc', 'disease': 'Dengue', 'year': 2020, 'size': '73.8 MB', 'last_update': '2022-02-23 12:06PM'}\n"
     ]
    },
    {
     "name": "stderr",
     "output_type": "stream",
     "text": [
      "DENGBR20.parquet: 100%|██████████| 2.40M/2.40M [01:16<00:00, 31.3kB/s]\n"
     ]
    },
    {
     "name": "stdout",
     "output_type": "stream",
     "text": [
      "{'name': 'DENGBR21.dbc', 'disease': 'Dengue', 'year': 2021, 'size': '42.9 MB', 'last_update': '2023-05-11 11:10AM'}\n"
     ]
    },
    {
     "name": "stderr",
     "output_type": "stream",
     "text": [
      "DENGBR21.parquet: 100%|██████████| 1.65M/1.65M [00:52<00:00, 31.4kB/s]\n"
     ]
    },
    {
     "name": "stdout",
     "output_type": "stream",
     "text": [
      "{'name': 'DENGBR22.dbc', 'disease': 'Dengue', 'year': 2022, 'size': '62.2 MB', 'last_update': '2023-08-21 03:20PM'}\n"
     ]
    },
    {
     "name": "stderr",
     "output_type": "stream",
     "text": [
      "DENGBR22.parquet: 100%|██████████| 2.27M/2.27M [01:12<00:00, 31.4kB/s]\n"
     ]
    }
   ],
   "source": [
    "years = [2012, 2013, 2014, 2015, 2016, 2017, 2018, 2019, 2020, 2021, 2022]\n",
    "sinan = SINAN().load()\n",
    "sinan_files = sinan.get_files(dis_code=['DENG'], year=years)\n",
    "\n",
    "parquet_path = os.getcwd() + \"/Data/Parquet/\"\n",
    "csv_path = os.getcwd() + '/Data/CSV/'\n",
    "\n",
    "if not 'Parquet' in os.listdir(os.getcwd() + \"/Data\") :\n",
    "      os.mkdir(parquet_path)\n",
    "\n",
    "if not 'CSV' in os.listdir(os.getcwd() + \"/Data\") :\n",
    "      os.mkdir(csv_path)\n",
    "\n",
    "for file in sinan_files:\n",
    "      if not file.basename.replace('.dbc', '.parquet') in os.listdir(parquet_path) and not file.basename.replace('.dbc', '.csv') in os.listdir(csv_path):\n",
    "            print(sinan.describe(file))\n",
    "            sinan.download(file, local_dir=parquet_path)"
   ]
  },
  {
   "cell_type": "markdown",
   "metadata": {},
   "source": [
    "#### SINASC"
   ]
  },
  {
   "cell_type": "code",
   "execution_count": 89,
   "metadata": {},
   "outputs": [
    {
     "name": "stdout",
     "output_type": "stream",
     "text": [
      "{'name': 'DNAC2012.DBC', 'group': 'Declarações de Nascidos Vivos', 'uf': 'Acre', 'year': 2012, 'size': '1.0 MB', 'last_update': '2020-01-27 12:05PM'}\n"
     ]
    },
    {
     "name": "stderr",
     "output_type": "stream",
     "text": [
      "DNAC2012.parquet: 100%|██████████| 40.7k/40.7k [00:00<00:00, 84.1kB/s]\n"
     ]
    },
    {
     "name": "stdout",
     "output_type": "stream",
     "text": [
      "{'name': 'DNAC2013.dbc', 'group': 'Declarações de Nascidos Vivos', 'uf': 'Acre', 'year': 2013, 'size': '992.4 kB', 'last_update': '2020-01-27 12:05PM'}\n"
     ]
    },
    {
     "name": "stderr",
     "output_type": "stream",
     "text": [
      "DNAC2013.parquet: 100%|██████████| 44.5k/44.5k [00:00<00:00, 86.8kB/s]\n"
     ]
    },
    {
     "name": "stdout",
     "output_type": "stream",
     "text": [
      "{'name': 'DNAC2014.dbc', 'group': 'Declarações de Nascidos Vivos', 'uf': 'Acre', 'year': 2014, 'size': '874.8 kB', 'last_update': '2018-04-20 05:04PM'}\n"
     ]
    },
    {
     "name": "stderr",
     "output_type": "stream",
     "text": [
      "DNAC2014.parquet: 100%|██████████| 20.6k/20.6k [00:00<00:00, 40.7kB/s]\n"
     ]
    },
    {
     "name": "stdout",
     "output_type": "stream",
     "text": [
      "{'name': 'DNAC2015.dbc', 'group': 'Declarações de Nascidos Vivos', 'uf': 'Acre', 'year': 2015, 'size': '1.2 MB', 'last_update': '2020-01-27 12:05PM'}\n"
     ]
    },
    {
     "name": "stderr",
     "output_type": "stream",
     "text": [
      "DNAC2015.parquet: 100%|██████████| 46.5k/46.5k [00:00<00:00, 90.2kB/s]\n"
     ]
    },
    {
     "name": "stdout",
     "output_type": "stream",
     "text": [
      "{'name': 'DNAC2016.dbc', 'group': 'Declarações de Nascidos Vivos', 'uf': 'Acre', 'year': 2016, 'size': '1.1 MB', 'last_update': '2020-01-27 12:05PM'}\n"
     ]
    },
    {
     "name": "stderr",
     "output_type": "stream",
     "text": [
      "DNAC2016.parquet: 100%|██████████| 43.1k/43.1k [00:00<00:00, 75.0kB/s]\n"
     ]
    },
    {
     "name": "stdout",
     "output_type": "stream",
     "text": [
      "{'name': 'DNAC2017.dbc', 'group': 'Declarações de Nascidos Vivos', 'uf': 'Acre', 'year': 2017, 'size': '1.1 MB', 'last_update': '2020-01-27 12:05PM'}\n"
     ]
    },
    {
     "name": "stderr",
     "output_type": "stream",
     "text": [
      "DNAC2017.parquet: 100%|██████████| 44.7k/44.7k [00:00<00:00, 89.2kB/s]\n"
     ]
    },
    {
     "name": "stdout",
     "output_type": "stream",
     "text": [
      "{'name': 'DNAC2018.dbc', 'group': 'Declarações de Nascidos Vivos', 'uf': 'Acre', 'year': 2018, 'size': '790.0 kB', 'last_update': '2020-04-02 02:43PM'}\n"
     ]
    },
    {
     "name": "stderr",
     "output_type": "stream",
     "text": [
      "DNAC2018.parquet: 100%|██████████| 18.5k/18.5k [00:00<00:00, 40.4kB/s]\n"
     ]
    },
    {
     "name": "stdout",
     "output_type": "stream",
     "text": [
      "{'name': 'DNAC2019.dbc', 'group': 'Declarações de Nascidos Vivos', 'uf': 'Acre', 'year': 2019, 'size': '770.0 kB', 'last_update': '2020-12-18 05:44PM'}\n"
     ]
    },
    {
     "name": "stderr",
     "output_type": "stream",
     "text": [
      "DNAC2019.parquet: 100%|██████████| 18.2k/18.2k [00:00<00:00, 40.4kB/s]\n"
     ]
    },
    {
     "name": "stdout",
     "output_type": "stream",
     "text": [
      "{'name': 'DNAC2020.dbc', 'group': 'Declarações de Nascidos Vivos', 'uf': 'Acre', 'year': 2020, 'size': '723.1 kB', 'last_update': '2022-03-31 04:17PM'}\n"
     ]
    },
    {
     "name": "stderr",
     "output_type": "stream",
     "text": [
      "DNAC2020.parquet: 100%|██████████| 17.0k/17.0k [00:00<00:00, 40.3kB/s]\n"
     ]
    },
    {
     "name": "stdout",
     "output_type": "stream",
     "text": [
      "{'name': 'DNAC2021.dbc', 'group': 'Declarações de Nascidos Vivos', 'uf': 'Acre', 'year': 2021, 'size': '739.3 kB', 'last_update': '2023-04-28 12:53PM'}\n"
     ]
    },
    {
     "name": "stderr",
     "output_type": "stream",
     "text": [
      "DNAC2021.parquet: 100%|██████████| 17.6k/17.6k [00:00<00:00, 39.4kB/s]\n"
     ]
    },
    {
     "name": "stdout",
     "output_type": "stream",
     "text": [
      "{'name': 'DNAC2022.dbc', 'group': 'Declarações de Nascidos Vivos', 'uf': 'Acre', 'year': 2022, 'size': '681.7 kB', 'last_update': '2023-12-20 04:45PM'}\n"
     ]
    },
    {
     "name": "stderr",
     "output_type": "stream",
     "text": [
      "DNAC2022.parquet: 100%|██████████| 16.2k/16.2k [00:00<00:00, 40.3kB/s]\n"
     ]
    },
    {
     "name": "stdout",
     "output_type": "stream",
     "text": [
      "{'name': 'DNAL2012.DBC', 'group': 'Declarações de Nascidos Vivos', 'uf': 'Alagoas', 'year': 2012, 'size': '3.3 MB', 'last_update': '2020-01-27 12:06PM'}\n"
     ]
    },
    {
     "name": "stderr",
     "output_type": "stream",
     "text": [
      "DNAL2012.parquet: 100%|██████████| 129k/129k [00:01<00:00, 85.7kB/s]\n"
     ]
    },
    {
     "name": "stdout",
     "output_type": "stream",
     "text": [
      "{'name': 'DNAL2013.dbc', 'group': 'Declarações de Nascidos Vivos', 'uf': 'Alagoas', 'year': 2013, 'size': '3.2 MB', 'last_update': '2020-01-27 12:06PM'}\n"
     ]
    },
    {
     "name": "stderr",
     "output_type": "stream",
     "text": [
      "DNAL2013.parquet: 100%|██████████| 138k/138k [00:01<00:00, 92.1kB/s]\n"
     ]
    },
    {
     "name": "stdout",
     "output_type": "stream",
     "text": [
      "{'name': 'DNAL2014.dbc', 'group': 'Declarações de Nascidos Vivos', 'uf': 'Alagoas', 'year': 2014, 'size': '3.6 MB', 'last_update': '2020-01-27 12:06PM'}\n"
     ]
    },
    {
     "name": "stderr",
     "output_type": "stream",
     "text": [
      "DNAL2014.parquet: 100%|██████████| 142k/142k [00:01<00:00, 88.0kB/s]\n"
     ]
    },
    {
     "name": "stdout",
     "output_type": "stream",
     "text": [
      "{'name': 'DNAL2015.dbc', 'group': 'Declarações de Nascidos Vivos', 'uf': 'Alagoas', 'year': 2015, 'size': '3.6 MB', 'last_update': '2020-01-27 12:06PM'}\n"
     ]
    },
    {
     "name": "stderr",
     "output_type": "stream",
     "text": [
      "DNAL2015.parquet: 100%|██████████| 142k/142k [00:01<00:00, 90.9kB/s]\n"
     ]
    },
    {
     "name": "stdout",
     "output_type": "stream",
     "text": [
      "{'name': 'DNAL2016.dbc', 'group': 'Declarações de Nascidos Vivos', 'uf': 'Alagoas', 'year': 2016, 'size': '3.3 MB', 'last_update': '2020-01-27 12:06PM'}\n"
     ]
    },
    {
     "name": "stderr",
     "output_type": "stream",
     "text": [
      "DNAL2016.parquet: 100%|██████████| 132k/132k [00:01<00:00, 86.6kB/s]\n"
     ]
    },
    {
     "name": "stdout",
     "output_type": "stream",
     "text": [
      "{'name': 'DNAL2017.dbc', 'group': 'Declarações de Nascidos Vivos', 'uf': 'Alagoas', 'year': 2017, 'size': '3.4 MB', 'last_update': '2020-01-27 12:06PM'}\n"
     ]
    },
    {
     "name": "stderr",
     "output_type": "stream",
     "text": [
      "DNAL2017.parquet: 100%|██████████| 138k/138k [00:01<00:00, 85.0kB/s]\n"
     ]
    },
    {
     "name": "stdout",
     "output_type": "stream",
     "text": [
      "{'name': 'DNAL2018.dbc', 'group': 'Declarações de Nascidos Vivos', 'uf': 'Alagoas', 'year': 2018, 'size': '2.5 MB', 'last_update': '2020-04-02 02:43PM'}\n"
     ]
    },
    {
     "name": "stderr",
     "output_type": "stream",
     "text": [
      "DNAL2018.parquet: 100%|██████████| 58.8k/58.8k [00:01<00:00, 39.0kB/s]\n"
     ]
    },
    {
     "name": "stdout",
     "output_type": "stream",
     "text": [
      "{'name': 'DNAL2019.dbc', 'group': 'Declarações de Nascidos Vivos', 'uf': 'Alagoas', 'year': 2019, 'size': '2.3 MB', 'last_update': '2020-12-18 05:44PM'}\n"
     ]
    },
    {
     "name": "stderr",
     "output_type": "stream",
     "text": [
      "DNAL2019.parquet: 100%|██████████| 55.8k/55.8k [00:01<00:00, 41.7kB/s]\n"
     ]
    },
    {
     "name": "stdout",
     "output_type": "stream",
     "text": [
      "{'name': 'DNAL2020.dbc', 'group': 'Declarações de Nascidos Vivos', 'uf': 'Alagoas', 'year': 2020, 'size': '2.4 MB', 'last_update': '2022-03-31 04:17PM'}\n"
     ]
    },
    {
     "name": "stderr",
     "output_type": "stream",
     "text": [
      "DNAL2020.parquet: 100%|██████████| 54.2k/54.2k [00:01<00:00, 38.1kB/s]\n"
     ]
    },
    {
     "name": "stdout",
     "output_type": "stream",
     "text": [
      "{'name': 'DNAL2021.dbc', 'group': 'Declarações de Nascidos Vivos', 'uf': 'Alagoas', 'year': 2021, 'size': '2.4 MB', 'last_update': '2023-04-28 12:53PM'}\n"
     ]
    },
    {
     "name": "stderr",
     "output_type": "stream",
     "text": [
      "DNAL2021.parquet: 100%|██████████| 54.7k/54.7k [00:01<00:00, 41.3kB/s]\n"
     ]
    },
    {
     "name": "stdout",
     "output_type": "stream",
     "text": [
      "{'name': 'DNAL2022.dbc', 'group': 'Declarações de Nascidos Vivos', 'uf': 'Alagoas', 'year': 2022, 'size': '2.2 MB', 'last_update': '2023-12-20 04:45PM'}\n"
     ]
    },
    {
     "name": "stderr",
     "output_type": "stream",
     "text": [
      "DNAL2022.parquet: 100%|██████████| 51.2k/51.2k [00:01<00:00, 41.4kB/s]\n"
     ]
    },
    {
     "name": "stdout",
     "output_type": "stream",
     "text": [
      "{'name': 'DNAM2012.DBC', 'group': 'Declarações de Nascidos Vivos', 'uf': 'Amazonas', 'year': 2012, 'size': '4.5 MB', 'last_update': '2020-01-27 12:07PM'}\n"
     ]
    },
    {
     "name": "stderr",
     "output_type": "stream",
     "text": [
      "DNAM2012.parquet: 100%|██████████| 192k/192k [00:02<00:00, 88.5kB/s]\n"
     ]
    },
    {
     "name": "stdout",
     "output_type": "stream",
     "text": [
      "{'name': 'DNAM2013.dbc', 'group': 'Declarações de Nascidos Vivos', 'uf': 'Amazonas', 'year': 2013, 'size': '4.6 MB', 'last_update': '2020-01-27 12:07PM'}\n"
     ]
    },
    {
     "name": "stderr",
     "output_type": "stream",
     "text": [
      "DNAM2013.parquet: 100%|██████████| 207k/207k [00:02<00:00, 86.8kB/s]\n"
     ]
    },
    {
     "name": "stdout",
     "output_type": "stream",
     "text": [
      "{'name': 'DNAM2014.dbc', 'group': 'Declarações de Nascidos Vivos', 'uf': 'Amazonas', 'year': 2014, 'size': '5.5 MB', 'last_update': '2020-01-27 12:07PM'}\n"
     ]
    },
    {
     "name": "stderr",
     "output_type": "stream",
     "text": [
      "DNAM2014.parquet: 100%|██████████| 222k/222k [00:02<00:00, 89.1kB/s]\n"
     ]
    },
    {
     "name": "stdout",
     "output_type": "stream",
     "text": [
      "{'name': 'DNAM2015.dbc', 'group': 'Declarações de Nascidos Vivos', 'uf': 'Amazonas', 'year': 2015, 'size': '5.2 MB', 'last_update': '2020-01-27 12:07PM'}\n"
     ]
    },
    {
     "name": "stderr",
     "output_type": "stream",
     "text": [
      "DNAM2015.parquet: 100%|██████████| 219k/219k [00:02<00:00, 92.2kB/s]\n"
     ]
    },
    {
     "name": "stdout",
     "output_type": "stream",
     "text": [
      "{'name': 'DNAM2016.dbc', 'group': 'Declarações de Nascidos Vivos', 'uf': 'Amazonas', 'year': 2016, 'size': '5.0 MB', 'last_update': '2020-01-27 12:07PM'}\n"
     ]
    },
    {
     "name": "stderr",
     "output_type": "stream",
     "text": [
      "DNAM2016.parquet: 100%|██████████| 210k/210k [00:02<00:00, 88.9kB/s]\n"
     ]
    },
    {
     "name": "stdout",
     "output_type": "stream",
     "text": [
      "{'name': 'DNAM2017.dbc', 'group': 'Declarações de Nascidos Vivos', 'uf': 'Amazonas', 'year': 2017, 'size': '5.4 MB', 'last_update': '2020-01-27 12:07PM'}\n"
     ]
    },
    {
     "name": "stderr",
     "output_type": "stream",
     "text": [
      "DNAM2017.parquet: 100%|██████████| 214k/214k [00:02<00:00, 89.1kB/s]\n"
     ]
    },
    {
     "name": "stdout",
     "output_type": "stream",
     "text": [
      "{'name': 'DNAM2018.dbc', 'group': 'Declarações de Nascidos Vivos', 'uf': 'Amazonas', 'year': 2018, 'size': '3.7 MB', 'last_update': '2020-04-02 02:43PM'}\n"
     ]
    },
    {
     "name": "stderr",
     "output_type": "stream",
     "text": [
      "DNAM2018.parquet: 100%|██████████| 87.5k/87.5k [00:02<00:00, 41.6kB/s]\n"
     ]
    },
    {
     "name": "stdout",
     "output_type": "stream",
     "text": [
      "{'name': 'DNAM2019.dbc', 'group': 'Declarações de Nascidos Vivos', 'uf': 'Amazonas', 'year': 2019, 'size': '3.7 MB', 'last_update': '2020-12-18 05:44PM'}\n"
     ]
    },
    {
     "name": "stderr",
     "output_type": "stream",
     "text": [
      "DNAM2019.parquet: 100%|██████████| 86.9k/86.9k [00:02<00:00, 39.8kB/s]\n"
     ]
    },
    {
     "name": "stdout",
     "output_type": "stream",
     "text": [
      "{'name': 'DNAM2020.dbc', 'group': 'Declarações de Nascidos Vivos', 'uf': 'Amazonas', 'year': 2020, 'size': '3.6 MB', 'last_update': '2022-03-31 04:17PM'}\n"
     ]
    },
    {
     "name": "stderr",
     "output_type": "stream",
     "text": [
      "DNAM2020.parquet: 100%|██████████| 84.7k/84.7k [00:02<00:00, 39.0kB/s]\n"
     ]
    },
    {
     "name": "stdout",
     "output_type": "stream",
     "text": [
      "{'name': 'DNAM2021.dbc', 'group': 'Declarações de Nascidos Vivos', 'uf': 'Amazonas', 'year': 2021, 'size': '3.7 MB', 'last_update': '2023-04-28 12:53PM'}\n"
     ]
    },
    {
     "name": "stderr",
     "output_type": "stream",
     "text": [
      "DNAM2021.parquet: 100%|██████████| 87.9k/87.9k [00:02<00:00, 41.7kB/s]\n"
     ]
    },
    {
     "name": "stdout",
     "output_type": "stream",
     "text": [
      "{'name': 'DNAM2022.dbc', 'group': 'Declarações de Nascidos Vivos', 'uf': 'Amazonas', 'year': 2022, 'size': '3.4 MB', 'last_update': '2023-12-20 04:45PM'}\n"
     ]
    },
    {
     "name": "stderr",
     "output_type": "stream",
     "text": [
      "DNAM2022.parquet: 100%|██████████| 81.2k/81.2k [00:02<00:00, 39.5kB/s]\n"
     ]
    },
    {
     "name": "stdout",
     "output_type": "stream",
     "text": [
      "{'name': 'DNAP2012.DBC', 'group': 'Declarações de Nascidos Vivos', 'uf': 'Amapá', 'year': 2012, 'size': '895.3 kB', 'last_update': '2020-01-27 12:07PM'}\n"
     ]
    },
    {
     "name": "stderr",
     "output_type": "stream",
     "text": [
      "DNAP2012.parquet: 100%|██████████| 36.9k/36.9k [00:00<00:00, 85.7kB/s]\n"
     ]
    },
    {
     "name": "stdout",
     "output_type": "stream",
     "text": [
      "{'name': 'DNAP2013.dbc', 'group': 'Declarações de Nascidos Vivos', 'uf': 'Amapá', 'year': 2013, 'size': '967.8 kB', 'last_update': '2020-01-27 12:07PM'}\n"
     ]
    },
    {
     "name": "stderr",
     "output_type": "stream",
     "text": [
      "DNAP2013.parquet: 100%|██████████| 40.9k/40.9k [00:00<00:00, 88.3kB/s]\n"
     ]
    },
    {
     "name": "stdout",
     "output_type": "stream",
     "text": [
      "{'name': 'DNAP2014.dbc', 'group': 'Declarações de Nascidos Vivos', 'uf': 'Amapá', 'year': 2014, 'size': '1.1 MB', 'last_update': '2020-01-27 12:07PM'}\n"
     ]
    },
    {
     "name": "stderr",
     "output_type": "stream",
     "text": [
      "DNAP2014.parquet: 100%|██████████| 44.2k/44.2k [00:00<00:00, 89.6kB/s]\n"
     ]
    },
    {
     "name": "stdout",
     "output_type": "stream",
     "text": [
      "{'name': 'DNAP2015.dbc', 'group': 'Declarações de Nascidos Vivos', 'uf': 'Amapá', 'year': 2015, 'size': '1.1 MB', 'last_update': '2020-01-27 12:07PM'}\n"
     ]
    },
    {
     "name": "stderr",
     "output_type": "stream",
     "text": [
      "DNAP2015.parquet: 100%|██████████| 42.8k/42.8k [00:00<00:00, 76.4kB/s]\n"
     ]
    },
    {
     "name": "stdout",
     "output_type": "stream",
     "text": [
      "{'name': 'DNAP2016.dbc', 'group': 'Declarações de Nascidos Vivos', 'uf': 'Amapá', 'year': 2016, 'size': '1.1 MB', 'last_update': '2020-01-27 12:07PM'}\n"
     ]
    },
    {
     "name": "stderr",
     "output_type": "stream",
     "text": [
      "DNAP2016.parquet: 100%|██████████| 42.1k/42.1k [00:00<00:00, 91.5kB/s]\n"
     ]
    },
    {
     "name": "stdout",
     "output_type": "stream",
     "text": [
      "{'name': 'DNAP2017.dbc', 'group': 'Declarações de Nascidos Vivos', 'uf': 'Amapá', 'year': 2017, 'size': '1.1 MB', 'last_update': '2020-01-27 12:07PM'}\n"
     ]
    },
    {
     "name": "stderr",
     "output_type": "stream",
     "text": [
      "DNAP2017.parquet: 100%|██████████| 41.5k/41.5k [00:00<00:00, 87.8kB/s]\n"
     ]
    },
    {
     "name": "stdout",
     "output_type": "stream",
     "text": [
      "{'name': 'DNAP2018.dbc', 'group': 'Declarações de Nascidos Vivos', 'uf': 'Amapá', 'year': 2018, 'size': '754.8 kB', 'last_update': '2020-04-02 02:43PM'}\n"
     ]
    },
    {
     "name": "stderr",
     "output_type": "stream",
     "text": [
      "DNAP2018.parquet: 100%|██████████| 17.8k/17.8k [00:00<00:00, 40.5kB/s]\n"
     ]
    },
    {
     "name": "stdout",
     "output_type": "stream",
     "text": [
      "{'name': 'DNAP2019.dbc', 'group': 'Declarações de Nascidos Vivos', 'uf': 'Amapá', 'year': 2019, 'size': '709.3 kB', 'last_update': '2020-12-18 05:44PM'}\n"
     ]
    },
    {
     "name": "stderr",
     "output_type": "stream",
     "text": [
      "DNAP2019.parquet: 100%|██████████| 17.2k/17.2k [00:00<00:00, 40.0kB/s]\n"
     ]
    },
    {
     "name": "stdout",
     "output_type": "stream",
     "text": [
      "{'name': 'DNAP2020.dbc', 'group': 'Declarações de Nascidos Vivos', 'uf': 'Amapá', 'year': 2020, 'size': '684.4 kB', 'last_update': '2022-03-31 04:17PM'}\n"
     ]
    },
    {
     "name": "stderr",
     "output_type": "stream",
     "text": [
      "DNAP2020.parquet: 100%|██████████| 16.4k/16.4k [00:00<00:00, 40.3kB/s]\n"
     ]
    },
    {
     "name": "stdout",
     "output_type": "stream",
     "text": [
      "{'name': 'DNAP2021.dbc', 'group': 'Declarações de Nascidos Vivos', 'uf': 'Amapá', 'year': 2021, 'size': '711.1 kB', 'last_update': '2023-04-28 12:53PM'}\n"
     ]
    },
    {
     "name": "stderr",
     "output_type": "stream",
     "text": [
      "DNAP2021.parquet: 100%|██████████| 16.8k/16.8k [00:00<00:00, 32.8kB/s]\n"
     ]
    },
    {
     "name": "stdout",
     "output_type": "stream",
     "text": [
      "{'name': 'DNAP2022.dbc', 'group': 'Declarações de Nascidos Vivos', 'uf': 'Amapá', 'year': 2022, 'size': '646.7 kB', 'last_update': '2023-12-20 04:45PM'}\n"
     ]
    },
    {
     "name": "stderr",
     "output_type": "stream",
     "text": [
      "DNAP2022.parquet: 100%|██████████| 15.3k/15.3k [00:00<00:00, 38.7kB/s]\n"
     ]
    },
    {
     "name": "stdout",
     "output_type": "stream",
     "text": [
      "{'name': 'DNBA2012.DBC', 'group': 'Declarações de Nascidos Vivos', 'uf': 'Bahia', 'year': 2012, 'size': '13.0 MB', 'last_update': '2020-01-27 12:08PM'}\n"
     ]
    },
    {
     "name": "stderr",
     "output_type": "stream",
     "text": [
      "DNBA2012.parquet: 100%|██████████| 520k/520k [00:05<00:00, 89.4kB/s]\n"
     ]
    },
    {
     "name": "stdout",
     "output_type": "stream",
     "text": [
      "{'name': 'DNBA2013.dbc', 'group': 'Declarações de Nascidos Vivos', 'uf': 'Bahia', 'year': 2013, 'size': '12.6 MB', 'last_update': '2020-01-27 12:08PM'}\n"
     ]
    },
    {
     "name": "stderr",
     "output_type": "stream",
     "text": [
      "DNBA2013.parquet: 100%|██████████| 534k/534k [00:05<00:00, 91.7kB/s]\n"
     ]
    },
    {
     "name": "stdout",
     "output_type": "stream",
     "text": [
      "{'name': 'DNBA2014.dbc', 'group': 'Declarações de Nascidos Vivos', 'uf': 'Bahia', 'year': 2014, 'size': '14.1 MB', 'last_update': '2020-01-27 12:08PM'}\n"
     ]
    },
    {
     "name": "stderr",
     "output_type": "stream",
     "text": [
      "DNBA2014.parquet: 100%|██████████| 558k/558k [00:06<00:00, 90.8kB/s]\n"
     ]
    },
    {
     "name": "stdout",
     "output_type": "stream",
     "text": [
      "{'name': 'DNBA2015.dbc', 'group': 'Declarações de Nascidos Vivos', 'uf': 'Bahia', 'year': 2015, 'size': '14.4 MB', 'last_update': '2020-01-27 12:08PM'}\n"
     ]
    },
    {
     "name": "stderr",
     "output_type": "stream",
     "text": [
      "DNBA2015.parquet: 100%|██████████| 565k/565k [00:06<00:00, 91.3kB/s]\n"
     ]
    },
    {
     "name": "stdout",
     "output_type": "stream",
     "text": [
      "{'name': 'DNBA2016.dbc', 'group': 'Declarações de Nascidos Vivos', 'uf': 'Bahia', 'year': 2016, 'size': '13.4 MB', 'last_update': '2020-01-27 12:08PM'}\n"
     ]
    },
    {
     "name": "stderr",
     "output_type": "stream",
     "text": [
      "DNBA2016.parquet: 100%|██████████| 547k/547k [00:06<00:00, 91.0kB/s]\n"
     ]
    },
    {
     "name": "stdout",
     "output_type": "stream",
     "text": [
      "{'name': 'DNBA2017.dbc', 'group': 'Declarações de Nascidos Vivos', 'uf': 'Bahia', 'year': 2017, 'size': '14.1 MB', 'last_update': '2020-01-27 12:08PM'}\n"
     ]
    },
    {
     "name": "stderr",
     "output_type": "stream",
     "text": [
      "DNBA2017.parquet: 100%|██████████| 558k/558k [00:06<00:00, 92.6kB/s]\n"
     ]
    },
    {
     "name": "stdout",
     "output_type": "stream",
     "text": [
      "{'name': 'DNBA2018.dbc', 'group': 'Declarações de Nascidos Vivos', 'uf': 'Bahia', 'year': 2018, 'size': '9.9 MB', 'last_update': '2020-04-02 02:43PM'}\n"
     ]
    },
    {
     "name": "stderr",
     "output_type": "stream",
     "text": [
      "DNBA2018.parquet: 100%|██████████| 230k/230k [00:05<00:00, 40.2kB/s]\n"
     ]
    },
    {
     "name": "stdout",
     "output_type": "stream",
     "text": [
      "{'name': 'DNBA2019.dbc', 'group': 'Declarações de Nascidos Vivos', 'uf': 'Bahia', 'year': 2019, 'size': '9.5 MB', 'last_update': '2020-12-18 05:44PM'}\n"
     ]
    },
    {
     "name": "stderr",
     "output_type": "stream",
     "text": [
      "DNBA2019.parquet: 100%|██████████| 221k/221k [00:05<00:00, 39.6kB/s]\n"
     ]
    },
    {
     "name": "stdout",
     "output_type": "stream",
     "text": [
      "{'name': 'DNBA2020.dbc', 'group': 'Declarações de Nascidos Vivos', 'uf': 'Bahia', 'year': 2020, 'size': '9.2 MB', 'last_update': '2022-03-31 04:17PM'}\n"
     ]
    },
    {
     "name": "stderr",
     "output_type": "stream",
     "text": [
      "DNBA2020.parquet: 100%|██████████| 212k/212k [00:05<00:00, 40.6kB/s]\n"
     ]
    },
    {
     "name": "stdout",
     "output_type": "stream",
     "text": [
      "{'name': 'DNBA2021.dbc', 'group': 'Declarações de Nascidos Vivos', 'uf': 'Bahia', 'year': 2021, 'size': '8.9 MB', 'last_update': '2023-04-28 12:53PM'}\n"
     ]
    },
    {
     "name": "stderr",
     "output_type": "stream",
     "text": [
      "DNBA2021.parquet: 100%|██████████| 208k/208k [00:05<00:00, 40.1kB/s]\n"
     ]
    },
    {
     "name": "stdout",
     "output_type": "stream",
     "text": [
      "{'name': 'DNBA2022.dbc', 'group': 'Declarações de Nascidos Vivos', 'uf': 'Bahia', 'year': 2022, 'size': '8.5 MB', 'last_update': '2023-12-20 04:45PM'}\n"
     ]
    },
    {
     "name": "stderr",
     "output_type": "stream",
     "text": [
      "DNBA2022.parquet: 100%|██████████| 195k/195k [00:04<00:00, 40.0kB/s]\n"
     ]
    },
    {
     "name": "stdout",
     "output_type": "stream",
     "text": [
      "{'name': 'DNCE2012.DBC', 'group': 'Declarações de Nascidos Vivos', 'uf': 'Ceará', 'year': 2012, 'size': '7.5 MB', 'last_update': '2020-01-27 12:08PM'}\n"
     ]
    },
    {
     "name": "stderr",
     "output_type": "stream",
     "text": [
      "DNCE2012.parquet: 100%|██████████| 314k/314k [00:03<00:00, 84.8kB/s]\n"
     ]
    },
    {
     "name": "stdout",
     "output_type": "stream",
     "text": [
      "{'name': 'DNCE2013.dbc', 'group': 'Declarações de Nascidos Vivos', 'uf': 'Ceará', 'year': 2013, 'size': '7.4 MB', 'last_update': '2020-01-27 12:08PM'}\n"
     ]
    },
    {
     "name": "stderr",
     "output_type": "stream",
     "text": [
      "DNCE2013.parquet: 100%|██████████| 328k/328k [00:03<00:00, 88.5kB/s]\n"
     ]
    },
    {
     "name": "stdout",
     "output_type": "stream",
     "text": [
      "{'name': 'DNCE2014.dbc', 'group': 'Declarações de Nascidos Vivos', 'uf': 'Ceará', 'year': 2014, 'size': '8.8 MB', 'last_update': '2020-01-27 12:08PM'}\n"
     ]
    },
    {
     "name": "stderr",
     "output_type": "stream",
     "text": [
      "DNCE2014.parquet: 100%|██████████| 352k/352k [00:03<00:00, 89.0kB/s]\n"
     ]
    },
    {
     "name": "stdout",
     "output_type": "stream",
     "text": [
      "{'name': 'DNCE2015.dbc', 'group': 'Declarações de Nascidos Vivos', 'uf': 'Ceará', 'year': 2015, 'size': '8.8 MB', 'last_update': '2020-01-27 12:08PM'}\n"
     ]
    },
    {
     "name": "stderr",
     "output_type": "stream",
     "text": [
      "DNCE2015.parquet: 100%|██████████| 362k/362k [00:04<00:00, 89.0kB/s]\n"
     ]
    },
    {
     "name": "stdout",
     "output_type": "stream",
     "text": [
      "{'name': 'DNCE2016.dbc', 'group': 'Declarações de Nascidos Vivos', 'uf': 'Ceará', 'year': 2016, 'size': '8.4 MB', 'last_update': '2020-01-27 12:08PM'}\n"
     ]
    },
    {
     "name": "stderr",
     "output_type": "stream",
     "text": [
      "DNCE2016.parquet: 100%|██████████| 345k/345k [00:03<00:00, 88.5kB/s]\n"
     ]
    },
    {
     "name": "stdout",
     "output_type": "stream",
     "text": [
      "{'name': 'DNCE2017.dbc', 'group': 'Declarações de Nascidos Vivos', 'uf': 'Ceará', 'year': 2017, 'size': '8.7 MB', 'last_update': '2020-01-27 12:08PM'}\n"
     ]
    },
    {
     "name": "stderr",
     "output_type": "stream",
     "text": [
      "DNCE2017.parquet: 100%|██████████| 350k/350k [00:04<00:00, 84.7kB/s]\n"
     ]
    },
    {
     "name": "stdout",
     "output_type": "stream",
     "text": [
      "{'name': 'DNCE2018.dbc', 'group': 'Declarações de Nascidos Vivos', 'uf': 'Ceará', 'year': 2018, 'size': '6.2 MB', 'last_update': '2020-04-02 02:43PM'}\n"
     ]
    },
    {
     "name": "stderr",
     "output_type": "stream",
     "text": [
      "DNCE2018.parquet: 100%|██████████| 147k/147k [00:03<00:00, 39.9kB/s]\n"
     ]
    },
    {
     "name": "stdout",
     "output_type": "stream",
     "text": [
      "{'name': 'DNCE2019.dbc', 'group': 'Declarações de Nascidos Vivos', 'uf': 'Ceará', 'year': 2019, 'size': '6.1 MB', 'last_update': '2020-12-18 05:44PM'}\n"
     ]
    },
    {
     "name": "stderr",
     "output_type": "stream",
     "text": [
      "DNCE2019.parquet: 100%|██████████| 145k/145k [00:03<00:00, 39.4kB/s]\n"
     ]
    },
    {
     "name": "stdout",
     "output_type": "stream",
     "text": [
      "{'name': 'DNCE2020.dbc', 'group': 'Declarações de Nascidos Vivos', 'uf': 'Ceará', 'year': 2020, 'size': '5.8 MB', 'last_update': '2022-03-31 04:17PM'}\n"
     ]
    },
    {
     "name": "stderr",
     "output_type": "stream",
     "text": [
      "DNCE2020.parquet: 100%|██████████| 137k/137k [00:03<00:00, 39.7kB/s]\n"
     ]
    },
    {
     "name": "stdout",
     "output_type": "stream",
     "text": [
      "{'name': 'DNCE2021.dbc', 'group': 'Declarações de Nascidos Vivos', 'uf': 'Ceará', 'year': 2021, 'size': '5.7 MB', 'last_update': '2023-04-28 12:53PM'}\n"
     ]
    },
    {
     "name": "stderr",
     "output_type": "stream",
     "text": [
      "DNCE2021.parquet: 100%|██████████| 135k/135k [00:03<00:00, 40.1kB/s]\n"
     ]
    },
    {
     "name": "stdout",
     "output_type": "stream",
     "text": [
      "{'name': 'DNCE2022.dbc', 'group': 'Declarações de Nascidos Vivos', 'uf': 'Ceará', 'year': 2022, 'size': '5.4 MB', 'last_update': '2023-12-20 04:45PM'}\n"
     ]
    },
    {
     "name": "stderr",
     "output_type": "stream",
     "text": [
      "DNCE2022.parquet: 100%|██████████| 126k/126k [00:03<00:00, 39.7kB/s]\n"
     ]
    },
    {
     "name": "stdout",
     "output_type": "stream",
     "text": [
      "{'name': 'DNDF2012.DBC', 'group': 'Declarações de Nascidos Vivos', 'uf': 'Distrito Federal', 'year': 2012, 'size': '2.7 MB', 'last_update': '2020-01-27 12:08PM'}\n"
     ]
    },
    {
     "name": "stderr",
     "output_type": "stream",
     "text": [
      "DNDF2012.parquet: 100%|██████████| 108k/108k [00:01<00:00, 91.4kB/s]\n"
     ]
    },
    {
     "name": "stdout",
     "output_type": "stream",
     "text": [
      "{'name': 'DNDF2013.dbc', 'group': 'Declarações de Nascidos Vivos', 'uf': 'Distrito Federal', 'year': 2013, 'size': '2.8 MB', 'last_update': '2020-01-27 12:08PM'}\n"
     ]
    },
    {
     "name": "stderr",
     "output_type": "stream",
     "text": [
      "DNDF2013.parquet: 100%|██████████| 117k/117k [00:01<00:00, 90.6kB/s]\n"
     ]
    },
    {
     "name": "stdout",
     "output_type": "stream",
     "text": [
      "{'name': 'DNDF2014.dbc', 'group': 'Declarações de Nascidos Vivos', 'uf': 'Distrito Federal', 'year': 2014, 'size': '3.4 MB', 'last_update': '2020-01-27 12:08PM'}\n"
     ]
    },
    {
     "name": "stderr",
     "output_type": "stream",
     "text": [
      "DNDF2014.parquet: 100%|██████████| 122k/122k [00:01<00:00, 85.7kB/s]\n"
     ]
    },
    {
     "name": "stdout",
     "output_type": "stream",
     "text": [
      "{'name': 'DNDF2015.dbc', 'group': 'Declarações de Nascidos Vivos', 'uf': 'Distrito Federal', 'year': 2015, 'size': '3.3 MB', 'last_update': '2020-01-27 12:08PM'}\n"
     ]
    },
    {
     "name": "stderr",
     "output_type": "stream",
     "text": [
      "DNDF2015.parquet: 100%|██████████| 126k/126k [00:01<00:00, 90.9kB/s]\n"
     ]
    },
    {
     "name": "stdout",
     "output_type": "stream",
     "text": [
      "{'name': 'DNDF2016.dbc', 'group': 'Declarações de Nascidos Vivos', 'uf': 'Distrito Federal', 'year': 2016, 'size': '3.0 MB', 'last_update': '2020-01-27 12:08PM'}\n"
     ]
    },
    {
     "name": "stderr",
     "output_type": "stream",
     "text": [
      "DNDF2016.parquet: 100%|██████████| 119k/119k [00:01<00:00, 84.2kB/s]\n"
     ]
    },
    {
     "name": "stdout",
     "output_type": "stream",
     "text": [
      "{'name': 'DNDF2017.dbc', 'group': 'Declarações de Nascidos Vivos', 'uf': 'Distrito Federal', 'year': 2017, 'size': '3.4 MB', 'last_update': '2020-01-27 12:08PM'}\n"
     ]
    },
    {
     "name": "stderr",
     "output_type": "stream",
     "text": [
      "DNDF2017.parquet: 100%|██████████| 122k/122k [00:01<00:00, 90.6kB/s]\n"
     ]
    },
    {
     "name": "stdout",
     "output_type": "stream",
     "text": [
      "{'name': 'DNDF2018.dbc', 'group': 'Declarações de Nascidos Vivos', 'uf': 'Distrito Federal', 'year': 2018, 'size': '2.3 MB', 'last_update': '2020-04-02 02:43PM'}\n"
     ]
    },
    {
     "name": "stderr",
     "output_type": "stream",
     "text": [
      "DNDF2018.parquet: 100%|██████████| 49.5k/49.5k [00:01<00:00, 37.9kB/s]\n"
     ]
    },
    {
     "name": "stdout",
     "output_type": "stream",
     "text": [
      "{'name': 'DNDF2019.dbc', 'group': 'Declarações de Nascidos Vivos', 'uf': 'Distrito Federal', 'year': 2019, 'size': '2.2 MB', 'last_update': '2020-12-18 05:44PM'}\n"
     ]
    },
    {
     "name": "stderr",
     "output_type": "stream",
     "text": [
      "DNDF2019.parquet: 100%|██████████| 47.5k/47.5k [00:01<00:00, 39.7kB/s]\n"
     ]
    },
    {
     "name": "stdout",
     "output_type": "stream",
     "text": [
      "{'name': 'DNDF2020.dbc', 'group': 'Declarações de Nascidos Vivos', 'uf': 'Distrito Federal', 'year': 2020, 'size': '2.0 MB', 'last_update': '2022-03-31 04:17PM'}\n"
     ]
    },
    {
     "name": "stderr",
     "output_type": "stream",
     "text": [
      "DNDF2020.parquet: 100%|██████████| 44.1k/44.1k [00:01<00:00, 40.5kB/s]\n"
     ]
    },
    {
     "name": "stdout",
     "output_type": "stream",
     "text": [
      "{'name': 'DNDF2021.dbc', 'group': 'Declarações de Nascidos Vivos', 'uf': 'Distrito Federal', 'year': 2021, 'size': '1.9 MB', 'last_update': '2023-04-28 12:53PM'}\n"
     ]
    },
    {
     "name": "stderr",
     "output_type": "stream",
     "text": [
      "DNDF2021.parquet: 100%|██████████| 42.6k/42.6k [00:01<00:00, 36.6kB/s]\n"
     ]
    },
    {
     "name": "stdout",
     "output_type": "stream",
     "text": [
      "{'name': 'DNDF2022.dbc', 'group': 'Declarações de Nascidos Vivos', 'uf': 'Distrito Federal', 'year': 2022, 'size': '1.8 MB', 'last_update': '2023-12-20 04:45PM'}\n"
     ]
    },
    {
     "name": "stderr",
     "output_type": "stream",
     "text": [
      "DNDF2022.parquet: 100%|██████████| 40.2k/40.2k [00:00<00:00, 40.3kB/s]\n"
     ]
    },
    {
     "name": "stdout",
     "output_type": "stream",
     "text": [
      "{'name': 'DNES2012.DBC', 'group': 'Declarações de Nascidos Vivos', 'uf': 'Espírito Santo', 'year': 2012, 'size': '3.3 MB', 'last_update': '2020-01-27 12:08PM'}\n"
     ]
    },
    {
     "name": "stderr",
     "output_type": "stream",
     "text": [
      "DNES2012.parquet: 100%|██████████| 131k/131k [00:01<00:00, 90.9kB/s]\n"
     ]
    },
    {
     "name": "stdout",
     "output_type": "stream",
     "text": [
      "{'name': 'DNES2013.dbc', 'group': 'Declarações de Nascidos Vivos', 'uf': 'Espírito Santo', 'year': 2013, 'size': '3.4 MB', 'last_update': '2020-01-27 12:08PM'}\n"
     ]
    },
    {
     "name": "stderr",
     "output_type": "stream",
     "text": [
      "DNES2013.parquet: 100%|██████████| 142k/142k [00:01<00:00, 86.5kB/s]\n"
     ]
    },
    {
     "name": "stdout",
     "output_type": "stream",
     "text": [
      "{'name': 'DNES2014.dbc', 'group': 'Declarações de Nascidos Vivos', 'uf': 'Espírito Santo', 'year': 2014, 'size': '3.9 MB', 'last_update': '2020-01-27 12:08PM'}\n"
     ]
    },
    {
     "name": "stderr",
     "output_type": "stream",
     "text": [
      "DNES2014.parquet: 100%|██████████| 155k/155k [00:01<00:00, 91.5kB/s]\n"
     ]
    },
    {
     "name": "stdout",
     "output_type": "stream",
     "text": [
      "{'name': 'DNES2015.dbc', 'group': 'Declarações de Nascidos Vivos', 'uf': 'Espírito Santo', 'year': 2015, 'size': '3.9 MB', 'last_update': '2020-01-27 12:08PM'}\n"
     ]
    },
    {
     "name": "stderr",
     "output_type": "stream",
     "text": [
      "DNES2015.parquet: 100%|██████████| 156k/156k [00:01<00:00, 88.2kB/s]\n"
     ]
    },
    {
     "name": "stdout",
     "output_type": "stream",
     "text": [
      "{'name': 'DNES2016.dbc', 'group': 'Declarações de Nascidos Vivos', 'uf': 'Espírito Santo', 'year': 2016, 'size': '3.5 MB', 'last_update': '2020-01-27 12:08PM'}\n"
     ]
    },
    {
     "name": "stderr",
     "output_type": "stream",
     "text": [
      "DNES2016.parquet: 100%|██████████| 146k/146k [00:01<00:00, 85.0kB/s]\n"
     ]
    },
    {
     "name": "stdout",
     "output_type": "stream",
     "text": [
      "{'name': 'DNES2017.dbc', 'group': 'Declarações de Nascidos Vivos', 'uf': 'Espírito Santo', 'year': 2017, 'size': '3.8 MB', 'last_update': '2020-01-27 12:08PM'}\n"
     ]
    },
    {
     "name": "stderr",
     "output_type": "stream",
     "text": [
      "DNES2017.parquet: 100%|██████████| 153k/153k [00:01<00:00, 92.3kB/s]\n"
     ]
    },
    {
     "name": "stdout",
     "output_type": "stream",
     "text": [
      "{'name': 'DNES2018.dbc', 'group': 'Declarações de Nascidos Vivos', 'uf': 'Espírito Santo', 'year': 2018, 'size': '2.8 MB', 'last_update': '2020-04-02 02:43PM'}\n"
     ]
    },
    {
     "name": "stderr",
     "output_type": "stream",
     "text": [
      "DNES2018.parquet: 100%|██████████| 63.5k/63.5k [00:01<00:00, 37.8kB/s]\n"
     ]
    },
    {
     "name": "stdout",
     "output_type": "stream",
     "text": [
      "{'name': 'DNES2019.dbc', 'group': 'Declarações de Nascidos Vivos', 'uf': 'Espírito Santo', 'year': 2019, 'size': '2.7 MB', 'last_update': '2020-12-18 05:44PM'}\n"
     ]
    },
    {
     "name": "stderr",
     "output_type": "stream",
     "text": [
      "DNES2019.parquet: 100%|██████████| 61.5k/61.5k [00:01<00:00, 40.9kB/s]\n"
     ]
    },
    {
     "name": "stdout",
     "output_type": "stream",
     "text": [
      "{'name': 'DNES2020.dbc', 'group': 'Declarações de Nascidos Vivos', 'uf': 'Espírito Santo', 'year': 2020, 'size': '2.6 MB', 'last_update': '2022-03-31 04:17PM'}\n"
     ]
    },
    {
     "name": "stderr",
     "output_type": "stream",
     "text": [
      "DNES2020.parquet: 100%|██████████| 60.2k/60.2k [00:01<00:00, 40.4kB/s]\n"
     ]
    },
    {
     "name": "stdout",
     "output_type": "stream",
     "text": [
      "{'name': 'DNES2021.dbc', 'group': 'Declarações de Nascidos Vivos', 'uf': 'Espírito Santo', 'year': 2021, 'size': '2.5 MB', 'last_update': '2023-04-28 12:53PM'}\n"
     ]
    },
    {
     "name": "stderr",
     "output_type": "stream",
     "text": [
      "DNES2021.parquet: 100%|██████████| 58.8k/58.8k [00:01<00:00, 39.0kB/s]\n"
     ]
    },
    {
     "name": "stdout",
     "output_type": "stream",
     "text": [
      "{'name': 'DNES2022.dbc', 'group': 'Declarações de Nascidos Vivos', 'uf': 'Espírito Santo', 'year': 2022, 'size': '2.5 MB', 'last_update': '2023-12-20 04:45PM'}\n"
     ]
    },
    {
     "name": "stderr",
     "output_type": "stream",
     "text": [
      "DNES2022.parquet: 100%|██████████| 57.9k/57.9k [00:01<00:00, 38.3kB/s]\n"
     ]
    },
    {
     "name": "stdout",
     "output_type": "stream",
     "text": [
      "{'name': 'DNGO2012.DBC', 'group': 'Declarações de Nascidos Vivos', 'uf': 'Goiás', 'year': 2012, 'size': '6.0 MB', 'last_update': '2020-01-27 12:08PM'}\n"
     ]
    },
    {
     "name": "stderr",
     "output_type": "stream",
     "text": [
      "DNGO2012.parquet: 100%|██████████| 231k/231k [00:02<00:00, 91.8kB/s]\n"
     ]
    },
    {
     "name": "stdout",
     "output_type": "stream",
     "text": [
      "{'name': 'DNGO2013.dbc', 'group': 'Declarações de Nascidos Vivos', 'uf': 'Goiás', 'year': 2013, 'size': '6.2 MB', 'last_update': '2020-01-27 12:08PM'}\n"
     ]
    },
    {
     "name": "stderr",
     "output_type": "stream",
     "text": [
      "DNGO2013.parquet: 100%|██████████| 249k/249k [00:02<00:00, 89.0kB/s]\n"
     ]
    },
    {
     "name": "stdout",
     "output_type": "stream",
     "text": [
      "{'name': 'DNGO2014.dbc', 'group': 'Declarações de Nascidos Vivos', 'uf': 'Goiás', 'year': 2014, 'size': '8.0 MB', 'last_update': '2020-01-27 12:09PM'}\n"
     ]
    },
    {
     "name": "stderr",
     "output_type": "stream",
     "text": [
      "DNGO2014.parquet: 100%|██████████| 273k/273k [00:03<00:00, 89.0kB/s]\n"
     ]
    },
    {
     "name": "stdout",
     "output_type": "stream",
     "text": [
      "{'name': 'DNGO2015.dbc', 'group': 'Declarações de Nascidos Vivos', 'uf': 'Goiás', 'year': 2015, 'size': '7.2 MB', 'last_update': '2020-01-27 12:09PM'}\n"
     ]
    },
    {
     "name": "stderr",
     "output_type": "stream",
     "text": [
      "DNGO2015.parquet: 100%|██████████| 275k/275k [00:03<00:00, 88.9kB/s]\n"
     ]
    },
    {
     "name": "stdout",
     "output_type": "stream",
     "text": [
      "{'name': 'DNGO2016.dbc', 'group': 'Declarações de Nascidos Vivos', 'uf': 'Goiás', 'year': 2016, 'size': '7.4 MB', 'last_update': '2020-01-27 12:09PM'}\n"
     ]
    },
    {
     "name": "stderr",
     "output_type": "stream",
     "text": [
      "DNGO2016.parquet: 100%|██████████| 261k/261k [00:02<00:00, 89.8kB/s]\n"
     ]
    },
    {
     "name": "stdout",
     "output_type": "stream",
     "text": [
      "{'name': 'DNGO2017.dbc', 'group': 'Declarações de Nascidos Vivos', 'uf': 'Goiás', 'year': 2017, 'size': '7.9 MB', 'last_update': '2020-01-27 12:09PM'}\n"
     ]
    },
    {
     "name": "stderr",
     "output_type": "stream",
     "text": [
      "DNGO2017.parquet: 100%|██████████| 267k/267k [00:03<00:00, 88.8kB/s]\n"
     ]
    },
    {
     "name": "stdout",
     "output_type": "stream",
     "text": [
      "{'name': 'DNGO2018.dbc', 'group': 'Declarações de Nascidos Vivos', 'uf': 'Goiás', 'year': 2018, 'size': '5.5 MB', 'last_update': '2020-04-02 02:43PM'}\n"
     ]
    },
    {
     "name": "stderr",
     "output_type": "stream",
     "text": [
      "DNGO2018.parquet: 100%|██████████| 111k/111k [00:02<00:00, 39.3kB/s]\n"
     ]
    },
    {
     "name": "stdout",
     "output_type": "stream",
     "text": [
      "{'name': 'DNGO2019.dbc', 'group': 'Declarações de Nascidos Vivos', 'uf': 'Goiás', 'year': 2019, 'size': '5.3 MB', 'last_update': '2020-12-18 05:44PM'}\n"
     ]
    },
    {
     "name": "stderr",
     "output_type": "stream",
     "text": [
      "DNGO2019.parquet: 100%|██████████| 108k/108k [00:02<00:00, 40.7kB/s]\n"
     ]
    },
    {
     "name": "stdout",
     "output_type": "stream",
     "text": [
      "{'name': 'DNGO2020.dbc', 'group': 'Declarações de Nascidos Vivos', 'uf': 'Goiás', 'year': 2020, 'size': '5.1 MB', 'last_update': '2022-03-31 04:17PM'}\n"
     ]
    },
    {
     "name": "stderr",
     "output_type": "stream",
     "text": [
      "DNGO2020.parquet: 100%|██████████| 104k/104k [00:02<00:00, 39.7kB/s]\n"
     ]
    },
    {
     "name": "stdout",
     "output_type": "stream",
     "text": [
      "{'name': 'DNGO2021.dbc', 'group': 'Declarações de Nascidos Vivos', 'uf': 'Goiás', 'year': 2021, 'size': '5.0 MB', 'last_update': '2023-04-28 12:53PM'}\n"
     ]
    },
    {
     "name": "stderr",
     "output_type": "stream",
     "text": [
      "DNGO2021.parquet: 100%|██████████| 102k/102k [00:02<00:00, 39.2kB/s]\n"
     ]
    },
    {
     "name": "stdout",
     "output_type": "stream",
     "text": [
      "{'name': 'DNGO2022.dbc', 'group': 'Declarações de Nascidos Vivos', 'uf': 'Goiás', 'year': 2022, 'size': '4.9 MB', 'last_update': '2023-12-20 04:45PM'}\n"
     ]
    },
    {
     "name": "stderr",
     "output_type": "stream",
     "text": [
      "DNGO2022.parquet: 100%|██████████| 101k/101k [00:02<00:00, 39.2kB/s]\n"
     ]
    },
    {
     "name": "stdout",
     "output_type": "stream",
     "text": [
      "{'name': 'DNMA2012.DBC', 'group': 'Declarações de Nascidos Vivos', 'uf': 'Maranhão', 'year': 2012, 'size': '7.1 MB', 'last_update': '2020-01-27 12:09PM'}\n"
     ]
    },
    {
     "name": "stderr",
     "output_type": "stream",
     "text": [
      "DNMA2012.parquet: 100%|██████████| 287k/287k [00:03<00:00, 88.3kB/s]\n"
     ]
    },
    {
     "name": "stdout",
     "output_type": "stream",
     "text": [
      "{'name': 'DNMA2013.dbc', 'group': 'Declarações de Nascidos Vivos', 'uf': 'Maranhão', 'year': 2013, 'size': '7.1 MB', 'last_update': '2020-01-27 12:09PM'}\n"
     ]
    },
    {
     "name": "stderr",
     "output_type": "stream",
     "text": [
      "DNMA2013.parquet: 100%|██████████| 300k/300k [00:03<00:00, 89.7kB/s]\n"
     ]
    },
    {
     "name": "stdout",
     "output_type": "stream",
     "text": [
      "{'name': 'DNMA2014.dbc', 'group': 'Declarações de Nascidos Vivos', 'uf': 'Maranhão', 'year': 2014, 'size': '8.0 MB', 'last_update': '2020-01-27 12:09PM'}\n"
     ]
    },
    {
     "name": "stderr",
     "output_type": "stream",
     "text": [
      "DNMA2014.parquet: 100%|██████████| 318k/318k [00:03<00:00, 89.8kB/s]\n"
     ]
    },
    {
     "name": "stdout",
     "output_type": "stream",
     "text": [
      "{'name': 'DNMA2015.dbc', 'group': 'Declarações de Nascidos Vivos', 'uf': 'Maranhão', 'year': 2015, 'size': '8.1 MB', 'last_update': '2020-01-27 12:09PM'}\n"
     ]
    },
    {
     "name": "stderr",
     "output_type": "stream",
     "text": [
      "DNMA2015.parquet: 100%|██████████| 319k/319k [00:03<00:00, 89.9kB/s]\n"
     ]
    },
    {
     "name": "stdout",
     "output_type": "stream",
     "text": [
      "{'name': 'DNMA2016.dbc', 'group': 'Declarações de Nascidos Vivos', 'uf': 'Maranhão', 'year': 2016, 'size': '7.4 MB', 'last_update': '2020-01-27 12:09PM'}\n"
     ]
    },
    {
     "name": "stderr",
     "output_type": "stream",
     "text": [
      "DNMA2016.parquet: 100%|██████████| 300k/300k [00:03<00:00, 90.3kB/s]\n"
     ]
    },
    {
     "name": "stdout",
     "output_type": "stream",
     "text": [
      "{'name': 'DNMA2017.dbc', 'group': 'Declarações de Nascidos Vivos', 'uf': 'Maranhão', 'year': 2017, 'size': '7.6 MB', 'last_update': '2020-01-27 12:09PM'}\n"
     ]
    },
    {
     "name": "stderr",
     "output_type": "stream",
     "text": [
      "DNMA2017.parquet: 100%|██████████| 309k/309k [00:03<00:00, 90.5kB/s]\n"
     ]
    },
    {
     "name": "stdout",
     "output_type": "stream",
     "text": [
      "{'name': 'DNMA2018.dbc', 'group': 'Declarações de Nascidos Vivos', 'uf': 'Maranhão', 'year': 2018, 'size': '5.6 MB', 'last_update': '2020-04-02 02:43PM'}\n"
     ]
    },
    {
     "name": "stderr",
     "output_type": "stream",
     "text": [
      "DNMA2018.parquet: 100%|██████████| 131k/131k [00:03<00:00, 39.7kB/s]\n"
     ]
    },
    {
     "name": "stdout",
     "output_type": "stream",
     "text": [
      "{'name': 'DNMA2019.dbc', 'group': 'Declarações de Nascidos Vivos', 'uf': 'Maranhão', 'year': 2019, 'size': '5.4 MB', 'last_update': '2020-12-18 05:44PM'}\n"
     ]
    },
    {
     "name": "stderr",
     "output_type": "stream",
     "text": [
      "DNMA2019.parquet: 100%|██████████| 127k/127k [00:03<00:00, 39.5kB/s]\n"
     ]
    },
    {
     "name": "stdout",
     "output_type": "stream",
     "text": [
      "{'name': 'DNMA2020.dbc', 'group': 'Declarações de Nascidos Vivos', 'uf': 'Maranhão', 'year': 2020, 'size': '4.9 MB', 'last_update': '2022-03-31 04:17PM'}\n"
     ]
    },
    {
     "name": "stderr",
     "output_type": "stream",
     "text": [
      "DNMA2020.parquet: 100%|██████████| 119k/119k [00:02<00:00, 39.8kB/s]\n"
     ]
    },
    {
     "name": "stdout",
     "output_type": "stream",
     "text": [
      "{'name': 'DNMA2021.dbc', 'group': 'Declarações de Nascidos Vivos', 'uf': 'Maranhão', 'year': 2021, 'size': '5.0 MB', 'last_update': '2023-04-28 12:53PM'}\n"
     ]
    },
    {
     "name": "stderr",
     "output_type": "stream",
     "text": [
      "DNMA2021.parquet: 100%|██████████| 122k/122k [00:03<00:00, 39.9kB/s]\n"
     ]
    },
    {
     "name": "stdout",
     "output_type": "stream",
     "text": [
      "{'name': 'DNMA2022.dbc', 'group': 'Declarações de Nascidos Vivos', 'uf': 'Maranhão', 'year': 2022, 'size': '4.7 MB', 'last_update': '2023-12-20 04:45PM'}\n"
     ]
    },
    {
     "name": "stderr",
     "output_type": "stream",
     "text": [
      "DNMA2022.parquet: 100%|██████████| 110k/110k [00:02<00:00, 39.9kB/s]\n"
     ]
    },
    {
     "name": "stdout",
     "output_type": "stream",
     "text": [
      "{'name': 'DNMG2012.DBC', 'group': 'Declarações de Nascidos Vivos', 'uf': 'Minas Gerais', 'year': 2012, 'size': '16.7 MB', 'last_update': '2020-01-27 12:10PM'}\n"
     ]
    },
    {
     "name": "stderr",
     "output_type": "stream",
     "text": [
      "DNMG2012.parquet: 100%|██████████| 645k/645k [00:07<00:00, 89.8kB/s]\n"
     ]
    },
    {
     "name": "stdout",
     "output_type": "stream",
     "text": [
      "{'name': 'DNMG2013.dbc', 'group': 'Declarações de Nascidos Vivos', 'uf': 'Minas Gerais', 'year': 2013, 'size': '16.4 MB', 'last_update': '2020-01-27 12:10PM'}\n"
     ]
    },
    {
     "name": "stderr",
     "output_type": "stream",
     "text": [
      "DNMG2013.parquet: 100%|██████████| 679k/679k [00:07<00:00, 89.8kB/s]\n"
     ]
    },
    {
     "name": "stdout",
     "output_type": "stream",
     "text": [
      "{'name': 'DNMG2014.dbc', 'group': 'Declarações de Nascidos Vivos', 'uf': 'Minas Gerais', 'year': 2014, 'size': '19.0 MB', 'last_update': '2020-01-27 12:10PM'}\n"
     ]
    },
    {
     "name": "stderr",
     "output_type": "stream",
     "text": [
      "DNMG2014.parquet: 100%|██████████| 731k/731k [00:08<00:00, 90.8kB/s]\n"
     ]
    },
    {
     "name": "stdout",
     "output_type": "stream",
     "text": [
      "{'name': 'DNMG2015.dbc', 'group': 'Declarações de Nascidos Vivos', 'uf': 'Minas Gerais', 'year': 2015, 'size': '18.9 MB', 'last_update': '2020-01-27 12:10PM'}\n"
     ]
    },
    {
     "name": "stderr",
     "output_type": "stream",
     "text": [
      "DNMG2015.parquet: 100%|██████████| 734k/734k [00:08<00:00, 89.4kB/s]\n"
     ]
    },
    {
     "name": "stdout",
     "output_type": "stream",
     "text": [
      "{'name': 'DNMG2016.dbc', 'group': 'Declarações de Nascidos Vivos', 'uf': 'Minas Gerais', 'year': 2016, 'size': '17.4 MB', 'last_update': '2020-01-27 12:10PM'}\n"
     ]
    },
    {
     "name": "stderr",
     "output_type": "stream",
     "text": [
      "DNMG2016.parquet: 100%|██████████| 693k/693k [00:07<00:00, 90.9kB/s]\n"
     ]
    },
    {
     "name": "stdout",
     "output_type": "stream",
     "text": [
      "{'name': 'DNMG2017.dbc', 'group': 'Declarações de Nascidos Vivos', 'uf': 'Minas Gerais', 'year': 2017, 'size': '18.6 MB', 'last_update': '2020-01-27 12:10PM'}\n"
     ]
    },
    {
     "name": "stderr",
     "output_type": "stream",
     "text": [
      "DNMG2017.parquet: 100%|██████████| 714k/714k [00:07<00:00, 90.6kB/s]\n"
     ]
    },
    {
     "name": "stdout",
     "output_type": "stream",
     "text": [
      "{'name': 'DNMG2018.dbc', 'group': 'Declarações de Nascidos Vivos', 'uf': 'Minas Gerais', 'year': 2018, 'size': '13.1 MB', 'last_update': '2020-04-02 02:43PM'}\n"
     ]
    },
    {
     "name": "stderr",
     "output_type": "stream",
     "text": [
      "DNMG2018.parquet: 100%|██████████| 295k/295k [00:07<00:00, 40.0kB/s]\n"
     ]
    },
    {
     "name": "stdout",
     "output_type": "stream",
     "text": [
      "{'name': 'DNMG2019.dbc', 'group': 'Declarações de Nascidos Vivos', 'uf': 'Minas Gerais', 'year': 2019, 'size': '12.8 MB', 'last_update': '2020-12-18 05:44PM'}\n"
     ]
    },
    {
     "name": "stderr",
     "output_type": "stream",
     "text": [
      "DNMG2019.parquet: 100%|██████████| 288k/288k [00:07<00:00, 39.6kB/s]\n"
     ]
    },
    {
     "name": "stdout",
     "output_type": "stream",
     "text": [
      "{'name': 'DNMG2020.dbc', 'group': 'Declarações de Nascidos Vivos', 'uf': 'Minas Gerais', 'year': 2020, 'size': '12.3 MB', 'last_update': '2022-03-31 04:17PM'}\n"
     ]
    },
    {
     "name": "stderr",
     "output_type": "stream",
     "text": [
      "DNMG2020.parquet: 100%|██████████| 277k/277k [00:06<00:00, 39.8kB/s]\n"
     ]
    },
    {
     "name": "stdout",
     "output_type": "stream",
     "text": [
      "{'name': 'DNMG2021.dbc', 'group': 'Declarações de Nascidos Vivos', 'uf': 'Minas Gerais', 'year': 2021, 'size': '12.0 MB', 'last_update': '2023-04-28 12:53PM'}\n"
     ]
    },
    {
     "name": "stderr",
     "output_type": "stream",
     "text": [
      "DNMG2021.parquet: 100%|██████████| 271k/271k [00:06<00:00, 40.0kB/s]\n"
     ]
    },
    {
     "name": "stdout",
     "output_type": "stream",
     "text": [
      "{'name': 'DNMG2022.dbc', 'group': 'Declarações de Nascidos Vivos', 'uf': 'Minas Gerais', 'year': 2022, 'size': '11.7 MB', 'last_update': '2023-12-20 04:45PM'}\n"
     ]
    },
    {
     "name": "stderr",
     "output_type": "stream",
     "text": [
      "DNMG2022.parquet: 100%|██████████| 263k/263k [00:06<00:00, 40.0kB/s]\n"
     ]
    },
    {
     "name": "stdout",
     "output_type": "stream",
     "text": [
      "{'name': 'DNMS2012.DBC', 'group': 'Declarações de Nascidos Vivos', 'uf': 'Mato Grosso do Sul', 'year': 2012, 'size': '2.7 MB', 'last_update': '2020-01-27 12:10PM'}\n"
     ]
    },
    {
     "name": "stderr",
     "output_type": "stream",
     "text": [
      "DNMS2012.parquet: 100%|██████████| 105k/105k [00:01<00:00, 90.2kB/s]\n"
     ]
    },
    {
     "name": "stdout",
     "output_type": "stream",
     "text": [
      "{'name': 'DNMS2013.dbc', 'group': 'Declarações de Nascidos Vivos', 'uf': 'Mato Grosso do Sul', 'year': 2013, 'size': '2.6 MB', 'last_update': '2020-01-27 12:10PM'}\n"
     ]
    },
    {
     "name": "stderr",
     "output_type": "stream",
     "text": [
      "DNMS2013.parquet: 100%|██████████| 111k/111k [00:01<00:00, 82.7kB/s]\n"
     ]
    },
    {
     "name": "stdout",
     "output_type": "stream",
     "text": [
      "{'name': 'DNMS2014.dbc', 'group': 'Declarações de Nascidos Vivos', 'uf': 'Mato Grosso do Sul', 'year': 2014, 'size': '3.1 MB', 'last_update': '2020-01-27 12:10PM'}\n"
     ]
    },
    {
     "name": "stderr",
     "output_type": "stream",
     "text": [
      "DNMS2014.parquet: 100%|██████████| 121k/121k [00:01<00:00, 90.4kB/s]\n"
     ]
    },
    {
     "name": "stdout",
     "output_type": "stream",
     "text": [
      "{'name': 'DNMS2015.dbc', 'group': 'Declarações de Nascidos Vivos', 'uf': 'Mato Grosso do Sul', 'year': 2015, 'size': '3.1 MB', 'last_update': '2020-01-27 12:10PM'}\n"
     ]
    },
    {
     "name": "stderr",
     "output_type": "stream",
     "text": [
      "DNMS2015.parquet: 100%|██████████| 121k/121k [00:01<00:00, 91.8kB/s]\n"
     ]
    },
    {
     "name": "stdout",
     "output_type": "stream",
     "text": [
      "{'name': 'DNMS2016.dbc', 'group': 'Declarações de Nascidos Vivos', 'uf': 'Mato Grosso do Sul', 'year': 2016, 'size': '3.0 MB', 'last_update': '2020-01-27 12:10PM'}\n"
     ]
    },
    {
     "name": "stderr",
     "output_type": "stream",
     "text": [
      "DNMS2016.parquet: 100%|██████████| 116k/116k [00:01<00:00, 84.1kB/s]\n"
     ]
    },
    {
     "name": "stdout",
     "output_type": "stream",
     "text": [
      "{'name': 'DNMS2017.dbc', 'group': 'Declarações de Nascidos Vivos', 'uf': 'Mato Grosso do Sul', 'year': 2017, 'size': '3.3 MB', 'last_update': '2020-01-27 12:10PM'}\n"
     ]
    },
    {
     "name": "stderr",
     "output_type": "stream",
     "text": [
      "DNMS2017.parquet: 100%|██████████| 122k/122k [00:01<00:00, 91.8kB/s]\n"
     ]
    },
    {
     "name": "stdout",
     "output_type": "stream",
     "text": [
      "{'name': 'DNMS2018.dbc', 'group': 'Declarações de Nascidos Vivos', 'uf': 'Mato Grosso do Sul', 'year': 2018, 'size': '2.3 MB', 'last_update': '2020-04-02 02:43PM'}\n"
     ]
    },
    {
     "name": "stderr",
     "output_type": "stream",
     "text": [
      "DNMS2018.parquet: 100%|██████████| 49.6k/49.6k [00:01<00:00, 40.6kB/s]\n"
     ]
    },
    {
     "name": "stdout",
     "output_type": "stream",
     "text": [
      "{'name': 'DNMS2019.dbc', 'group': 'Declarações de Nascidos Vivos', 'uf': 'Mato Grosso do Sul', 'year': 2019, 'size': '2.2 MB', 'last_update': '2020-12-18 05:44PM'}\n"
     ]
    },
    {
     "name": "stderr",
     "output_type": "stream",
     "text": [
      "DNMS2019.parquet: 100%|██████████| 48.9k/48.9k [00:01<00:00, 37.9kB/s]\n"
     ]
    },
    {
     "name": "stdout",
     "output_type": "stream",
     "text": [
      "{'name': 'DNMS2020.dbc', 'group': 'Declarações de Nascidos Vivos', 'uf': 'Mato Grosso do Sul', 'year': 2020, 'size': '2.1 MB', 'last_update': '2022-03-31 04:17PM'}\n"
     ]
    },
    {
     "name": "stderr",
     "output_type": "stream",
     "text": [
      "DNMS2020.parquet: 100%|██████████| 46.3k/46.3k [00:01<00:00, 40.4kB/s]\n"
     ]
    },
    {
     "name": "stdout",
     "output_type": "stream",
     "text": [
      "{'name': 'DNMS2021.dbc', 'group': 'Declarações de Nascidos Vivos', 'uf': 'Mato Grosso do Sul', 'year': 2021, 'size': '2.2 MB', 'last_update': '2023-04-28 12:53PM'}\n"
     ]
    },
    {
     "name": "stderr",
     "output_type": "stream",
     "text": [
      "DNMS2021.parquet: 100%|██████████| 47.2k/47.2k [00:01<00:00, 37.2kB/s]\n"
     ]
    },
    {
     "name": "stdout",
     "output_type": "stream",
     "text": [
      "{'name': 'DNMS2022.dbc', 'group': 'Declarações de Nascidos Vivos', 'uf': 'Mato Grosso do Sul', 'year': 2022, 'size': '2.1 MB', 'last_update': '2023-12-20 04:45PM'}\n"
     ]
    },
    {
     "name": "stderr",
     "output_type": "stream",
     "text": [
      "DNMS2022.parquet: 100%|██████████| 45.4k/45.4k [00:01<00:00, 40.5kB/s]\n"
     ]
    },
    {
     "name": "stdout",
     "output_type": "stream",
     "text": [
      "{'name': 'DNMT2012.DBC', 'group': 'Declarações de Nascidos Vivos', 'uf': 'Mato Grosso', 'year': 2012, 'size': '3.3 MB', 'last_update': '2020-01-27 12:10PM'}\n"
     ]
    },
    {
     "name": "stderr",
     "output_type": "stream",
     "text": [
      "DNMT2012.parquet: 100%|██████████| 127k/127k [00:01<00:00, 85.2kB/s]\n"
     ]
    },
    {
     "name": "stdout",
     "output_type": "stream",
     "text": [
      "{'name': 'DNMT2013.dbc', 'group': 'Declarações de Nascidos Vivos', 'uf': 'Mato Grosso', 'year': 2013, 'size': '3.4 MB', 'last_update': '2020-01-27 12:10PM'}\n"
     ]
    },
    {
     "name": "stderr",
     "output_type": "stream",
     "text": [
      "DNMT2013.parquet: 100%|██████████| 139k/139k [00:01<00:00, 91.9kB/s]\n"
     ]
    },
    {
     "name": "stdout",
     "output_type": "stream",
     "text": [
      "{'name': 'DNMT2014.dbc', 'group': 'Declarações de Nascidos Vivos', 'uf': 'Mato Grosso', 'year': 2014, 'size': '4.0 MB', 'last_update': '2020-01-27 12:10PM'}\n"
     ]
    },
    {
     "name": "stderr",
     "output_type": "stream",
     "text": [
      "DNMT2014.parquet: 100%|██████████| 155k/155k [00:01<00:00, 86.4kB/s]\n"
     ]
    },
    {
     "name": "stdout",
     "output_type": "stream",
     "text": [
      "{'name': 'DNMT2015.dbc', 'group': 'Declarações de Nascidos Vivos', 'uf': 'Mato Grosso', 'year': 2015, 'size': '4.0 MB', 'last_update': '2020-01-27 12:10PM'}\n"
     ]
    },
    {
     "name": "stderr",
     "output_type": "stream",
     "text": [
      "DNMT2015.parquet: 100%|██████████| 155k/155k [00:01<00:00, 92.9kB/s]\n"
     ]
    },
    {
     "name": "stdout",
     "output_type": "stream",
     "text": [
      "{'name': 'DNMT2016.dbc', 'group': 'Declarações de Nascidos Vivos', 'uf': 'Mato Grosso', 'year': 2016, 'size': '3.6 MB', 'last_update': '2020-01-27 12:10PM'}\n"
     ]
    },
    {
     "name": "stderr",
     "output_type": "stream",
     "text": [
      "DNMT2016.parquet: 100%|██████████| 146k/146k [00:01<00:00, 86.3kB/s]\n"
     ]
    },
    {
     "name": "stdout",
     "output_type": "stream",
     "text": [
      "{'name': 'DNMT2017.dbc', 'group': 'Declarações de Nascidos Vivos', 'uf': 'Mato Grosso', 'year': 2017, 'size': '4.0 MB', 'last_update': '2020-01-27 12:10PM'}\n"
     ]
    },
    {
     "name": "stderr",
     "output_type": "stream",
     "text": [
      "DNMT2017.parquet: 100%|██████████| 157k/157k [00:01<00:00, 92.2kB/s]\n"
     ]
    },
    {
     "name": "stdout",
     "output_type": "stream",
     "text": [
      "{'name': 'DNMT2018.dbc', 'group': 'Declarações de Nascidos Vivos', 'uf': 'Mato Grosso', 'year': 2018, 'size': '2.9 MB', 'last_update': '2020-04-02 02:43PM'}\n"
     ]
    },
    {
     "name": "stderr",
     "output_type": "stream",
     "text": [
      "DNMT2018.parquet: 100%|██████████| 65.7k/65.7k [00:01<00:00, 38.1kB/s]\n"
     ]
    },
    {
     "name": "stdout",
     "output_type": "stream",
     "text": [
      "{'name': 'DNMT2019.dbc', 'group': 'Declarações de Nascidos Vivos', 'uf': 'Mato Grosso', 'year': 2019, 'size': '2.9 MB', 'last_update': '2020-12-18 05:44PM'}\n"
     ]
    },
    {
     "name": "stderr",
     "output_type": "stream",
     "text": [
      "DNMT2019.parquet: 100%|██████████| 65.9k/65.9k [00:01<00:00, 40.9kB/s]\n"
     ]
    },
    {
     "name": "stdout",
     "output_type": "stream",
     "text": [
      "{'name': 'DNMT2020.dbc', 'group': 'Declarações de Nascidos Vivos', 'uf': 'Mato Grosso', 'year': 2020, 'size': '2.8 MB', 'last_update': '2022-03-31 04:17PM'}\n"
     ]
    },
    {
     "name": "stderr",
     "output_type": "stream",
     "text": [
      "DNMT2020.parquet: 100%|██████████| 63.9k/63.9k [00:01<00:00, 37.7kB/s]\n"
     ]
    },
    {
     "name": "stdout",
     "output_type": "stream",
     "text": [
      "{'name': 'DNMT2021.dbc', 'group': 'Declarações de Nascidos Vivos', 'uf': 'Mato Grosso', 'year': 2021, 'size': '2.9 MB', 'last_update': '2023-04-28 12:54PM'}\n"
     ]
    },
    {
     "name": "stderr",
     "output_type": "stream",
     "text": [
      "DNMT2021.parquet: 100%|██████████| 64.8k/64.8k [00:01<00:00, 41.1kB/s]\n"
     ]
    },
    {
     "name": "stdout",
     "output_type": "stream",
     "text": [
      "{'name': 'DNMT2022.dbc', 'group': 'Declarações de Nascidos Vivos', 'uf': 'Mato Grosso', 'year': 2022, 'size': '2.9 MB', 'last_update': '2023-12-20 04:45PM'}\n"
     ]
    },
    {
     "name": "stderr",
     "output_type": "stream",
     "text": [
      "DNMT2022.parquet: 100%|██████████| 65.2k/65.2k [00:01<00:00, 38.3kB/s]\n"
     ]
    },
    {
     "name": "stdout",
     "output_type": "stream",
     "text": [
      "{'name': 'DNPA2012.DBC', 'group': 'Declarações de Nascidos Vivos', 'uf': 'Pará', 'year': 2012, 'size': '8.4 MB', 'last_update': '2020-01-27 12:10PM'}\n"
     ]
    },
    {
     "name": "stderr",
     "output_type": "stream",
     "text": [
      "DNPA2012.parquet: 100%|██████████| 341k/341k [00:03<00:00, 89.9kB/s]\n"
     ]
    },
    {
     "name": "stdout",
     "output_type": "stream",
     "text": [
      "{'name': 'DNPA2013.dbc', 'group': 'Declarações de Nascidos Vivos', 'uf': 'Pará', 'year': 2013, 'size': '8.6 MB', 'last_update': '2020-01-27 12:10PM'}\n"
     ]
    },
    {
     "name": "stderr",
     "output_type": "stream",
     "text": [
      "DNPA2013.parquet: 100%|██████████| 366k/366k [00:04<00:00, 91.0kB/s]\n"
     ]
    },
    {
     "name": "stdout",
     "output_type": "stream",
     "text": [
      "{'name': 'DNPA2014.dbc', 'group': 'Declarações de Nascidos Vivos', 'uf': 'Pará', 'year': 2014, 'size': '9.9 MB', 'last_update': '2020-01-27 12:10PM'}\n"
     ]
    },
    {
     "name": "stderr",
     "output_type": "stream",
     "text": [
      "DNPA2014.parquet: 100%|██████████| 392k/392k [00:04<00:00, 90.7kB/s]\n"
     ]
    },
    {
     "name": "stdout",
     "output_type": "stream",
     "text": [
      "{'name': 'DNPA2015.dbc', 'group': 'Declarações de Nascidos Vivos', 'uf': 'Pará', 'year': 2015, 'size': '9.9 MB', 'last_update': '2020-01-27 12:10PM'}\n"
     ]
    },
    {
     "name": "stderr",
     "output_type": "stream",
     "text": [
      "DNPA2015.parquet: 100%|██████████| 393k/393k [00:04<00:00, 88.0kB/s]\n"
     ]
    },
    {
     "name": "stdout",
     "output_type": "stream",
     "text": [
      "{'name': 'DNPA2016.dbc', 'group': 'Declarações de Nascidos Vivos', 'uf': 'Pará', 'year': 2016, 'size': '9.1 MB', 'last_update': '2020-01-27 12:10PM'}\n"
     ]
    },
    {
     "name": "stderr",
     "output_type": "stream",
     "text": [
      "DNPA2016.parquet: 100%|██████████| 377k/377k [00:04<00:00, 90.6kB/s]\n"
     ]
    },
    {
     "name": "stdout",
     "output_type": "stream",
     "text": [
      "{'name': 'DNPA2017.dbc', 'group': 'Declarações de Nascidos Vivos', 'uf': 'Pará', 'year': 2017, 'size': '9.5 MB', 'last_update': '2020-01-27 12:10PM'}\n"
     ]
    },
    {
     "name": "stderr",
     "output_type": "stream",
     "text": [
      "DNPA2017.parquet: 100%|██████████| 379k/379k [00:04<00:00, 90.5kB/s]\n"
     ]
    },
    {
     "name": "stdout",
     "output_type": "stream",
     "text": [
      "{'name': 'DNPA2018.dbc', 'group': 'Declarações de Nascidos Vivos', 'uf': 'Pará', 'year': 2018, 'size': '6.8 MB', 'last_update': '2020-04-02 02:43PM'}\n"
     ]
    },
    {
     "name": "stderr",
     "output_type": "stream",
     "text": [
      "DNPA2018.parquet: 100%|██████████| 159k/159k [00:03<00:00, 40.0kB/s]\n"
     ]
    },
    {
     "name": "stdout",
     "output_type": "stream",
     "text": [
      "{'name': 'DNPA2019.dbc', 'group': 'Declarações de Nascidos Vivos', 'uf': 'Pará', 'year': 2019, 'size': '6.6 MB', 'last_update': '2020-12-18 05:44PM'}\n"
     ]
    },
    {
     "name": "stderr",
     "output_type": "stream",
     "text": [
      "DNPA2019.parquet: 100%|██████████| 155k/155k [00:03<00:00, 40.1kB/s]\n"
     ]
    },
    {
     "name": "stdout",
     "output_type": "stream",
     "text": [
      "{'name': 'DNPA2020.dbc', 'group': 'Declarações de Nascidos Vivos', 'uf': 'Pará', 'year': 2020, 'size': '6.3 MB', 'last_update': '2022-03-31 04:17PM'}\n"
     ]
    },
    {
     "name": "stderr",
     "output_type": "stream",
     "text": [
      "DNPA2020.parquet: 100%|██████████| 149k/149k [00:03<00:00, 39.1kB/s]\n"
     ]
    },
    {
     "name": "stdout",
     "output_type": "stream",
     "text": [
      "{'name': 'DNPA2021.dbc', 'group': 'Declarações de Nascidos Vivos', 'uf': 'Pará', 'year': 2021, 'size': '6.5 MB', 'last_update': '2023-04-28 12:54PM'}\n"
     ]
    },
    {
     "name": "stderr",
     "output_type": "stream",
     "text": [
      "DNPA2021.parquet: 100%|██████████| 154k/154k [00:03<00:00, 40.0kB/s]\n"
     ]
    },
    {
     "name": "stdout",
     "output_type": "stream",
     "text": [
      "{'name': 'DNPA2022.dbc', 'group': 'Declarações de Nascidos Vivos', 'uf': 'Pará', 'year': 2022, 'size': '6.1 MB', 'last_update': '2023-12-20 04:45PM'}\n"
     ]
    },
    {
     "name": "stderr",
     "output_type": "stream",
     "text": [
      "DNPA2022.parquet: 100%|██████████| 143k/143k [00:03<00:00, 39.5kB/s]\n"
     ]
    },
    {
     "name": "stdout",
     "output_type": "stream",
     "text": [
      "{'name': 'DNPB2012.DBC', 'group': 'Declarações de Nascidos Vivos', 'uf': 'Paraíba', 'year': 2012, 'size': '3.6 MB', 'last_update': '2020-01-27 12:10PM'}\n"
     ]
    },
    {
     "name": "stderr",
     "output_type": "stream",
     "text": [
      "DNPB2012.parquet: 100%|██████████| 141k/141k [00:01<00:00, 90.1kB/s]\n"
     ]
    },
    {
     "name": "stdout",
     "output_type": "stream",
     "text": [
      "{'name': 'DNPB2013.dbc', 'group': 'Declarações de Nascidos Vivos', 'uf': 'Paraíba', 'year': 2013, 'size': '3.6 MB', 'last_update': '2020-01-27 12:10PM'}\n"
     ]
    },
    {
     "name": "stderr",
     "output_type": "stream",
     "text": [
      "DNPB2013.parquet: 100%|██████████| 149k/149k [00:01<00:00, 84.4kB/s]\n"
     ]
    },
    {
     "name": "stdout",
     "output_type": "stream",
     "text": [
      "{'name': 'DNPB2014.dbc', 'group': 'Declarações de Nascidos Vivos', 'uf': 'Paraíba', 'year': 2014, 'size': '3.9 MB', 'last_update': '2020-01-27 12:10PM'}\n"
     ]
    },
    {
     "name": "stderr",
     "output_type": "stream",
     "text": [
      "DNPB2014.parquet: 100%|██████████| 157k/157k [00:01<00:00, 93.0kB/s]\n"
     ]
    },
    {
     "name": "stdout",
     "output_type": "stream",
     "text": [
      "{'name': 'DNPB2015.dbc', 'group': 'Declarações de Nascidos Vivos', 'uf': 'Paraíba', 'year': 2015, 'size': '4.0 MB', 'last_update': '2020-01-27 12:10PM'}\n"
     ]
    },
    {
     "name": "stderr",
     "output_type": "stream",
     "text": [
      "DNPB2015.parquet: 100%|██████████| 162k/162k [00:01<00:00, 88.1kB/s]\n"
     ]
    },
    {
     "name": "stdout",
     "output_type": "stream",
     "text": [
      "{'name': 'DNPB2016.dbc', 'group': 'Declarações de Nascidos Vivos', 'uf': 'Paraíba', 'year': 2016, 'size': '3.7 MB', 'last_update': '2020-01-27 12:10PM'}\n"
     ]
    },
    {
     "name": "stderr",
     "output_type": "stream",
     "text": [
      "DNPB2016.parquet: 100%|██████████| 153k/153k [00:01<00:00, 93.5kB/s]\n"
     ]
    },
    {
     "name": "stdout",
     "output_type": "stream",
     "text": [
      "{'name': 'DNPB2017.dbc', 'group': 'Declarações de Nascidos Vivos', 'uf': 'Paraíba', 'year': 2017, 'size': '3.9 MB', 'last_update': '2020-01-27 12:10PM'}\n"
     ]
    },
    {
     "name": "stderr",
     "output_type": "stream",
     "text": [
      "DNPB2017.parquet: 100%|██████████| 157k/157k [00:01<00:00, 86.7kB/s]\n"
     ]
    },
    {
     "name": "stdout",
     "output_type": "stream",
     "text": [
      "{'name': 'DNPB2018.dbc', 'group': 'Declarações de Nascidos Vivos', 'uf': 'Paraíba', 'year': 2018, 'size': '2.9 MB', 'last_update': '2020-04-02 02:43PM'}\n"
     ]
    },
    {
     "name": "stderr",
     "output_type": "stream",
     "text": [
      "DNPB2018.parquet: 100%|██████████| 67.4k/67.4k [00:01<00:00, 40.7kB/s]\n"
     ]
    },
    {
     "name": "stdout",
     "output_type": "stream",
     "text": [
      "{'name': 'DNPB2019.dbc', 'group': 'Declarações de Nascidos Vivos', 'uf': 'Paraíba', 'year': 2019, 'size': '2.7 MB', 'last_update': '2020-12-18 05:44PM'}\n"
     ]
    },
    {
     "name": "stderr",
     "output_type": "stream",
     "text": [
      "DNPB2019.parquet: 100%|██████████| 64.6k/64.6k [00:01<00:00, 38.7kB/s]\n"
     ]
    },
    {
     "name": "stdout",
     "output_type": "stream",
     "text": [
      "{'name': 'DNPB2020.dbc', 'group': 'Declarações de Nascidos Vivos', 'uf': 'Paraíba', 'year': 2020, 'size': '2.7 MB', 'last_update': '2022-03-31 04:17PM'}\n"
     ]
    },
    {
     "name": "stderr",
     "output_type": "stream",
     "text": [
      "DNPB2020.parquet: 100%|██████████| 63.2k/63.2k [00:01<00:00, 40.8kB/s]\n"
     ]
    },
    {
     "name": "stdout",
     "output_type": "stream",
     "text": [
      "{'name': 'DNPB2021.dbc', 'group': 'Declarações de Nascidos Vivos', 'uf': 'Paraíba', 'year': 2021, 'size': '2.7 MB', 'last_update': '2023-04-28 12:54PM'}\n"
     ]
    },
    {
     "name": "stderr",
     "output_type": "stream",
     "text": [
      "DNPB2021.parquet: 100%|██████████| 62.8k/62.8k [00:01<00:00, 38.7kB/s]\n"
     ]
    },
    {
     "name": "stdout",
     "output_type": "stream",
     "text": [
      "{'name': 'DNPB2022.dbc', 'group': 'Declarações de Nascidos Vivos', 'uf': 'Paraíba', 'year': 2022, 'size': '2.4 MB', 'last_update': '2023-12-20 04:45PM'}\n"
     ]
    },
    {
     "name": "stderr",
     "output_type": "stream",
     "text": [
      "DNPB2022.parquet: 100%|██████████| 57.0k/57.0k [00:01<00:00, 41.2kB/s]\n"
     ]
    },
    {
     "name": "stdout",
     "output_type": "stream",
     "text": [
      "{'name': 'DNPE2012.DBC', 'group': 'Declarações de Nascidos Vivos', 'uf': 'Pernambuco', 'year': 2012, 'size': '9.0 MB', 'last_update': '2020-01-27 12:11PM'}\n"
     ]
    },
    {
     "name": "stderr",
     "output_type": "stream",
     "text": [
      "DNPE2012.parquet: 100%|██████████| 350k/350k [00:04<00:00, 87.1kB/s]\n"
     ]
    },
    {
     "name": "stdout",
     "output_type": "stream",
     "text": [
      "{'name': 'DNPE2013.dbc', 'group': 'Declarações de Nascidos Vivos', 'uf': 'Pernambuco', 'year': 2013, 'size': '9.0 MB', 'last_update': '2020-01-27 12:11PM'}\n"
     ]
    },
    {
     "name": "stderr",
     "output_type": "stream",
     "text": [
      "DNPE2013.parquet: 100%|██████████| 371k/371k [00:04<00:00, 91.1kB/s]\n"
     ]
    },
    {
     "name": "stdout",
     "output_type": "stream",
     "text": [
      "{'name': 'DNPE2014.dbc', 'group': 'Declarações de Nascidos Vivos', 'uf': 'Pernambuco', 'year': 2014, 'size': '10.4 MB', 'last_update': '2020-01-27 12:11PM'}\n"
     ]
    },
    {
     "name": "stderr",
     "output_type": "stream",
     "text": [
      "DNPE2014.parquet: 100%|██████████| 392k/392k [00:04<00:00, 90.8kB/s]\n"
     ]
    },
    {
     "name": "stdout",
     "output_type": "stream",
     "text": [
      "{'name': 'DNPE2015.dbc', 'group': 'Declarações de Nascidos Vivos', 'uf': 'Pernambuco', 'year': 2015, 'size': '10.4 MB', 'last_update': '2020-01-27 12:11PM'}\n"
     ]
    },
    {
     "name": "stderr",
     "output_type": "stream",
     "text": [
      "DNPE2015.parquet: 100%|██████████| 397k/397k [00:04<00:00, 89.3kB/s]\n"
     ]
    },
    {
     "name": "stdout",
     "output_type": "stream",
     "text": [
      "{'name': 'DNPE2016.dbc', 'group': 'Declarações de Nascidos Vivos', 'uf': 'Pernambuco', 'year': 2016, 'size': '9.2 MB', 'last_update': '2020-01-27 12:11PM'}\n"
     ]
    },
    {
     "name": "stderr",
     "output_type": "stream",
     "text": [
      "DNPE2016.parquet: 100%|██████████| 358k/358k [00:03<00:00, 89.9kB/s]\n"
     ]
    },
    {
     "name": "stdout",
     "output_type": "stream",
     "text": [
      "{'name': 'DNPE2017.dbc', 'group': 'Declarações de Nascidos Vivos', 'uf': 'Pernambuco', 'year': 2017, 'size': '9.9 MB', 'last_update': '2020-01-27 12:11PM'}\n"
     ]
    },
    {
     "name": "stderr",
     "output_type": "stream",
     "text": [
      "DNPE2017.parquet: 100%|██████████| 372k/372k [00:04<00:00, 90.9kB/s]\n"
     ]
    },
    {
     "name": "stdout",
     "output_type": "stream",
     "text": [
      "{'name': 'DNPE2018.dbc', 'group': 'Declarações de Nascidos Vivos', 'uf': 'Pernambuco', 'year': 2018, 'size': '6.9 MB', 'last_update': '2020-04-02 02:43PM'}\n"
     ]
    },
    {
     "name": "stderr",
     "output_type": "stream",
     "text": [
      "DNPE2018.parquet: 100%|██████████| 155k/155k [00:03<00:00, 39.9kB/s]\n"
     ]
    },
    {
     "name": "stdout",
     "output_type": "stream",
     "text": [
      "{'name': 'DNPE2019.dbc', 'group': 'Declarações de Nascidos Vivos', 'uf': 'Pernambuco', 'year': 2019, 'size': '6.7 MB', 'last_update': '2020-12-18 05:44PM'}\n"
     ]
    },
    {
     "name": "stderr",
     "output_type": "stream",
     "text": [
      "DNPE2019.parquet: 100%|██████████| 149k/149k [00:03<00:00, 40.0kB/s]\n"
     ]
    },
    {
     "name": "stdout",
     "output_type": "stream",
     "text": [
      "{'name': 'DNPE2020.dbc', 'group': 'Declarações de Nascidos Vivos', 'uf': 'Pernambuco', 'year': 2020, 'size': '6.4 MB', 'last_update': '2022-03-31 04:17PM'}\n"
     ]
    },
    {
     "name": "stderr",
     "output_type": "stream",
     "text": [
      "DNPE2020.parquet: 100%|██████████| 144k/144k [00:03<00:00, 39.8kB/s]\n"
     ]
    },
    {
     "name": "stdout",
     "output_type": "stream",
     "text": [
      "{'name': 'DNPE2021.dbc', 'group': 'Declarações de Nascidos Vivos', 'uf': 'Pernambuco', 'year': 2021, 'size': '6.3 MB', 'last_update': '2023-04-28 12:54PM'}\n"
     ]
    },
    {
     "name": "stderr",
     "output_type": "stream",
     "text": [
      "DNPE2021.parquet: 100%|██████████| 141k/141k [00:03<00:00, 38.8kB/s]\n"
     ]
    },
    {
     "name": "stdout",
     "output_type": "stream",
     "text": [
      "{'name': 'DNPE2022.dbc', 'group': 'Declarações de Nascidos Vivos', 'uf': 'Pernambuco', 'year': 2022, 'size': '5.9 MB', 'last_update': '2023-12-20 04:45PM'}\n"
     ]
    },
    {
     "name": "stderr",
     "output_type": "stream",
     "text": [
      "DNPE2022.parquet: 100%|██████████| 132k/132k [00:03<00:00, 39.7kB/s]\n"
     ]
    },
    {
     "name": "stdout",
     "output_type": "stream",
     "text": [
      "{'name': 'DNPI2012.DBC', 'group': 'Declarações de Nascidos Vivos', 'uf': 'Piauí', 'year': 2012, 'size': '3.0 MB', 'last_update': '2020-01-27 12:11PM'}\n"
     ]
    },
    {
     "name": "stderr",
     "output_type": "stream",
     "text": [
      "DNPI2012.parquet: 100%|██████████| 119k/119k [00:01<00:00, 90.8kB/s]\n"
     ]
    },
    {
     "name": "stdout",
     "output_type": "stream",
     "text": [
      "{'name': 'DNPI2013.dbc', 'group': 'Declarações de Nascidos Vivos', 'uf': 'Piauí', 'year': 2013, 'size': '3.0 MB', 'last_update': '2020-01-27 12:11PM'}\n"
     ]
    },
    {
     "name": "stderr",
     "output_type": "stream",
     "text": [
      "DNPI2013.parquet: 100%|██████████| 122k/122k [00:01<00:00, 90.9kB/s]\n"
     ]
    },
    {
     "name": "stdout",
     "output_type": "stream",
     "text": [
      "{'name': 'DNPI2014.dbc', 'group': 'Declarações de Nascidos Vivos', 'uf': 'Piauí', 'year': 2014, 'size': '3.3 MB', 'last_update': '2020-01-27 12:11PM'}\n"
     ]
    },
    {
     "name": "stderr",
     "output_type": "stream",
     "text": [
      "DNPI2014.parquet: 100%|██████████| 131k/131k [00:01<00:00, 86.6kB/s]\n"
     ]
    },
    {
     "name": "stdout",
     "output_type": "stream",
     "text": [
      "{'name': 'DNPI2015.dbc', 'group': 'Declarações de Nascidos Vivos', 'uf': 'Piauí', 'year': 2015, 'size': '3.4 MB', 'last_update': '2020-01-27 12:11PM'}\n"
     ]
    },
    {
     "name": "stderr",
     "output_type": "stream",
     "text": [
      "DNPI2015.parquet: 100%|██████████| 135k/135k [00:01<00:00, 91.9kB/s]\n"
     ]
    },
    {
     "name": "stdout",
     "output_type": "stream",
     "text": [
      "{'name': 'DNPI2016.dbc', 'group': 'Declarações de Nascidos Vivos', 'uf': 'Piauí', 'year': 2016, 'size': '3.2 MB', 'last_update': '2020-01-27 12:11PM'}\n"
     ]
    },
    {
     "name": "stderr",
     "output_type": "stream",
     "text": [
      "DNPI2016.parquet: 100%|██████████| 128k/128k [00:01<00:00, 84.5kB/s]\n"
     ]
    },
    {
     "name": "stdout",
     "output_type": "stream",
     "text": [
      "{'name': 'DNPI2017.dbc', 'group': 'Declarações de Nascidos Vivos', 'uf': 'Piauí', 'year': 2017, 'size': '3.3 MB', 'last_update': '2020-01-27 12:11PM'}\n"
     ]
    },
    {
     "name": "stderr",
     "output_type": "stream",
     "text": [
      "DNPI2017.parquet: 100%|██████████| 133k/133k [00:01<00:00, 92.5kB/s]\n"
     ]
    },
    {
     "name": "stdout",
     "output_type": "stream",
     "text": [
      "{'name': 'DNPI2018.dbc', 'group': 'Declarações de Nascidos Vivos', 'uf': 'Piauí', 'year': 2018, 'size': '2.4 MB', 'last_update': '2020-04-02 02:43PM'}\n"
     ]
    },
    {
     "name": "stderr",
     "output_type": "stream",
     "text": [
      "DNPI2018.parquet: 100%|██████████| 55.4k/55.4k [00:01<00:00, 37.8kB/s]\n"
     ]
    },
    {
     "name": "stdout",
     "output_type": "stream",
     "text": [
      "{'name': 'DNPI2019.dbc', 'group': 'Declarações de Nascidos Vivos', 'uf': 'Piauí', 'year': 2019, 'size': '2.3 MB', 'last_update': '2020-12-18 05:44PM'}\n"
     ]
    },
    {
     "name": "stderr",
     "output_type": "stream",
     "text": [
      "DNPI2019.parquet: 100%|██████████| 53.7k/53.7k [00:01<00:00, 40.8kB/s]\n"
     ]
    },
    {
     "name": "stdout",
     "output_type": "stream",
     "text": [
      "{'name': 'DNPI2020.dbc', 'group': 'Declarações de Nascidos Vivos', 'uf': 'Piauí', 'year': 2020, 'size': '2.2 MB', 'last_update': '2022-03-31 04:17PM'}\n"
     ]
    },
    {
     "name": "stderr",
     "output_type": "stream",
     "text": [
      "DNPI2020.parquet: 100%|██████████| 50.7k/50.7k [00:01<00:00, 40.3kB/s]\n"
     ]
    },
    {
     "name": "stdout",
     "output_type": "stream",
     "text": [
      "{'name': 'DNPI2021.dbc', 'group': 'Declarações de Nascidos Vivos', 'uf': 'Piauí', 'year': 2021, 'size': '2.2 MB', 'last_update': '2023-04-28 12:54PM'}\n"
     ]
    },
    {
     "name": "stderr",
     "output_type": "stream",
     "text": [
      "DNPI2021.parquet: 100%|██████████| 51.5k/51.5k [00:01<00:00, 38.0kB/s]\n"
     ]
    },
    {
     "name": "stdout",
     "output_type": "stream",
     "text": [
      "{'name': 'DNPI2022.dbc', 'group': 'Declarações de Nascidos Vivos', 'uf': 'Piauí', 'year': 2022, 'size': '2.0 MB', 'last_update': '2023-12-20 04:45PM'}\n"
     ]
    },
    {
     "name": "stderr",
     "output_type": "stream",
     "text": [
      "DNPI2022.parquet: 100%|██████████| 47.3k/47.3k [00:01<00:00, 40.1kB/s]\n"
     ]
    },
    {
     "name": "stdout",
     "output_type": "stream",
     "text": [
      "{'name': 'DNPR2012.DBC', 'group': 'Declarações de Nascidos Vivos', 'uf': 'Paraná', 'year': 2012, 'size': '10.8 MB', 'last_update': '2020-01-27 12:11PM'}\n"
     ]
    },
    {
     "name": "stderr",
     "output_type": "stream",
     "text": [
      "DNPR2012.parquet: 100%|██████████| 381k/381k [00:04<00:00, 87.3kB/s]\n"
     ]
    },
    {
     "name": "stdout",
     "output_type": "stream",
     "text": [
      "{'name': 'DNPR2013.dbc', 'group': 'Declarações de Nascidos Vivos', 'uf': 'Paraná', 'year': 2013, 'size': '10.8 MB', 'last_update': '2020-01-27 12:11PM'}\n"
     ]
    },
    {
     "name": "stderr",
     "output_type": "stream",
     "text": [
      "DNPR2013.parquet: 100%|██████████| 409k/409k [00:04<00:00, 89.2kB/s]\n"
     ]
    },
    {
     "name": "stdout",
     "output_type": "stream",
     "text": [
      "{'name': 'DNPR2014.dbc', 'group': 'Declarações de Nascidos Vivos', 'uf': 'Paraná', 'year': 2014, 'size': '11.8 MB', 'last_update': '2020-01-27 12:11PM'}\n"
     ]
    },
    {
     "name": "stderr",
     "output_type": "stream",
     "text": [
      "DNPR2014.parquet: 100%|██████████| 437k/437k [00:04<00:00, 91.5kB/s]\n"
     ]
    },
    {
     "name": "stdout",
     "output_type": "stream",
     "text": [
      "{'name': 'DNPR2015.dbc', 'group': 'Declarações de Nascidos Vivos', 'uf': 'Paraná', 'year': 2015, 'size': '11.5 MB', 'last_update': '2020-01-27 12:11PM'}\n"
     ]
    },
    {
     "name": "stderr",
     "output_type": "stream",
     "text": [
      "DNPR2015.parquet: 100%|██████████| 440k/440k [00:04<00:00, 89.8kB/s]\n"
     ]
    },
    {
     "name": "stdout",
     "output_type": "stream",
     "text": [
      "{'name': 'DNPR2016.dbc', 'group': 'Declarações de Nascidos Vivos', 'uf': 'Paraná', 'year': 2016, 'size': '10.7 MB', 'last_update': '2020-01-27 12:11PM'}\n"
     ]
    },
    {
     "name": "stderr",
     "output_type": "stream",
     "text": [
      "DNPR2016.parquet: 100%|██████████| 424k/424k [00:04<00:00, 90.7kB/s]\n"
     ]
    },
    {
     "name": "stdout",
     "output_type": "stream",
     "text": [
      "{'name': 'DNPR2017.dbc', 'group': 'Declarações de Nascidos Vivos', 'uf': 'Paraná', 'year': 2017, 'size': '11.3 MB', 'last_update': '2020-01-27 12:11PM'}\n"
     ]
    },
    {
     "name": "stderr",
     "output_type": "stream",
     "text": [
      "DNPR2017.parquet: 100%|██████████| 431k/431k [00:04<00:00, 88.7kB/s]\n"
     ]
    },
    {
     "name": "stdout",
     "output_type": "stream",
     "text": [
      "{'name': 'DNPR2018.dbc', 'group': 'Declarações de Nascidos Vivos', 'uf': 'Paraná', 'year': 2018, 'size': '7.8 MB', 'last_update': '2020-04-02 02:43PM'}\n"
     ]
    },
    {
     "name": "stderr",
     "output_type": "stream",
     "text": [
      "DNPR2018.parquet: 100%|██████████| 175k/175k [00:04<00:00, 40.0kB/s]\n"
     ]
    },
    {
     "name": "stdout",
     "output_type": "stream",
     "text": [
      "{'name': 'DNPR2019.dbc', 'group': 'Declarações de Nascidos Vivos', 'uf': 'Paraná', 'year': 2019, 'size': '7.7 MB', 'last_update': '2020-12-18 05:44PM'}\n"
     ]
    },
    {
     "name": "stderr",
     "output_type": "stream",
     "text": [
      "DNPR2019.parquet: 100%|██████████| 172k/172k [00:04<00:00, 40.0kB/s]\n"
     ]
    },
    {
     "name": "stdout",
     "output_type": "stream",
     "text": [
      "{'name': 'DNPR2020.dbc', 'group': 'Declarações de Nascidos Vivos', 'uf': 'Paraná', 'year': 2020, 'size': '7.4 MB', 'last_update': '2022-03-31 04:17PM'}\n"
     ]
    },
    {
     "name": "stderr",
     "output_type": "stream",
     "text": [
      "DNPR2020.parquet: 100%|██████████| 164k/164k [00:04<00:00, 39.1kB/s]\n"
     ]
    },
    {
     "name": "stdout",
     "output_type": "stream",
     "text": [
      "{'name': 'DNPR2021.dbc', 'group': 'Declarações de Nascidos Vivos', 'uf': 'Paraná', 'year': 2021, 'size': '7.1 MB', 'last_update': '2023-04-28 12:54PM'}\n"
     ]
    },
    {
     "name": "stderr",
     "output_type": "stream",
     "text": [
      "DNPR2021.parquet: 100%|██████████| 159k/159k [00:04<00:00, 39.2kB/s]\n"
     ]
    },
    {
     "name": "stdout",
     "output_type": "stream",
     "text": [
      "{'name': 'DNPR2022.dbc', 'group': 'Declarações de Nascidos Vivos', 'uf': 'Paraná', 'year': 2022, 'size': '7.0 MB', 'last_update': '2023-12-20 04:45PM'}\n"
     ]
    },
    {
     "name": "stderr",
     "output_type": "stream",
     "text": [
      "DNPR2022.parquet: 100%|██████████| 158k/158k [00:03<00:00, 39.8kB/s]\n"
     ]
    },
    {
     "name": "stdout",
     "output_type": "stream",
     "text": [
      "{'name': 'DNRJ2012.DBC', 'group': 'Declarações de Nascidos Vivos', 'uf': 'Rio de Janeiro', 'year': 2012, 'size': '13.6 MB', 'last_update': '2020-01-27 12:11PM'}\n"
     ]
    },
    {
     "name": "stderr",
     "output_type": "stream",
     "text": [
      "DNRJ2012.parquet: 100%|██████████| 552k/552k [00:06<00:00, 88.6kB/s]\n"
     ]
    },
    {
     "name": "stdout",
     "output_type": "stream",
     "text": [
      "{'name': 'DNRJ2013.dbc', 'group': 'Declarações de Nascidos Vivos', 'uf': 'Rio de Janeiro', 'year': 2013, 'size': '13.5 MB', 'last_update': '2020-01-27 12:11PM'}\n"
     ]
    },
    {
     "name": "stderr",
     "output_type": "stream",
     "text": [
      "DNRJ2013.parquet: 100%|██████████| 588k/588k [00:06<00:00, 89.0kB/s]\n"
     ]
    },
    {
     "name": "stdout",
     "output_type": "stream",
     "text": [
      "{'name': 'DNRJ2014.dbc', 'group': 'Declarações de Nascidos Vivos', 'uf': 'Rio de Janeiro', 'year': 2014, 'size': '16.5 MB', 'last_update': '2020-01-27 12:11PM'}\n"
     ]
    },
    {
     "name": "stderr",
     "output_type": "stream",
     "text": [
      "DNRJ2014.parquet: 100%|██████████| 639k/639k [00:07<00:00, 90.7kB/s]\n"
     ]
    },
    {
     "name": "stdout",
     "output_type": "stream",
     "text": [
      "{'name': 'DNRJ2015.dbc', 'group': 'Declarações de Nascidos Vivos', 'uf': 'Rio de Janeiro', 'year': 2015, 'size': '15.8 MB', 'last_update': '2020-01-27 12:11PM'}\n"
     ]
    },
    {
     "name": "stderr",
     "output_type": "stream",
     "text": [
      "DNRJ2015.parquet: 100%|██████████| 648k/648k [00:07<00:00, 91.0kB/s]\n"
     ]
    },
    {
     "name": "stdout",
     "output_type": "stream",
     "text": [
      "{'name': 'DNRJ2016.dbc', 'group': 'Declarações de Nascidos Vivos', 'uf': 'Rio de Janeiro', 'year': 2016, 'size': '15.0 MB', 'last_update': '2020-01-27 12:11PM'}\n"
     ]
    },
    {
     "name": "stderr",
     "output_type": "stream",
     "text": [
      "DNRJ2016.parquet: 100%|██████████| 599k/599k [00:06<00:00, 90.5kB/s]\n"
     ]
    },
    {
     "name": "stdout",
     "output_type": "stream",
     "text": [
      "{'name': 'DNRJ2017.dbc', 'group': 'Declarações de Nascidos Vivos', 'uf': 'Rio de Janeiro', 'year': 2017, 'size': '15.8 MB', 'last_update': '2020-01-27 12:11PM'}\n"
     ]
    },
    {
     "name": "stderr",
     "output_type": "stream",
     "text": [
      "DNRJ2017.parquet: 100%|██████████| 611k/611k [00:06<00:00, 90.5kB/s]\n"
     ]
    },
    {
     "name": "stdout",
     "output_type": "stream",
     "text": [
      "{'name': 'DNRJ2018.dbc', 'group': 'Declarações de Nascidos Vivos', 'uf': 'Rio de Janeiro', 'year': 2018, 'size': '10.8 MB', 'last_update': '2020-04-02 02:43PM'}\n"
     ]
    },
    {
     "name": "stderr",
     "output_type": "stream",
     "text": [
      "DNRJ2018.parquet: 100%|██████████| 247k/247k [00:06<00:00, 40.1kB/s]\n"
     ]
    },
    {
     "name": "stdout",
     "output_type": "stream",
     "text": [
      "{'name': 'DNRJ2019.dbc', 'group': 'Declarações de Nascidos Vivos', 'uf': 'Rio de Janeiro', 'year': 2019, 'size': '10.1 MB', 'last_update': '2020-12-18 05:44PM'}\n"
     ]
    },
    {
     "name": "stderr",
     "output_type": "stream",
     "text": [
      "DNRJ2019.parquet: 100%|██████████| 233k/233k [00:05<00:00, 39.9kB/s]\n"
     ]
    },
    {
     "name": "stdout",
     "output_type": "stream",
     "text": [
      "{'name': 'DNRJ2020.dbc', 'group': 'Declarações de Nascidos Vivos', 'uf': 'Rio de Janeiro', 'year': 2020, 'size': '9.8 MB', 'last_update': '2022-03-31 04:17PM'}\n"
     ]
    },
    {
     "name": "stderr",
     "output_type": "stream",
     "text": [
      "DNRJ2020.parquet: 100%|██████████| 223k/223k [00:05<00:00, 39.7kB/s]\n"
     ]
    },
    {
     "name": "stdout",
     "output_type": "stream",
     "text": [
      "{'name': 'DNRJ2021.dbc', 'group': 'Declarações de Nascidos Vivos', 'uf': 'Rio de Janeiro', 'year': 2021, 'size': '9.3 MB', 'last_update': '2023-04-28 12:54PM'}\n"
     ]
    },
    {
     "name": "stderr",
     "output_type": "stream",
     "text": [
      "DNRJ2021.parquet: 100%|██████████| 213k/213k [00:05<00:00, 39.2kB/s]\n"
     ]
    },
    {
     "name": "stdout",
     "output_type": "stream",
     "text": [
      "{'name': 'DNRJ2022.dbc', 'group': 'Declarações de Nascidos Vivos', 'uf': 'Rio de Janeiro', 'year': 2022, 'size': '8.9 MB', 'last_update': '2023-12-20 04:45PM'}\n"
     ]
    },
    {
     "name": "stderr",
     "output_type": "stream",
     "text": [
      "DNRJ2022.parquet: 100%|██████████| 202k/202k [00:05<00:00, 40.1kB/s]\n"
     ]
    },
    {
     "name": "stdout",
     "output_type": "stream",
     "text": [
      "{'name': 'DNRN2012.DBC', 'group': 'Declarações de Nascidos Vivos', 'uf': 'Rio Grande do Norte', 'year': 2012, 'size': '3.0 MB', 'last_update': '2020-01-27 12:11PM'}\n"
     ]
    },
    {
     "name": "stderr",
     "output_type": "stream",
     "text": [
      "DNRN2012.parquet: 100%|██████████| 115k/115k [00:01<00:00, 84.1kB/s]\n"
     ]
    },
    {
     "name": "stdout",
     "output_type": "stream",
     "text": [
      "{'name': 'DNRN2013.dbc', 'group': 'Declarações de Nascidos Vivos', 'uf': 'Rio Grande do Norte', 'year': 2013, 'size': '3.0 MB', 'last_update': '2020-01-27 12:11PM'}\n"
     ]
    },
    {
     "name": "stderr",
     "output_type": "stream",
     "text": [
      "DNRN2013.parquet: 100%|██████████| 122k/122k [00:01<00:00, 91.4kB/s]\n"
     ]
    },
    {
     "name": "stdout",
     "output_type": "stream",
     "text": [
      "{'name': 'DNRN2014.dbc', 'group': 'Declarações de Nascidos Vivos', 'uf': 'Rio Grande do Norte', 'year': 2014, 'size': '3.4 MB', 'last_update': '2020-01-27 12:11PM'}\n"
     ]
    },
    {
     "name": "stderr",
     "output_type": "stream",
     "text": [
      "DNRN2014.parquet: 100%|██████████| 131k/131k [00:01<00:00, 90.7kB/s]\n"
     ]
    },
    {
     "name": "stdout",
     "output_type": "stream",
     "text": [
      "{'name': 'DNRN2015.dbc', 'group': 'Declarações de Nascidos Vivos', 'uf': 'Rio Grande do Norte', 'year': 2015, 'size': '3.4 MB', 'last_update': '2020-01-27 12:11PM'}\n"
     ]
    },
    {
     "name": "stderr",
     "output_type": "stream",
     "text": [
      "DNRN2015.parquet: 100%|██████████| 134k/134k [00:01<00:00, 87.9kB/s]\n"
     ]
    },
    {
     "name": "stdout",
     "output_type": "stream",
     "text": [
      "{'name': 'DNRN2016.dbc', 'group': 'Declarações de Nascidos Vivos', 'uf': 'Rio Grande do Norte', 'year': 2016, 'size': '3.0 MB', 'last_update': '2020-01-27 12:11PM'}\n"
     ]
    },
    {
     "name": "stderr",
     "output_type": "stream",
     "text": [
      "DNRN2016.parquet: 100%|██████████| 124k/124k [00:01<00:00, 92.9kB/s]\n"
     ]
    },
    {
     "name": "stdout",
     "output_type": "stream",
     "text": [
      "{'name': 'DNRN2017.dbc', 'group': 'Declarações de Nascidos Vivos', 'uf': 'Rio Grande do Norte', 'year': 2017, 'size': '3.2 MB', 'last_update': '2020-01-27 12:11PM'}\n"
     ]
    },
    {
     "name": "stderr",
     "output_type": "stream",
     "text": [
      "DNRN2017.parquet: 100%|██████████| 126k/126k [00:01<00:00, 83.8kB/s]\n"
     ]
    },
    {
     "name": "stdout",
     "output_type": "stream",
     "text": [
      "{'name': 'DNRN2018.dbc', 'group': 'Declarações de Nascidos Vivos', 'uf': 'Rio Grande do Norte', 'year': 2018, 'size': '2.3 MB', 'last_update': '2020-04-02 02:43PM'}\n"
     ]
    },
    {
     "name": "stderr",
     "output_type": "stream",
     "text": [
      "DNRN2018.parquet: 100%|██████████| 53.9k/53.9k [00:01<00:00, 40.8kB/s]\n"
     ]
    },
    {
     "name": "stdout",
     "output_type": "stream",
     "text": [
      "{'name': 'DNRN2019.dbc', 'group': 'Declarações de Nascidos Vivos', 'uf': 'Rio Grande do Norte', 'year': 2019, 'size': '2.2 MB', 'last_update': '2020-12-18 05:44PM'}\n"
     ]
    },
    {
     "name": "stderr",
     "output_type": "stream",
     "text": [
      "DNRN2019.parquet: 100%|██████████| 49.3k/49.3k [00:01<00:00, 36.8kB/s]\n"
     ]
    },
    {
     "name": "stdout",
     "output_type": "stream",
     "text": [
      "{'name': 'DNRN2020.dbc', 'group': 'Declarações de Nascidos Vivos', 'uf': 'Rio Grande do Norte', 'year': 2020, 'size': '2.1 MB', 'last_update': '2022-03-31 04:17PM'}\n"
     ]
    },
    {
     "name": "stderr",
     "output_type": "stream",
     "text": [
      "DNRN2020.parquet: 100%|██████████| 48.8k/48.8k [00:01<00:00, 40.4kB/s]\n"
     ]
    },
    {
     "name": "stdout",
     "output_type": "stream",
     "text": [
      "{'name': 'DNRN2021.dbc', 'group': 'Declarações de Nascidos Vivos', 'uf': 'Rio Grande do Norte', 'year': 2021, 'size': '2.1 MB', 'last_update': '2023-04-28 12:54PM'}\n"
     ]
    },
    {
     "name": "stderr",
     "output_type": "stream",
     "text": [
      "DNRN2021.parquet: 100%|██████████| 48.7k/48.7k [00:01<00:00, 40.7kB/s]\n"
     ]
    },
    {
     "name": "stdout",
     "output_type": "stream",
     "text": [
      "{'name': 'DNRN2022.dbc', 'group': 'Declarações de Nascidos Vivos', 'uf': 'Rio Grande do Norte', 'year': 2022, 'size': '2.0 MB', 'last_update': '2023-12-20 04:45PM'}\n"
     ]
    },
    {
     "name": "stderr",
     "output_type": "stream",
     "text": [
      "DNRN2022.parquet: 100%|██████████| 44.9k/44.9k [00:01<00:00, 36.8kB/s]\n"
     ]
    },
    {
     "name": "stdout",
     "output_type": "stream",
     "text": [
      "{'name': 'DNRO2012.DBC', 'group': 'Declarações de Nascidos Vivos', 'uf': 'Rondônia', 'year': 2012, 'size': '1.6 MB', 'last_update': '2020-01-27 12:11PM'}\n"
     ]
    },
    {
     "name": "stderr",
     "output_type": "stream",
     "text": [
      "DNRO2012.parquet: 100%|██████████| 65.1k/65.1k [00:00<00:00, 89.5kB/s]\n"
     ]
    },
    {
     "name": "stdout",
     "output_type": "stream",
     "text": [
      "{'name': 'DNRO2013.dbc', 'group': 'Declarações de Nascidos Vivos', 'uf': 'Rondônia', 'year': 2013, 'size': '1.7 MB', 'last_update': '2020-01-27 12:11PM'}\n"
     ]
    },
    {
     "name": "stderr",
     "output_type": "stream",
     "text": [
      "DNRO2013.parquet: 100%|██████████| 71.1k/71.1k [00:00<00:00, 89.6kB/s]\n"
     ]
    },
    {
     "name": "stdout",
     "output_type": "stream",
     "text": [
      "{'name': 'DNRO2014.dbc', 'group': 'Declarações de Nascidos Vivos', 'uf': 'Rondônia', 'year': 2014, 'size': '1.9 MB', 'last_update': '2020-01-27 12:11PM'}\n"
     ]
    },
    {
     "name": "stderr",
     "output_type": "stream",
     "text": [
      "DNRO2014.parquet: 100%|██████████| 75.4k/75.4k [00:00<00:00, 91.4kB/s]\n"
     ]
    },
    {
     "name": "stdout",
     "output_type": "stream",
     "text": [
      "{'name': 'DNRO2015.dbc', 'group': 'Declarações de Nascidos Vivos', 'uf': 'Rondônia', 'year': 2015, 'size': '1.9 MB', 'last_update': '2020-01-27 12:11PM'}\n"
     ]
    },
    {
     "name": "stderr",
     "output_type": "stream",
     "text": [
      "DNRO2015.parquet: 100%|██████████| 76.4k/76.4k [00:00<00:00, 82.0kB/s]\n"
     ]
    },
    {
     "name": "stdout",
     "output_type": "stream",
     "text": [
      "{'name': 'DNRO2016.dbc', 'group': 'Declarações de Nascidos Vivos', 'uf': 'Rondônia', 'year': 2016, 'size': '1.8 MB', 'last_update': '2020-01-27 12:11PM'}\n"
     ]
    },
    {
     "name": "stderr",
     "output_type": "stream",
     "text": [
      "DNRO2016.parquet: 100%|██████████| 72.8k/72.8k [00:00<00:00, 91.2kB/s]\n"
     ]
    },
    {
     "name": "stdout",
     "output_type": "stream",
     "text": [
      "{'name': 'DNRO2017.dbc', 'group': 'Declarações de Nascidos Vivos', 'uf': 'Rondônia', 'year': 2017, 'size': '1.8 MB', 'last_update': '2020-01-27 12:11PM'}\n"
     ]
    },
    {
     "name": "stderr",
     "output_type": "stream",
     "text": [
      "DNRO2017.parquet: 100%|██████████| 75.2k/75.2k [00:00<00:00, 91.3kB/s]\n"
     ]
    },
    {
     "name": "stdout",
     "output_type": "stream",
     "text": [
      "{'name': 'DNRO2018.dbc', 'group': 'Declarações de Nascidos Vivos', 'uf': 'Rondônia', 'year': 2018, 'size': '1.4 MB', 'last_update': '2020-04-02 02:43PM'}\n"
     ]
    },
    {
     "name": "stderr",
     "output_type": "stream",
     "text": [
      "DNRO2018.parquet: 100%|██████████| 31.5k/31.5k [00:00<00:00, 40.6kB/s]\n"
     ]
    },
    {
     "name": "stdout",
     "output_type": "stream",
     "text": [
      "{'name': 'DNRO2019.dbc', 'group': 'Declarações de Nascidos Vivos', 'uf': 'Rondônia', 'year': 2019, 'size': '1.3 MB', 'last_update': '2020-12-18 05:44PM'}\n"
     ]
    },
    {
     "name": "stderr",
     "output_type": "stream",
     "text": [
      "DNRO2019.parquet: 100%|██████████| 30.3k/30.3k [00:00<00:00, 35.6kB/s]\n"
     ]
    },
    {
     "name": "stdout",
     "output_type": "stream",
     "text": [
      "{'name': 'DNRO2020.dbc', 'group': 'Declarações de Nascidos Vivos', 'uf': 'Rondônia', 'year': 2020, 'size': '1.3 MB', 'last_update': '2022-03-31 04:17PM'}\n"
     ]
    },
    {
     "name": "stderr",
     "output_type": "stream",
     "text": [
      "DNRO2020.parquet: 100%|██████████| 28.9k/28.9k [00:00<00:00, 40.2kB/s]\n"
     ]
    },
    {
     "name": "stdout",
     "output_type": "stream",
     "text": [
      "{'name': 'DNRO2021.dbc', 'group': 'Declarações de Nascidos Vivos', 'uf': 'Rondônia', 'year': 2021, 'size': '1.3 MB', 'last_update': '2023-04-28 12:54PM'}\n"
     ]
    },
    {
     "name": "stderr",
     "output_type": "stream",
     "text": [
      "DNRO2021.parquet: 100%|██████████| 28.5k/28.5k [00:00<00:00, 39.7kB/s]\n"
     ]
    },
    {
     "name": "stdout",
     "output_type": "stream",
     "text": [
      "{'name': 'DNRO2022.dbc', 'group': 'Declarações de Nascidos Vivos', 'uf': 'Rondônia', 'year': 2022, 'size': '1.2 MB', 'last_update': '2023-12-20 04:45PM'}\n"
     ]
    },
    {
     "name": "stderr",
     "output_type": "stream",
     "text": [
      "DNRO2022.parquet: 100%|██████████| 27.9k/27.9k [00:00<00:00, 39.0kB/s]\n"
     ]
    },
    {
     "name": "stdout",
     "output_type": "stream",
     "text": [
      "{'name': 'DNRR2012.DBC', 'group': 'Declarações de Nascidos Vivos', 'uf': 'Roraima', 'year': 2012, 'size': '661.6 kB', 'last_update': '2020-01-27 12:11PM'}\n"
     ]
    },
    {
     "name": "stderr",
     "output_type": "stream",
     "text": [
      "DNRR2012.parquet: 100%|██████████| 25.8k/25.8k [00:00<00:00, 83.5kB/s]\n"
     ]
    },
    {
     "name": "stdout",
     "output_type": "stream",
     "text": [
      "{'name': 'DNRR2013.dbc', 'group': 'Declarações de Nascidos Vivos', 'uf': 'Roraima', 'year': 2013, 'size': '678.4 kB', 'last_update': '2020-01-27 12:11PM'}\n"
     ]
    },
    {
     "name": "stderr",
     "output_type": "stream",
     "text": [
      "DNRR2013.parquet: 100%|██████████| 28.4k/28.4k [00:00<00:00, 67.5kB/s]\n"
     ]
    },
    {
     "name": "stdout",
     "output_type": "stream",
     "text": [
      "{'name': 'DNRR2014.dbc', 'group': 'Declarações de Nascidos Vivos', 'uf': 'Roraima', 'year': 2014, 'size': '761.4 kB', 'last_update': '2020-01-27 12:11PM'}\n"
     ]
    },
    {
     "name": "stderr",
     "output_type": "stream",
     "text": [
      "DNRR2014.parquet: 100%|██████████| 30.4k/30.4k [00:00<00:00, 87.2kB/s]\n"
     ]
    },
    {
     "name": "stdout",
     "output_type": "stream",
     "text": [
      "{'name': 'DNRR2015.dbc', 'group': 'Declarações de Nascidos Vivos', 'uf': 'Roraima', 'year': 2015, 'size': '800.2 kB', 'last_update': '2020-01-27 12:11PM'}\n"
     ]
    },
    {
     "name": "stderr",
     "output_type": "stream",
     "text": [
      "DNRR2015.parquet: 100%|██████████| 31.0k/31.0k [00:00<00:00, 87.9kB/s]\n"
     ]
    },
    {
     "name": "stdout",
     "output_type": "stream",
     "text": [
      "{'name': 'DNRR2016.dbc', 'group': 'Declarações de Nascidos Vivos', 'uf': 'Roraima', 'year': 2016, 'size': '775.0 kB', 'last_update': '2020-01-27 12:11PM'}\n"
     ]
    },
    {
     "name": "stderr",
     "output_type": "stream",
     "text": [
      "DNRR2016.parquet: 100%|██████████| 30.7k/30.7k [00:00<00:00, 87.5kB/s]\n"
     ]
    },
    {
     "name": "stdout",
     "output_type": "stream",
     "text": [
      "{'name': 'DNRR2017.dbc', 'group': 'Declarações de Nascidos Vivos', 'uf': 'Roraima', 'year': 2017, 'size': '809.3 kB', 'last_update': '2020-01-27 12:11PM'}\n"
     ]
    },
    {
     "name": "stderr",
     "output_type": "stream",
     "text": [
      "DNRR2017.parquet: 100%|██████████| 32.1k/32.1k [00:00<00:00, 88.1kB/s]\n"
     ]
    },
    {
     "name": "stdout",
     "output_type": "stream",
     "text": [
      "{'name': 'DNRR2018.dbc', 'group': 'Declarações de Nascidos Vivos', 'uf': 'Roraima', 'year': 2018, 'size': '636.3 kB', 'last_update': '2020-04-02 02:43PM'}\n"
     ]
    },
    {
     "name": "stderr",
     "output_type": "stream",
     "text": [
      "DNRR2018.parquet: 100%|██████████| 15.0k/15.0k [00:00<00:00, 38.7kB/s]\n"
     ]
    },
    {
     "name": "stdout",
     "output_type": "stream",
     "text": [
      "{'name': 'DNRR2019.dbc', 'group': 'Declarações de Nascidos Vivos', 'uf': 'Roraima', 'year': 2019, 'size': '695.8 kB', 'last_update': '2020-12-18 05:44PM'}\n"
     ]
    },
    {
     "name": "stderr",
     "output_type": "stream",
     "text": [
      "DNRR2019.parquet: 100%|██████████| 16.4k/16.4k [00:00<00:00, 38.7kB/s]\n"
     ]
    },
    {
     "name": "stdout",
     "output_type": "stream",
     "text": [
      "{'name': 'DNRR2020.dbc', 'group': 'Declarações de Nascidos Vivos', 'uf': 'Roraima', 'year': 2020, 'size': '659.6 kB', 'last_update': '2022-03-31 04:17PM'}\n"
     ]
    },
    {
     "name": "stderr",
     "output_type": "stream",
     "text": [
      "DNRR2020.parquet: 100%|██████████| 15.4k/15.4k [00:00<00:00, 39.7kB/s]\n"
     ]
    },
    {
     "name": "stdout",
     "output_type": "stream",
     "text": [
      "{'name': 'DNRR2021.dbc', 'group': 'Declarações de Nascidos Vivos', 'uf': 'Roraima', 'year': 2021, 'size': '670.5 kB', 'last_update': '2023-04-28 12:54PM'}\n"
     ]
    },
    {
     "name": "stderr",
     "output_type": "stream",
     "text": [
      "DNRR2021.parquet: 100%|██████████| 15.6k/15.6k [00:00<00:00, 38.3kB/s]\n"
     ]
    },
    {
     "name": "stdout",
     "output_type": "stream",
     "text": [
      "{'name': 'DNRR2022.dbc', 'group': 'Declarações de Nascidos Vivos', 'uf': 'Roraima', 'year': 2022, 'size': '641.0 kB', 'last_update': '2023-12-20 04:45PM'}\n"
     ]
    },
    {
     "name": "stderr",
     "output_type": "stream",
     "text": [
      "DNRR2022.parquet: 100%|██████████| 14.7k/14.7k [00:00<00:00, 31.3kB/s]\n"
     ]
    },
    {
     "name": "stdout",
     "output_type": "stream",
     "text": [
      "{'name': 'DNRS2012.DBC', 'group': 'Declarações de Nascidos Vivos', 'uf': 'Rio Grande do Sul', 'year': 2012, 'size': '8.7 MB', 'last_update': '2020-01-27 12:12PM'}\n"
     ]
    },
    {
     "name": "stderr",
     "output_type": "stream",
     "text": [
      "DNRS2012.parquet: 100%|██████████| 344k/344k [00:03<00:00, 90.0kB/s]\n"
     ]
    },
    {
     "name": "stdout",
     "output_type": "stream",
     "text": [
      "{'name': 'DNRS2013.dbc', 'group': 'Declarações de Nascidos Vivos', 'uf': 'Rio Grande do Sul', 'year': 2013, 'size': '9.0 MB', 'last_update': '2020-01-27 12:12PM'}\n"
     ]
    },
    {
     "name": "stderr",
     "output_type": "stream",
     "text": [
      "DNRS2013.parquet: 100%|██████████| 371k/371k [00:04<00:00, 89.5kB/s]\n"
     ]
    },
    {
     "name": "stdout",
     "output_type": "stream",
     "text": [
      "{'name': 'DNRS2014.dbc', 'group': 'Declarações de Nascidos Vivos', 'uf': 'Rio Grande do Sul', 'year': 2014, 'size': '10.2 MB', 'last_update': '2020-01-27 12:12PM'}\n"
     ]
    },
    {
     "name": "stderr",
     "output_type": "stream",
     "text": [
      "DNRS2014.parquet: 100%|██████████| 392k/392k [00:04<00:00, 88.7kB/s]\n"
     ]
    },
    {
     "name": "stdout",
     "output_type": "stream",
     "text": [
      "{'name': 'DNRS2015.dbc', 'group': 'Declarações de Nascidos Vivos', 'uf': 'Rio Grande do Sul', 'year': 2015, 'size': '10.6 MB', 'last_update': '2020-01-27 12:12PM'}\n"
     ]
    },
    {
     "name": "stderr",
     "output_type": "stream",
     "text": [
      "DNRS2015.parquet: 100%|██████████| 406k/406k [00:04<00:00, 89.0kB/s]\n"
     ]
    },
    {
     "name": "stdout",
     "output_type": "stream",
     "text": [
      "{'name': 'DNRS2016.dbc', 'group': 'Declarações de Nascidos Vivos', 'uf': 'Rio Grande do Sul', 'year': 2016, 'size': '9.6 MB', 'last_update': '2020-01-27 12:12PM'}\n"
     ]
    },
    {
     "name": "stderr",
     "output_type": "stream",
     "text": [
      "DNRS2016.parquet: 100%|██████████| 387k/387k [00:04<00:00, 90.9kB/s]\n"
     ]
    },
    {
     "name": "stdout",
     "output_type": "stream",
     "text": [
      "{'name': 'DNRS2017.dbc', 'group': 'Declarações de Nascidos Vivos', 'uf': 'Rio Grande do Sul', 'year': 2017, 'size': '10.0 MB', 'last_update': '2020-01-27 12:12PM'}\n"
     ]
    },
    {
     "name": "stderr",
     "output_type": "stream",
     "text": [
      "DNRS2017.parquet: 100%|██████████| 387k/387k [00:04<00:00, 90.0kB/s]\n"
     ]
    },
    {
     "name": "stdout",
     "output_type": "stream",
     "text": [
      "{'name': 'DNRS2018.dbc', 'group': 'Declarações de Nascidos Vivos', 'uf': 'Rio Grande do Sul', 'year': 2018, 'size': '7.0 MB', 'last_update': '2020-04-02 02:43PM'}\n"
     ]
    },
    {
     "name": "stderr",
     "output_type": "stream",
     "text": [
      "DNRS2018.parquet: 100%|██████████| 157k/157k [00:03<00:00, 39.9kB/s]\n"
     ]
    },
    {
     "name": "stdout",
     "output_type": "stream",
     "text": [
      "{'name': 'DNRS2019.dbc', 'group': 'Declarações de Nascidos Vivos', 'uf': 'Rio Grande do Sul', 'year': 2019, 'size': '6.7 MB', 'last_update': '2020-12-18 05:44PM'}\n"
     ]
    },
    {
     "name": "stderr",
     "output_type": "stream",
     "text": [
      "DNRS2019.parquet: 100%|██████████| 151k/151k [00:03<00:00, 39.9kB/s]\n"
     ]
    },
    {
     "name": "stdout",
     "output_type": "stream",
     "text": [
      "{'name': 'DNRS2020.dbc', 'group': 'Declarações de Nascidos Vivos', 'uf': 'Rio Grande do Sul', 'year': 2020, 'size': '6.5 MB', 'last_update': '2022-03-31 04:17PM'}\n"
     ]
    },
    {
     "name": "stderr",
     "output_type": "stream",
     "text": [
      "DNRS2020.parquet: 100%|██████████| 146k/146k [00:03<00:00, 38.9kB/s]\n"
     ]
    },
    {
     "name": "stdout",
     "output_type": "stream",
     "text": [
      "{'name': 'DNRS2021.dbc', 'group': 'Declarações de Nascidos Vivos', 'uf': 'Rio Grande do Sul', 'year': 2021, 'size': '6.2 MB', 'last_update': '2023-04-28 12:54PM'}\n"
     ]
    },
    {
     "name": "stderr",
     "output_type": "stream",
     "text": [
      "DNRS2021.parquet: 100%|██████████| 139k/139k [00:03<00:00, 39.6kB/s]\n"
     ]
    },
    {
     "name": "stdout",
     "output_type": "stream",
     "text": [
      "{'name': 'DNRS2022.dbc', 'group': 'Declarações de Nascidos Vivos', 'uf': 'Rio Grande do Sul', 'year': 2022, 'size': '6.0 MB', 'last_update': '2023-12-20 04:45PM'}\n"
     ]
    },
    {
     "name": "stderr",
     "output_type": "stream",
     "text": [
      "DNRS2022.parquet: 100%|██████████| 135k/135k [00:03<00:00, 39.7kB/s]\n"
     ]
    },
    {
     "name": "stdout",
     "output_type": "stream",
     "text": [
      "{'name': 'DNSC2012.DBC', 'group': 'Declarações de Nascidos Vivos', 'uf': 'Santa Catarina', 'year': 2012, 'size': '5.6 MB', 'last_update': '2020-01-27 12:12PM'}\n"
     ]
    },
    {
     "name": "stderr",
     "output_type": "stream",
     "text": [
      "DNSC2012.parquet: 100%|██████████| 220k/220k [00:02<00:00, 86.7kB/s]\n"
     ]
    },
    {
     "name": "stdout",
     "output_type": "stream",
     "text": [
      "{'name': 'DNSC2013.dbc', 'group': 'Declarações de Nascidos Vivos', 'uf': 'Santa Catarina', 'year': 2013, 'size': '5.7 MB', 'last_update': '2020-01-27 12:12PM'}\n"
     ]
    },
    {
     "name": "stderr",
     "output_type": "stream",
     "text": [
      "DNSC2013.parquet: 100%|██████████| 236k/236k [00:02<00:00, 92.0kB/s]\n"
     ]
    },
    {
     "name": "stdout",
     "output_type": "stream",
     "text": [
      "{'name': 'DNSC2014.dbc', 'group': 'Declarações de Nascidos Vivos', 'uf': 'Santa Catarina', 'year': 2014, 'size': '6.7 MB', 'last_update': '2020-01-27 12:12PM'}\n"
     ]
    },
    {
     "name": "stderr",
     "output_type": "stream",
     "text": [
      "DNSC2014.parquet: 100%|██████████| 255k/255k [00:02<00:00, 89.0kB/s]\n"
     ]
    },
    {
     "name": "stdout",
     "output_type": "stream",
     "text": [
      "{'name': 'DNSC2015.dbc', 'group': 'Declarações de Nascidos Vivos', 'uf': 'Santa Catarina', 'year': 2015, 'size': '7.0 MB', 'last_update': '2020-01-27 12:12PM'}\n"
     ]
    },
    {
     "name": "stderr",
     "output_type": "stream",
     "text": [
      "DNSC2015.parquet: 100%|██████████| 266k/266k [00:02<00:00, 89.5kB/s]\n"
     ]
    },
    {
     "name": "stdout",
     "output_type": "stream",
     "text": [
      "{'name': 'DNSC2016.dbc', 'group': 'Declarações de Nascidos Vivos', 'uf': 'Santa Catarina', 'year': 2016, 'size': '6.5 MB', 'last_update': '2020-01-27 12:12PM'}\n"
     ]
    },
    {
     "name": "stderr",
     "output_type": "stream",
     "text": [
      "DNSC2016.parquet: 100%|██████████| 261k/261k [00:02<00:00, 89.3kB/s]\n"
     ]
    },
    {
     "name": "stdout",
     "output_type": "stream",
     "text": [
      "{'name': 'DNSC2017.dbc', 'group': 'Declarações de Nascidos Vivos', 'uf': 'Santa Catarina', 'year': 2017, 'size': '7.0 MB', 'last_update': '2020-01-27 12:12PM'}\n"
     ]
    },
    {
     "name": "stderr",
     "output_type": "stream",
     "text": [
      "DNSC2017.parquet: 100%|██████████| 269k/269k [00:03<00:00, 87.6kB/s]\n"
     ]
    },
    {
     "name": "stdout",
     "output_type": "stream",
     "text": [
      "{'name': 'DNSC2018.dbc', 'group': 'Declarações de Nascidos Vivos', 'uf': 'Santa Catarina', 'year': 2018, 'size': '5.0 MB', 'last_update': '2020-04-02 02:43PM'}\n"
     ]
    },
    {
     "name": "stderr",
     "output_type": "stream",
     "text": [
      "DNSC2018.parquet: 100%|██████████| 112k/112k [00:02<00:00, 40.8kB/s]\n"
     ]
    },
    {
     "name": "stdout",
     "output_type": "stream",
     "text": [
      "{'name': 'DNSC2019.dbc', 'group': 'Declarações de Nascidos Vivos', 'uf': 'Santa Catarina', 'year': 2019, 'size': '4.9 MB', 'last_update': '2020-12-18 05:44PM'}\n"
     ]
    },
    {
     "name": "stderr",
     "output_type": "stream",
     "text": [
      "DNSC2019.parquet: 100%|██████████| 110k/110k [00:02<00:00, 39.6kB/s]\n"
     ]
    },
    {
     "name": "stdout",
     "output_type": "stream",
     "text": [
      "{'name': 'DNSC2020.dbc', 'group': 'Declarações de Nascidos Vivos', 'uf': 'Santa Catarina', 'year': 2020, 'size': '4.9 MB', 'last_update': '2022-03-31 04:17PM'}\n"
     ]
    },
    {
     "name": "stderr",
     "output_type": "stream",
     "text": [
      "DNSC2020.parquet: 100%|██████████| 110k/110k [00:02<00:00, 39.4kB/s]\n"
     ]
    },
    {
     "name": "stdout",
     "output_type": "stream",
     "text": [
      "{'name': 'DNSC2021.dbc', 'group': 'Declarações de Nascidos Vivos', 'uf': 'Santa Catarina', 'year': 2021, 'size': '4.8 MB', 'last_update': '2023-04-28 12:54PM'}\n"
     ]
    },
    {
     "name": "stderr",
     "output_type": "stream",
     "text": [
      "DNSC2021.parquet: 100%|██████████| 108k/108k [00:02<00:00, 39.5kB/s]\n"
     ]
    },
    {
     "name": "stdout",
     "output_type": "stream",
     "text": [
      "{'name': 'DNSC2022.dbc', 'group': 'Declarações de Nascidos Vivos', 'uf': 'Santa Catarina', 'year': 2022, 'size': '4.9 MB', 'last_update': '2023-12-20 04:45PM'}\n"
     ]
    },
    {
     "name": "stderr",
     "output_type": "stream",
     "text": [
      "DNSC2022.parquet: 100%|██████████| 110k/110k [00:02<00:00, 39.1kB/s]\n"
     ]
    },
    {
     "name": "stdout",
     "output_type": "stream",
     "text": [
      "{'name': 'DNSE2012.DBC', 'group': 'Declarações de Nascidos Vivos', 'uf': 'Sergipe', 'year': 2012, 'size': '2.1 MB', 'last_update': '2020-01-27 12:12PM'}\n"
     ]
    },
    {
     "name": "stderr",
     "output_type": "stream",
     "text": [
      "DNSE2012.parquet: 100%|██████████| 84.4k/84.4k [00:00<00:00, 90.3kB/s]\n"
     ]
    },
    {
     "name": "stdout",
     "output_type": "stream",
     "text": [
      "{'name': 'DNSE2013.dbc', 'group': 'Declarações de Nascidos Vivos', 'uf': 'Sergipe', 'year': 2013, 'size': '2.1 MB', 'last_update': '2020-01-27 12:12PM'}\n"
     ]
    },
    {
     "name": "stderr",
     "output_type": "stream",
     "text": [
      "DNSE2013.parquet: 100%|██████████| 89.9k/89.9k [00:01<00:00, 82.7kB/s]\n"
     ]
    },
    {
     "name": "stdout",
     "output_type": "stream",
     "text": [
      "{'name': 'DNSE2014.dbc', 'group': 'Declarações de Nascidos Vivos', 'uf': 'Sergipe', 'year': 2014, 'size': '2.4 MB', 'last_update': '2020-01-27 12:12PM'}\n"
     ]
    },
    {
     "name": "stderr",
     "output_type": "stream",
     "text": [
      "DNSE2014.parquet: 100%|██████████| 94.0k/94.0k [00:01<00:00, 92.2kB/s]\n"
     ]
    },
    {
     "name": "stdout",
     "output_type": "stream",
     "text": [
      "{'name': 'DNSE2015.dbc', 'group': 'Declarações de Nascidos Vivos', 'uf': 'Sergipe', 'year': 2015, 'size': '2.4 MB', 'last_update': '2020-01-27 12:12PM'}\n"
     ]
    },
    {
     "name": "stderr",
     "output_type": "stream",
     "text": [
      "DNSE2015.parquet: 100%|██████████| 95.5k/95.5k [00:01<00:00, 90.4kB/s]\n"
     ]
    },
    {
     "name": "stdout",
     "output_type": "stream",
     "text": [
      "{'name': 'DNSE2016.dbc', 'group': 'Declarações de Nascidos Vivos', 'uf': 'Sergipe', 'year': 2016, 'size': '2.2 MB', 'last_update': '2020-01-27 12:12PM'}\n"
     ]
    },
    {
     "name": "stderr",
     "output_type": "stream",
     "text": [
      "DNSE2016.parquet: 100%|██████████| 88.1k/88.1k [00:01<00:00, 81.3kB/s]\n"
     ]
    },
    {
     "name": "stdout",
     "output_type": "stream",
     "text": [
      "{'name': 'DNSE2017.dbc', 'group': 'Declarações de Nascidos Vivos', 'uf': 'Sergipe', 'year': 2017, 'size': '2.3 MB', 'last_update': '2020-01-27 12:12PM'}\n"
     ]
    },
    {
     "name": "stderr",
     "output_type": "stream",
     "text": [
      "DNSE2017.parquet: 100%|██████████| 92.6k/92.6k [00:01<00:00, 91.3kB/s]\n"
     ]
    },
    {
     "name": "stdout",
     "output_type": "stream",
     "text": [
      "{'name': 'DNSE2018.dbc', 'group': 'Declarações de Nascidos Vivos', 'uf': 'Sergipe', 'year': 2018, 'size': '1.6 MB', 'last_update': '2020-04-02 02:43PM'}\n"
     ]
    },
    {
     "name": "stderr",
     "output_type": "stream",
     "text": [
      "DNSE2018.parquet: 100%|██████████| 38.4k/38.4k [00:00<00:00, 40.0kB/s]\n"
     ]
    },
    {
     "name": "stdout",
     "output_type": "stream",
     "text": [
      "{'name': 'DNSE2019.dbc', 'group': 'Declarações de Nascidos Vivos', 'uf': 'Sergipe', 'year': 2019, 'size': '1.6 MB', 'last_update': '2020-12-18 05:44PM'}\n"
     ]
    },
    {
     "name": "stderr",
     "output_type": "stream",
     "text": [
      "DNSE2019.parquet: 100%|██████████| 36.6k/36.6k [00:01<00:00, 36.3kB/s]\n"
     ]
    },
    {
     "name": "stdout",
     "output_type": "stream",
     "text": [
      "{'name': 'DNSE2020.dbc', 'group': 'Declarações de Nascidos Vivos', 'uf': 'Sergipe', 'year': 2020, 'size': '1.5 MB', 'last_update': '2022-03-31 04:17PM'}\n"
     ]
    },
    {
     "name": "stderr",
     "output_type": "stream",
     "text": [
      "DNSE2020.parquet: 100%|██████████| 35.6k/35.6k [00:00<00:00, 40.1kB/s]\n"
     ]
    },
    {
     "name": "stdout",
     "output_type": "stream",
     "text": [
      "{'name': 'DNSE2021.dbc', 'group': 'Declarações de Nascidos Vivos', 'uf': 'Sergipe', 'year': 2021, 'size': '1.5 MB', 'last_update': '2023-04-28 12:54PM'}\n"
     ]
    },
    {
     "name": "stderr",
     "output_type": "stream",
     "text": [
      "DNSE2021.parquet: 100%|██████████| 35.0k/35.0k [00:00<00:00, 40.5kB/s]\n"
     ]
    },
    {
     "name": "stdout",
     "output_type": "stream",
     "text": [
      "{'name': 'DNSE2022.dbc', 'group': 'Declarações de Nascidos Vivos', 'uf': 'Sergipe', 'year': 2022, 'size': '1.4 MB', 'last_update': '2023-12-20 04:45PM'}\n"
     ]
    },
    {
     "name": "stderr",
     "output_type": "stream",
     "text": [
      "DNSE2022.parquet: 100%|██████████| 32.0k/32.0k [00:00<00:00, 40.8kB/s]\n"
     ]
    },
    {
     "name": "stdout",
     "output_type": "stream",
     "text": [
      "{'name': 'DNSP2012.DBC', 'group': 'Declarações de Nascidos Vivos', 'uf': 'São Paulo', 'year': 2012, 'size': '36.7 MB', 'last_update': '2020-01-27 12:13PM'}\n"
     ]
    },
    {
     "name": "stderr",
     "output_type": "stream",
     "text": [
      "DNSP2012.parquet: 100%|██████████| 1.53M/1.53M [00:17<00:00, 88.0kB/s]\n"
     ]
    },
    {
     "name": "stdout",
     "output_type": "stream",
     "text": [
      "{'name': 'DNSP2013.dbc', 'group': 'Declarações de Nascidos Vivos', 'uf': 'São Paulo', 'year': 2013, 'size': '37.0 MB', 'last_update': '2020-01-27 12:13PM'}\n"
     ]
    },
    {
     "name": "stderr",
     "output_type": "stream",
     "text": [
      "DNSP2013.parquet: 100%|██████████| 1.60M/1.60M [00:17<00:00, 89.9kB/s]\n"
     ]
    },
    {
     "name": "stdout",
     "output_type": "stream",
     "text": [
      "{'name': 'DNSP2014.dbc', 'group': 'Declarações de Nascidos Vivos', 'uf': 'São Paulo', 'year': 2014, 'size': '44.3 MB', 'last_update': '2020-01-27 12:13PM'}\n"
     ]
    },
    {
     "name": "stderr",
     "output_type": "stream",
     "text": [
      "DNSP2014.parquet: 100%|██████████| 1.71M/1.71M [00:19<00:00, 89.8kB/s]\n"
     ]
    },
    {
     "name": "stdout",
     "output_type": "stream",
     "text": [
      "{'name': 'DNSP2015.dbc', 'group': 'Declarações de Nascidos Vivos', 'uf': 'São Paulo', 'year': 2015, 'size': '42.6 MB', 'last_update': '2020-01-27 12:13PM'}\n"
     ]
    },
    {
     "name": "stderr",
     "output_type": "stream",
     "text": [
      "DNSP2015.parquet: 100%|██████████| 1.73M/1.73M [00:19<00:00, 90.9kB/s]\n"
     ]
    },
    {
     "name": "stdout",
     "output_type": "stream",
     "text": [
      "{'name': 'DNSP2016.dbc', 'group': 'Declarações de Nascidos Vivos', 'uf': 'São Paulo', 'year': 2016, 'size': '40.7 MB', 'last_update': '2020-01-27 12:13PM'}\n"
     ]
    },
    {
     "name": "stderr",
     "output_type": "stream",
     "text": [
      "DNSP2016.parquet: 100%|██████████| 1.64M/1.64M [00:18<00:00, 89.8kB/s]\n"
     ]
    },
    {
     "name": "stdout",
     "output_type": "stream",
     "text": [
      "{'name': 'DNSP2017.dbc', 'group': 'Declarações de Nascidos Vivos', 'uf': 'São Paulo', 'year': 2017, 'size': '42.9 MB', 'last_update': '2020-01-27 12:13PM'}\n"
     ]
    },
    {
     "name": "stderr",
     "output_type": "stream",
     "text": [
      "DNSP2017.parquet: 100%|██████████| 1.67M/1.67M [00:18<00:00, 90.3kB/s]\n"
     ]
    },
    {
     "name": "stdout",
     "output_type": "stream",
     "text": [
      "{'name': 'DNSP2018.dbc', 'group': 'Declarações de Nascidos Vivos', 'uf': 'São Paulo', 'year': 2018, 'size': '29.7 MB', 'last_update': '2020-04-02 02:43PM'}\n"
     ]
    },
    {
     "name": "stderr",
     "output_type": "stream",
     "text": [
      "DNSP2018.parquet: 100%|██████████| 679k/679k [00:17<00:00, 39.8kB/s]\n"
     ]
    },
    {
     "name": "stdout",
     "output_type": "stream",
     "text": [
      "{'name': 'DNSP2019.dbc', 'group': 'Declarações de Nascidos Vivos', 'uf': 'São Paulo', 'year': 2019, 'size': '28.6 MB', 'last_update': '2020-12-18 05:44PM'}\n"
     ]
    },
    {
     "name": "stderr",
     "output_type": "stream",
     "text": [
      "DNSP2019.parquet: 100%|██████████| 653k/653k [00:16<00:00, 39.8kB/s]\n"
     ]
    },
    {
     "name": "stdout",
     "output_type": "stream",
     "text": [
      "{'name': 'DNSP2020.dbc', 'group': 'Declarações de Nascidos Vivos', 'uf': 'São Paulo', 'year': 2020, 'size': '27.0 MB', 'last_update': '2022-03-31 04:17PM'}\n"
     ]
    },
    {
     "name": "stderr",
     "output_type": "stream",
     "text": [
      "DNSP2020.parquet: 100%|██████████| 619k/619k [00:15<00:00, 39.6kB/s]\n"
     ]
    },
    {
     "name": "stdout",
     "output_type": "stream",
     "text": [
      "{'name': 'DNSP2021.dbc', 'group': 'Declarações de Nascidos Vivos', 'uf': 'São Paulo', 'year': 2021, 'size': '25.7 MB', 'last_update': '2023-04-28 12:55PM'}\n"
     ]
    },
    {
     "name": "stderr",
     "output_type": "stream",
     "text": [
      "DNSP2021.parquet: 100%|██████████| 588k/588k [00:14<00:00, 39.9kB/s]\n"
     ]
    },
    {
     "name": "stdout",
     "output_type": "stream",
     "text": [
      "{'name': 'DNSP2022.dbc', 'group': 'Declarações de Nascidos Vivos', 'uf': 'São Paulo', 'year': 2022, 'size': '25.2 MB', 'last_update': '2023-12-20 04:45PM'}\n"
     ]
    },
    {
     "name": "stderr",
     "output_type": "stream",
     "text": [
      "DNSP2022.parquet: 100%|██████████| 574k/574k [00:14<00:00, 39.5kB/s]\n"
     ]
    },
    {
     "name": "stdout",
     "output_type": "stream",
     "text": [
      "{'name': 'DNTO2012.DBC', 'group': 'Declarações de Nascidos Vivos', 'uf': 'Tocantins', 'year': 2012, 'size': '1.6 MB', 'last_update': '2020-01-27 12:13PM'}\n"
     ]
    },
    {
     "name": "stderr",
     "output_type": "stream",
     "text": [
      "DNTO2012.parquet: 100%|██████████| 59.9k/59.9k [00:00<00:00, 87.9kB/s]\n"
     ]
    },
    {
     "name": "stdout",
     "output_type": "stream",
     "text": [
      "{'name': 'DNTO2013.dbc', 'group': 'Declarações de Nascidos Vivos', 'uf': 'Tocantins', 'year': 2013, 'size': '1.6 MB', 'last_update': '2020-01-27 12:13PM'}\n"
     ]
    },
    {
     "name": "stderr",
     "output_type": "stream",
     "text": [
      "DNTO2013.parquet: 100%|██████████| 63.3k/63.3k [00:00<00:00, 90.6kB/s]\n"
     ]
    },
    {
     "name": "stdout",
     "output_type": "stream",
     "text": [
      "{'name': 'DNTO2014.dbc', 'group': 'Declarações de Nascidos Vivos', 'uf': 'Tocantins', 'year': 2014, 'size': '1.8 MB', 'last_update': '2020-01-27 12:13PM'}\n"
     ]
    },
    {
     "name": "stderr",
     "output_type": "stream",
     "text": [
      "DNTO2014.parquet: 100%|██████████| 68.2k/68.2k [00:00<00:00, 91.4kB/s]\n"
     ]
    },
    {
     "name": "stdout",
     "output_type": "stream",
     "text": [
      "{'name': 'DNTO2015.dbc', 'group': 'Declarações de Nascidos Vivos', 'uf': 'Tocantins', 'year': 2015, 'size': '1.8 MB', 'last_update': '2020-01-27 12:13PM'}\n"
     ]
    },
    {
     "name": "stderr",
     "output_type": "stream",
     "text": [
      "DNTO2015.parquet: 100%|██████████| 68.7k/68.7k [00:00<00:00, 89.5kB/s]\n"
     ]
    },
    {
     "name": "stdout",
     "output_type": "stream",
     "text": [
      "{'name': 'DNTO2016.dbc', 'group': 'Declarações de Nascidos Vivos', 'uf': 'Tocantins', 'year': 2016, 'size': '1.7 MB', 'last_update': '2020-01-27 12:13PM'}\n"
     ]
    },
    {
     "name": "stderr",
     "output_type": "stream",
     "text": [
      "DNTO2016.parquet: 100%|██████████| 65.3k/65.3k [00:00<00:00, 80.3kB/s]\n"
     ]
    },
    {
     "name": "stdout",
     "output_type": "stream",
     "text": [
      "{'name': 'DNTO2017.dbc', 'group': 'Declarações de Nascidos Vivos', 'uf': 'Tocantins', 'year': 2017, 'size': '1.8 MB', 'last_update': '2020-01-27 12:13PM'}\n"
     ]
    },
    {
     "name": "stderr",
     "output_type": "stream",
     "text": [
      "DNTO2017.parquet: 100%|██████████| 68.2k/68.2k [00:00<00:00, 92.0kB/s]\n"
     ]
    },
    {
     "name": "stdout",
     "output_type": "stream",
     "text": [
      "{'name': 'DNTO2018.dbc', 'group': 'Declarações de Nascidos Vivos', 'uf': 'Tocantins', 'year': 2018, 'size': '1.3 MB', 'last_update': '2020-04-02 02:43PM'}\n"
     ]
    },
    {
     "name": "stderr",
     "output_type": "stream",
     "text": [
      "DNTO2018.parquet: 100%|██████████| 28.5k/28.5k [00:00<00:00, 39.4kB/s]\n"
     ]
    },
    {
     "name": "stdout",
     "output_type": "stream",
     "text": [
      "{'name': 'DNTO2019.dbc', 'group': 'Declarações de Nascidos Vivos', 'uf': 'Tocantins', 'year': 2019, 'size': '1.2 MB', 'last_update': '2020-12-18 05:44PM'}\n"
     ]
    },
    {
     "name": "stderr",
     "output_type": "stream",
     "text": [
      "DNTO2019.parquet: 100%|██████████| 27.4k/27.4k [00:00<00:00, 39.4kB/s]\n"
     ]
    },
    {
     "name": "stdout",
     "output_type": "stream",
     "text": [
      "{'name': 'DNTO2020.dbc', 'group': 'Declarações de Nascidos Vivos', 'uf': 'Tocantins', 'year': 2020, 'size': '1.2 MB', 'last_update': '2022-03-31 04:17PM'}\n"
     ]
    },
    {
     "name": "stderr",
     "output_type": "stream",
     "text": [
      "DNTO2020.parquet: 100%|██████████| 26.6k/26.6k [00:00<00:00, 35.1kB/s]\n"
     ]
    },
    {
     "name": "stdout",
     "output_type": "stream",
     "text": [
      "{'name': 'DNTO2021.dbc', 'group': 'Declarações de Nascidos Vivos', 'uf': 'Tocantins', 'year': 2021, 'size': '1.2 MB', 'last_update': '2023-04-28 12:53PM'}\n"
     ]
    },
    {
     "name": "stderr",
     "output_type": "stream",
     "text": [
      "DNTO2021.parquet: 100%|██████████| 26.6k/26.6k [00:00<00:00, 38.0kB/s]\n"
     ]
    },
    {
     "name": "stdout",
     "output_type": "stream",
     "text": [
      "{'name': 'DNTO2022.dbc', 'group': 'Declarações de Nascidos Vivos', 'uf': 'Tocantins', 'year': 2022, 'size': '1.1 MB', 'last_update': '2023-12-20 04:45PM'}\n"
     ]
    },
    {
     "name": "stderr",
     "output_type": "stream",
     "text": [
      "DNTO2022.parquet: 100%|██████████| 25.3k/25.3k [00:00<00:00, 40.3kB/s]\n"
     ]
    }
   ],
   "source": [
    "years = [2012, 2013, 2014, 2015, 2016, 2017, 2018, 2019, 2020, 2021, 2022]\n",
    "sinasc = SINASC().load()\n",
    "sinasc_files = sinasc.get_files(group='DN', uf=states, year=years)\n",
    "\n",
    "parquet_path = os.getcwd() + \"/Data/Parquet/\"\n",
    "csv_path = os.getcwd() + '/Data/CSV/'\n",
    "\n",
    "if not 'Parquet' in os.listdir(os.getcwd() + \"/Data\") :\n",
    "      os.mkdir(parquet_path)\n",
    "\n",
    "if not 'CSV' in os.listdir(os.getcwd() + \"/Data\") :\n",
    "      os.mkdir(csv_path)\n",
    "\n",
    "for file in sinasc_files:\n",
    "      if not file.basename.replace('.dbc', '.parquet') in os.listdir(parquet_path) and not file.basename.replace('.dbc', '.csv') in os.listdir(csv_path):\n",
    "            print(sinasc.describe(file))\n",
    "            sinasc.download(file, local_dir=parquet_path)"
   ]
  },
  {
   "cell_type": "markdown",
   "metadata": {},
   "source": [
    "#### SIM"
   ]
  },
  {
   "cell_type": "code",
   "execution_count": 90,
   "metadata": {},
   "outputs": [
    {
     "name": "stdout",
     "output_type": "stream",
     "text": [
      "{'name': 'DOAC2012.DBC', 'uf': 'Acre', 'year': 2012, 'group': 'CID10', 'size': '253.3 kB', 'last_update': '2020-01-31 02:48PM'}\n"
     ]
    },
    {
     "name": "stderr",
     "output_type": "stream",
     "text": [
      "DOAC2012.parquet: 100%|██████████| 11.0k/11.0k [00:00<00:00, 81.2kB/s]\n"
     ]
    },
    {
     "name": "stdout",
     "output_type": "stream",
     "text": [
      "{'name': 'DOAC2013.dbc', 'uf': 'Acre', 'year': 2013, 'group': 'CID10', 'size': '237.6 kB', 'last_update': '2020-01-31 02:48PM'}\n"
     ]
    },
    {
     "name": "stderr",
     "output_type": "stream",
     "text": [
      "/home/vicente/.local/lib/python3.10/site-packages/tqdm/std.py:533: TqdmWarning: clamping frac to range [0, 1]\n",
      "  full_bar = Bar(frac,\n",
      "DOAC2013.parquet: 100%|██████████| 10.3k/10.3k [00:00<00:00, 80.1kB/s]\n"
     ]
    },
    {
     "name": "stdout",
     "output_type": "stream",
     "text": [
      "{'name': 'DOAC2014.dbc', 'uf': 'Acre', 'year': 2014, 'group': 'CID10', 'size': '349.0 kB', 'last_update': '2020-01-31 02:48PM'}\n"
     ]
    },
    {
     "name": "stderr",
     "output_type": "stream",
     "text": [
      "DOAC2014.parquet: 100%|██████████| 13.5k/13.5k [00:00<00:00, 80.2kB/s]\n"
     ]
    },
    {
     "name": "stdout",
     "output_type": "stream",
     "text": [
      "{'name': 'DOAC2015.dbc', 'uf': 'Acre', 'year': 2015, 'group': 'CID10', 'size': '331.1 kB', 'last_update': '2020-01-31 02:48PM'}\n"
     ]
    },
    {
     "name": "stderr",
     "output_type": "stream",
     "text": [
      "DOAC2015.parquet: 100%|██████████| 13.8k/13.8k [00:00<00:00, 81.6kB/s]\n"
     ]
    },
    {
     "name": "stdout",
     "output_type": "stream",
     "text": [
      "{'name': 'DOAC2016.dbc', 'uf': 'Acre', 'year': 2016, 'group': 'CID10', 'size': '367.2 kB', 'last_update': '2020-01-31 02:48PM'}\n"
     ]
    },
    {
     "name": "stderr",
     "output_type": "stream",
     "text": [
      "DOAC2016.parquet: 100%|██████████| 15.1k/15.1k [00:00<00:00, 82.4kB/s]\n"
     ]
    },
    {
     "name": "stdout",
     "output_type": "stream",
     "text": [
      "{'name': 'DOAC2017.dbc', 'uf': 'Acre', 'year': 2017, 'group': 'CID10', 'size': '370.6 kB', 'last_update': '2020-01-31 02:48PM'}\n"
     ]
    },
    {
     "name": "stderr",
     "output_type": "stream",
     "text": [
      "DOAC2017.parquet: 100%|██████████| 15.1k/15.1k [00:00<00:00, 83.0kB/s]\n"
     ]
    },
    {
     "name": "stdout",
     "output_type": "stream",
     "text": [
      "{'name': 'DOAC2018.dbc', 'uf': 'Acre', 'year': 2018, 'group': 'CID10', 'size': '330.0 kB', 'last_update': '2020-04-02 04:34PM'}\n"
     ]
    },
    {
     "name": "stderr",
     "output_type": "stream",
     "text": [
      "DOAC2018.parquet: 100%|█████████▉| 10.4k/10.4k [00:00<00:00, 57.0kB/s]\n"
     ]
    },
    {
     "name": "stdout",
     "output_type": "stream",
     "text": [
      "{'name': 'DOAC2019.dbc', 'uf': 'Acre', 'year': 2019, 'group': 'CID10', 'size': '321.6 kB', 'last_update': '2021-04-06 12:55PM'}\n"
     ]
    },
    {
     "name": "stderr",
     "output_type": "stream",
     "text": [
      "DOAC2019.parquet: 100%|██████████| 10.1k/10.1k [00:00<00:00, 55.9kB/s]\n"
     ]
    },
    {
     "name": "stdout",
     "output_type": "stream",
     "text": [
      "{'name': 'DOAC2020.dbc', 'uf': 'Acre', 'year': 2020, 'group': 'CID10', 'size': '367.7 kB', 'last_update': '2022-03-31 04:19PM'}\n"
     ]
    },
    {
     "name": "stderr",
     "output_type": "stream",
     "text": [
      "DOAC2020.parquet: 100%|██████████| 11.9k/11.9k [00:00<00:00, 57.1kB/s]\n"
     ]
    },
    {
     "name": "stdout",
     "output_type": "stream",
     "text": [
      "{'name': 'DOAC2021.dbc', 'uf': 'Acre', 'year': 2021, 'group': 'CID10', 'size': '401.6 kB', 'last_update': '2023-04-28 11:56AM'}\n"
     ]
    },
    {
     "name": "stderr",
     "output_type": "stream",
     "text": [
      "DOAC2021.parquet: 100%|██████████| 13.5k/13.5k [00:00<00:00, 57.1kB/s]\n"
     ]
    },
    {
     "name": "stdout",
     "output_type": "stream",
     "text": [
      "{'name': 'DOAC2022.dbc', 'uf': 'Acre', 'year': 2022, 'group': 'CID10', 'size': '330.4 kB', 'last_update': '2023-12-21 04:17PM'}\n"
     ]
    },
    {
     "name": "stderr",
     "output_type": "stream",
     "text": [
      "DOAC2022.parquet: 100%|██████████| 10.2k/10.2k [00:00<00:00, 55.0kB/s]\n"
     ]
    },
    {
     "name": "stdout",
     "output_type": "stream",
     "text": [
      "{'name': 'DOAL2012.DBC', 'uf': 'Alagoas', 'year': 2012, 'group': 'CID10', 'size': '1.3 MB', 'last_update': '2020-01-31 02:48PM'}\n"
     ]
    },
    {
     "name": "stderr",
     "output_type": "stream",
     "text": [
      "DOAL2012.parquet: 100%|██████████| 63.8k/63.8k [00:00<00:00, 81.2kB/s]\n"
     ]
    },
    {
     "name": "stdout",
     "output_type": "stream",
     "text": [
      "{'name': 'DOAL2013.dbc', 'uf': 'Alagoas', 'year': 2013, 'group': 'CID10', 'size': '1.3 MB', 'last_update': '2020-01-31 02:48PM'}\n"
     ]
    },
    {
     "name": "stderr",
     "output_type": "stream",
     "text": [
      "DOAL2013.parquet: 100%|██████████| 61.6k/61.6k [00:00<00:00, 90.1kB/s]\n"
     ]
    },
    {
     "name": "stdout",
     "output_type": "stream",
     "text": [
      "{'name': 'DOAL2014.dbc', 'uf': 'Alagoas', 'year': 2014, 'group': 'CID10', 'size': '1.9 MB', 'last_update': '2020-01-31 02:48PM'}\n"
     ]
    },
    {
     "name": "stderr",
     "output_type": "stream",
     "text": [
      "DOAL2014.parquet: 100%|██████████| 78.5k/78.5k [00:00<00:00, 92.5kB/s]\n"
     ]
    },
    {
     "name": "stdout",
     "output_type": "stream",
     "text": [
      "{'name': 'DOAL2015.dbc', 'uf': 'Alagoas', 'year': 2015, 'group': 'CID10', 'size': '1.7 MB', 'last_update': '2020-01-31 02:48PM'}\n"
     ]
    },
    {
     "name": "stderr",
     "output_type": "stream",
     "text": [
      "DOAL2015.parquet: 100%|██████████| 79.4k/79.4k [00:00<00:00, 90.1kB/s]\n"
     ]
    },
    {
     "name": "stdout",
     "output_type": "stream",
     "text": [
      "{'name': 'DOAL2016.dbc', 'uf': 'Alagoas', 'year': 2016, 'group': 'CID10', 'size': '2.0 MB', 'last_update': '2020-01-31 02:48PM'}\n"
     ]
    },
    {
     "name": "stderr",
     "output_type": "stream",
     "text": [
      "DOAL2016.parquet: 100%|██████████| 87.2k/87.2k [00:00<00:00, 93.5kB/s]\n"
     ]
    },
    {
     "name": "stdout",
     "output_type": "stream",
     "text": [
      "{'name': 'DOAL2017.dbc', 'uf': 'Alagoas', 'year': 2017, 'group': 'CID10', 'size': '2.0 MB', 'last_update': '2020-01-31 02:48PM'}\n"
     ]
    },
    {
     "name": "stderr",
     "output_type": "stream",
     "text": [
      "DOAL2017.parquet: 100%|██████████| 87.4k/87.4k [00:01<00:00, 86.5kB/s]\n"
     ]
    },
    {
     "name": "stdout",
     "output_type": "stream",
     "text": [
      "{'name': 'DOAL2018.dbc', 'uf': 'Alagoas', 'year': 2018, 'group': 'CID10', 'size': '1.5 MB', 'last_update': '2020-04-02 04:34PM'}\n"
     ]
    },
    {
     "name": "stderr",
     "output_type": "stream",
     "text": [
      "DOAL2018.parquet: 100%|██████████| 49.0k/49.0k [00:00<00:00, 60.2kB/s]\n"
     ]
    },
    {
     "name": "stdout",
     "output_type": "stream",
     "text": [
      "{'name': 'DOAL2019.dbc', 'uf': 'Alagoas', 'year': 2019, 'group': 'CID10', 'size': '1.6 MB', 'last_update': '2021-04-06 12:55PM'}\n"
     ]
    },
    {
     "name": "stderr",
     "output_type": "stream",
     "text": [
      "DOAL2019.parquet: 100%|██████████| 49.7k/49.7k [00:00<00:00, 59.6kB/s]\n"
     ]
    },
    {
     "name": "stdout",
     "output_type": "stream",
     "text": [
      "{'name': 'DOAL2020.dbc', 'uf': 'Alagoas', 'year': 2020, 'group': 'CID10', 'size': '1.9 MB', 'last_update': '2022-03-31 04:19PM'}\n"
     ]
    },
    {
     "name": "stderr",
     "output_type": "stream",
     "text": [
      "DOAL2020.parquet: 100%|██████████| 59.2k/59.2k [00:00<00:00, 59.8kB/s]\n"
     ]
    },
    {
     "name": "stdout",
     "output_type": "stream",
     "text": [
      "{'name': 'DOAL2021.dbc', 'uf': 'Alagoas', 'year': 2021, 'group': 'CID10', 'size': '2.0 MB', 'last_update': '2023-04-28 11:56AM'}\n"
     ]
    },
    {
     "name": "stderr",
     "output_type": "stream",
     "text": [
      "DOAL2021.parquet: 100%|██████████| 61.5k/61.5k [00:01<00:00, 60.7kB/s]\n"
     ]
    },
    {
     "name": "stdout",
     "output_type": "stream",
     "text": [
      "{'name': 'DOAL2022.dbc', 'uf': 'Alagoas', 'year': 2022, 'group': 'CID10', 'size': '1.8 MB', 'last_update': '2023-12-21 04:17PM'}\n"
     ]
    },
    {
     "name": "stderr",
     "output_type": "stream",
     "text": [
      "DOAL2022.parquet: 100%|██████████| 56.7k/56.7k [00:01<00:00, 54.9kB/s]\n"
     ]
    },
    {
     "name": "stdout",
     "output_type": "stream",
     "text": [
      "{'name': 'DOAM2012.DBC', 'uf': 'Amazonas', 'year': 2012, 'group': 'CID10', 'size': '1.1 MB', 'last_update': '2020-01-31 02:48PM'}\n"
     ]
    },
    {
     "name": "stderr",
     "output_type": "stream",
     "text": [
      "DOAM2012.parquet: 100%|██████████| 50.1k/50.1k [00:00<00:00, 89.5kB/s]\n"
     ]
    },
    {
     "name": "stdout",
     "output_type": "stream",
     "text": [
      "{'name': 'DOAM2013.dbc', 'uf': 'Amazonas', 'year': 2013, 'group': 'CID10', 'size': '1.0 MB', 'last_update': '2020-01-31 02:48PM'}\n"
     ]
    },
    {
     "name": "stderr",
     "output_type": "stream",
     "text": [
      "DOAM2013.parquet: 100%|██████████| 47.7k/47.7k [00:00<00:00, 87.9kB/s]\n"
     ]
    },
    {
     "name": "stdout",
     "output_type": "stream",
     "text": [
      "{'name': 'DOAM2014.dbc', 'uf': 'Amazonas', 'year': 2014, 'group': 'CID10', 'size': '1.6 MB', 'last_update': '2020-01-31 02:48PM'}\n"
     ]
    },
    {
     "name": "stderr",
     "output_type": "stream",
     "text": [
      "DOAM2014.parquet: 100%|██████████| 65.8k/65.8k [00:00<00:00, 90.5kB/s]\n"
     ]
    },
    {
     "name": "stdout",
     "output_type": "stream",
     "text": [
      "{'name': 'DOAM2015.dbc', 'uf': 'Amazonas', 'year': 2015, 'group': 'CID10', 'size': '1.5 MB', 'last_update': '2020-01-31 02:48PM'}\n"
     ]
    },
    {
     "name": "stderr",
     "output_type": "stream",
     "text": [
      "DOAM2015.parquet: 100%|██████████| 69.0k/69.0k [00:00<00:00, 92.0kB/s]\n"
     ]
    },
    {
     "name": "stdout",
     "output_type": "stream",
     "text": [
      "{'name': 'DOAM2016.dbc', 'uf': 'Amazonas', 'year': 2016, 'group': 'CID10', 'size': '1.7 MB', 'last_update': '2020-01-31 02:48PM'}\n"
     ]
    },
    {
     "name": "stderr",
     "output_type": "stream",
     "text": [
      "DOAM2016.parquet: 100%|██████████| 67.5k/67.5k [00:00<00:00, 88.1kB/s]\n"
     ]
    },
    {
     "name": "stdout",
     "output_type": "stream",
     "text": [
      "{'name': 'DOAM2017.dbc', 'uf': 'Amazonas', 'year': 2017, 'group': 'CID10', 'size': '1.7 MB', 'last_update': '2020-01-31 02:48PM'}\n"
     ]
    },
    {
     "name": "stderr",
     "output_type": "stream",
     "text": [
      "DOAM2017.parquet: 100%|██████████| 71.4k/71.4k [00:00<00:00, 82.6kB/s]\n"
     ]
    },
    {
     "name": "stdout",
     "output_type": "stream",
     "text": [
      "{'name': 'DOAM2018.dbc', 'uf': 'Amazonas', 'year': 2018, 'group': 'CID10', 'size': '1.4 MB', 'last_update': '2020-04-02 04:34PM'}\n"
     ]
    },
    {
     "name": "stderr",
     "output_type": "stream",
     "text": [
      "DOAM2018.parquet: 100%|██████████| 44.7k/44.7k [00:00<00:00, 59.4kB/s]\n"
     ]
    },
    {
     "name": "stdout",
     "output_type": "stream",
     "text": [
      "{'name': 'DOAM2019.dbc', 'uf': 'Amazonas', 'year': 2019, 'group': 'CID10', 'size': '1.4 MB', 'last_update': '2021-04-06 12:55PM'}\n"
     ]
    },
    {
     "name": "stderr",
     "output_type": "stream",
     "text": [
      "DOAM2019.parquet: 100%|██████████| 44.9k/44.9k [00:00<00:00, 59.6kB/s]\n"
     ]
    },
    {
     "name": "stdout",
     "output_type": "stream",
     "text": [
      "{'name': 'DOAM2020.dbc', 'uf': 'Amazonas', 'year': 2020, 'group': 'CID10', 'size': '2.0 MB', 'last_update': '2022-03-31 04:19PM'}\n"
     ]
    },
    {
     "name": "stderr",
     "output_type": "stream",
     "text": [
      "DOAM2020.parquet: 100%|██████████| 60.7k/60.7k [00:01<00:00, 60.3kB/s]\n"
     ]
    },
    {
     "name": "stdout",
     "output_type": "stream",
     "text": [
      "{'name': 'DOAM2021.dbc', 'uf': 'Amazonas', 'year': 2021, 'group': 'CID10', 'size': '2.3 MB', 'last_update': '2023-04-28 11:56AM'}\n"
     ]
    },
    {
     "name": "stderr",
     "output_type": "stream",
     "text": [
      "DOAM2021.parquet: 100%|██████████| 71.3k/71.3k [00:01<00:00, 54.3kB/s]\n"
     ]
    },
    {
     "name": "stdout",
     "output_type": "stream",
     "text": [
      "{'name': 'DOAM2022.dbc', 'uf': 'Amazonas', 'year': 2022, 'group': 'CID10', 'size': '1.6 MB', 'last_update': '2023-12-21 04:17PM'}\n"
     ]
    },
    {
     "name": "stderr",
     "output_type": "stream",
     "text": [
      "DOAM2022.parquet: 100%|██████████| 49.4k/49.4k [00:00<00:00, 59.0kB/s]\n"
     ]
    },
    {
     "name": "stdout",
     "output_type": "stream",
     "text": [
      "{'name': 'DOAP2012.DBC', 'uf': 'Amapá', 'year': 2012, 'group': 'CID10', 'size': '193.8 kB', 'last_update': '2020-01-31 02:48PM'}\n"
     ]
    },
    {
     "name": "stderr",
     "output_type": "stream",
     "text": [
      "DOAP2012.parquet: 100%|██████████| 8.71k/8.71k [00:00<00:00, 79.8kB/s]\n"
     ]
    },
    {
     "name": "stdout",
     "output_type": "stream",
     "text": [
      "{'name': 'DOAP2013.dbc', 'uf': 'Amapá', 'year': 2013, 'group': 'CID10', 'size': '183.5 kB', 'last_update': '2020-01-31 02:48PM'}\n"
     ]
    },
    {
     "name": "stderr",
     "output_type": "stream",
     "text": [
      "DOAP2013.parquet: 100%|██████████| 8.40k/8.40k [00:00<00:00, 82.9kB/s]\n"
     ]
    },
    {
     "name": "stdout",
     "output_type": "stream",
     "text": [
      "{'name': 'DOAP2014.dbc', 'uf': 'Amapá', 'year': 2014, 'group': 'CID10', 'size': '286.4 kB', 'last_update': '2020-01-31 02:48PM'}\n"
     ]
    },
    {
     "name": "stderr",
     "output_type": "stream",
     "text": [
      "DOAP2014.parquet: 100%|██████████| 11.1k/11.1k [00:00<00:00, 73.5kB/s]\n"
     ]
    },
    {
     "name": "stdout",
     "output_type": "stream",
     "text": [
      "{'name': 'DOAP2015.dbc', 'uf': 'Amapá', 'year': 2015, 'group': 'CID10', 'size': '268.0 kB', 'last_update': '2020-01-31 02:48PM'}\n"
     ]
    },
    {
     "name": "stderr",
     "output_type": "stream",
     "text": [
      "DOAP2015.parquet: 100%|██████████| 11.8k/11.8k [00:00<00:00, 83.8kB/s]\n"
     ]
    },
    {
     "name": "stdout",
     "output_type": "stream",
     "text": [
      "{'name': 'DOAP2016.dbc', 'uf': 'Amapá', 'year': 2016, 'group': 'CID10', 'size': '300.9 kB', 'last_update': '2020-01-31 02:48PM'}\n"
     ]
    },
    {
     "name": "stderr",
     "output_type": "stream",
     "text": [
      "DOAP2016.parquet: 100%|██████████| 12.0k/12.0k [00:00<00:00, 79.1kB/s]\n"
     ]
    },
    {
     "name": "stdout",
     "output_type": "stream",
     "text": [
      "{'name': 'DOAP2017.dbc', 'uf': 'Amapá', 'year': 2017, 'group': 'CID10', 'size': '301.7 kB', 'last_update': '2020-01-31 02:48PM'}\n"
     ]
    },
    {
     "name": "stderr",
     "output_type": "stream",
     "text": [
      "DOAP2017.parquet: 100%|██████████| 12.5k/12.5k [00:00<00:00, 85.1kB/s]\n"
     ]
    },
    {
     "name": "stdout",
     "output_type": "stream",
     "text": [
      "{'name': 'DOAP2018.dbc', 'uf': 'Amapá', 'year': 2018, 'group': 'CID10', 'size': '263.8 kB', 'last_update': '2020-04-02 04:34PM'}\n"
     ]
    },
    {
     "name": "stderr",
     "output_type": "stream",
     "text": [
      "DOAP2018.parquet: 100%|██████████| 8.46k/8.46k [00:00<00:00, 54.9kB/s]\n"
     ]
    },
    {
     "name": "stdout",
     "output_type": "stream",
     "text": [
      "{'name': 'DOAP2019.dbc', 'uf': 'Amapá', 'year': 2019, 'group': 'CID10', 'size': '280.9 kB', 'last_update': '2021-04-06 12:55PM'}\n"
     ]
    },
    {
     "name": "stderr",
     "output_type": "stream",
     "text": [
      "DOAP2019.parquet: 100%|██████████| 8.65k/8.65k [00:00<00:00, 54.8kB/s]\n"
     ]
    },
    {
     "name": "stdout",
     "output_type": "stream",
     "text": [
      "{'name': 'DOAP2020.dbc', 'uf': 'Amapá', 'year': 2020, 'group': 'CID10', 'size': '378.0 kB', 'last_update': '2022-03-31 04:19PM'}\n"
     ]
    },
    {
     "name": "stderr",
     "output_type": "stream",
     "text": [
      "DOAP2020.parquet: 100%|█████████▉| 11.3k/11.3k [00:00<00:00, 57.5kB/s]\n"
     ]
    },
    {
     "name": "stdout",
     "output_type": "stream",
     "text": [
      "{'name': 'DOAP2021.dbc', 'uf': 'Amapá', 'year': 2021, 'group': 'CID10', 'size': '383.4 kB', 'last_update': '2023-04-28 11:56AM'}\n"
     ]
    },
    {
     "name": "stderr",
     "output_type": "stream",
     "text": [
      "DOAP2021.parquet: 100%|██████████| 11.7k/11.7k [00:00<00:00, 58.3kB/s]\n"
     ]
    },
    {
     "name": "stdout",
     "output_type": "stream",
     "text": [
      "{'name': 'DOAP2022.dbc', 'uf': 'Amapá', 'year': 2022, 'group': 'CID10', 'size': '309.9 kB', 'last_update': '2023-12-21 04:17PM'}\n"
     ]
    },
    {
     "name": "stderr",
     "output_type": "stream",
     "text": [
      "DOAP2022.parquet: 100%|██████████| 9.44k/9.44k [00:00<00:00, 56.0kB/s]\n"
     ]
    },
    {
     "name": "stdout",
     "output_type": "stream",
     "text": [
      "{'name': 'DOBA2012.DBC', 'uf': 'Bahia', 'year': 2012, 'group': 'CID10', 'size': '6.0 MB', 'last_update': '2020-01-31 02:48PM'}\n"
     ]
    },
    {
     "name": "stderr",
     "output_type": "stream",
     "text": [
      "DOBA2012.parquet: 100%|██████████| 283k/283k [00:03<00:00, 91.0kB/s]\n"
     ]
    },
    {
     "name": "stdout",
     "output_type": "stream",
     "text": [
      "{'name': 'DOBA2013.dbc', 'uf': 'Bahia', 'year': 2013, 'group': 'CID10', 'size': '5.5 MB', 'last_update': '2020-01-31 02:48PM'}\n"
     ]
    },
    {
     "name": "stderr",
     "output_type": "stream",
     "text": [
      "DOBA2013.parquet: 100%|██████████| 271k/271k [00:02<00:00, 94.9kB/s]\n"
     ]
    },
    {
     "name": "stdout",
     "output_type": "stream",
     "text": [
      "{'name': 'DOBA2014.dbc', 'uf': 'Bahia', 'year': 2014, 'group': 'CID10', 'size': '8.8 MB', 'last_update': '2020-01-31 02:48PM'}\n"
     ]
    },
    {
     "name": "stderr",
     "output_type": "stream",
     "text": [
      "DOBA2014.parquet: 100%|██████████| 353k/353k [00:03<00:00, 90.3kB/s]\n"
     ]
    },
    {
     "name": "stdout",
     "output_type": "stream",
     "text": [
      "{'name': 'DOBA2015.dbc', 'uf': 'Bahia', 'year': 2015, 'group': 'CID10', 'size': '8.0 MB', 'last_update': '2020-01-31 02:48PM'}\n"
     ]
    },
    {
     "name": "stderr",
     "output_type": "stream",
     "text": [
      "DOBA2015.parquet: 100%|██████████| 368k/368k [00:04<00:00, 90.5kB/s]\n"
     ]
    },
    {
     "name": "stdout",
     "output_type": "stream",
     "text": [
      "{'name': 'DOBA2016.dbc', 'uf': 'Bahia', 'year': 2016, 'group': 'CID10', 'size': '9.2 MB', 'last_update': '2020-01-31 02:48PM'}\n"
     ]
    },
    {
     "name": "stderr",
     "output_type": "stream",
     "text": [
      "DOBA2016.parquet: 100%|██████████| 372k/372k [00:04<00:00, 89.8kB/s]\n"
     ]
    },
    {
     "name": "stdout",
     "output_type": "stream",
     "text": [
      "{'name': 'DOBA2017.dbc', 'uf': 'Bahia', 'year': 2017, 'group': 'CID10', 'size': '8.8 MB', 'last_update': '2020-01-31 02:48PM'}\n"
     ]
    },
    {
     "name": "stderr",
     "output_type": "stream",
     "text": [
      "DOBA2017.parquet: 100%|██████████| 384k/384k [00:04<00:00, 90.1kB/s]\n"
     ]
    },
    {
     "name": "stdout",
     "output_type": "stream",
     "text": [
      "{'name': 'DOBA2018.dbc', 'uf': 'Bahia', 'year': 2018, 'group': 'CID10', 'size': '7.0 MB', 'last_update': '2020-04-02 04:34PM'}\n"
     ]
    },
    {
     "name": "stderr",
     "output_type": "stream",
     "text": [
      "DOBA2018.parquet: 100%|██████████| 228k/228k [00:03<00:00, 62.9kB/s]\n"
     ]
    },
    {
     "name": "stdout",
     "output_type": "stream",
     "text": [
      "{'name': 'DOBA2019.dbc', 'uf': 'Bahia', 'year': 2019, 'group': 'CID10', 'size': '7.2 MB', 'last_update': '2021-04-06 12:55PM'}\n"
     ]
    },
    {
     "name": "stderr",
     "output_type": "stream",
     "text": [
      "DOBA2019.parquet: 100%|██████████| 229k/229k [00:03<00:00, 59.5kB/s]\n"
     ]
    },
    {
     "name": "stdout",
     "output_type": "stream",
     "text": [
      "{'name': 'DOBA2020.dbc', 'uf': 'Bahia', 'year': 2020, 'group': 'CID10', 'size': '8.9 MB', 'last_update': '2022-03-31 04:19PM'}\n"
     ]
    },
    {
     "name": "stderr",
     "output_type": "stream",
     "text": [
      "DOBA2020.parquet: 100%|██████████| 263k/263k [00:04<00:00, 59.6kB/s]\n"
     ]
    },
    {
     "name": "stdout",
     "output_type": "stream",
     "text": [
      "{'name': 'DOBA2021.dbc', 'uf': 'Bahia', 'year': 2021, 'group': 'CID10', 'size': '9.1 MB', 'last_update': '2023-04-28 11:56AM'}\n"
     ]
    },
    {
     "name": "stderr",
     "output_type": "stream",
     "text": [
      "DOBA2021.parquet: 100%|██████████| 283k/283k [00:04<00:00, 60.1kB/s]\n"
     ]
    },
    {
     "name": "stdout",
     "output_type": "stream",
     "text": [
      "{'name': 'DOBA2022.dbc', 'uf': 'Bahia', 'year': 2022, 'group': 'CID10', 'size': '8.5 MB', 'last_update': '2023-12-21 04:17PM'}\n"
     ]
    },
    {
     "name": "stderr",
     "output_type": "stream",
     "text": [
      "DOBA2022.parquet: 100%|██████████| 264k/264k [00:04<00:00, 59.8kB/s]\n"
     ]
    },
    {
     "name": "stdout",
     "output_type": "stream",
     "text": [
      "{'name': 'DOCE2012.DBC', 'uf': 'Ceará', 'year': 2012, 'group': 'CID10', 'size': '3.6 MB', 'last_update': '2020-01-31 02:49PM'}\n"
     ]
    },
    {
     "name": "stderr",
     "output_type": "stream",
     "text": [
      "DOCE2012.parquet: 100%|██████████| 172k/172k [00:01<00:00, 92.2kB/s]\n"
     ]
    },
    {
     "name": "stdout",
     "output_type": "stream",
     "text": [
      "{'name': 'DOCE2013.dbc', 'uf': 'Ceará', 'year': 2013, 'group': 'CID10', 'size': '3.4 MB', 'last_update': '2020-01-31 02:49PM'}\n"
     ]
    },
    {
     "name": "stderr",
     "output_type": "stream",
     "text": [
      "DOCE2013.parquet: 100%|██████████| 172k/172k [00:01<00:00, 89.2kB/s]\n"
     ]
    },
    {
     "name": "stdout",
     "output_type": "stream",
     "text": [
      "{'name': 'DOCE2014.dbc', 'uf': 'Ceará', 'year': 2014, 'group': 'CID10', 'size': '5.5 MB', 'last_update': '2020-01-31 02:49PM'}\n"
     ]
    },
    {
     "name": "stderr",
     "output_type": "stream",
     "text": [
      "DOCE2014.parquet: 100%|██████████| 219k/219k [00:02<00:00, 92.4kB/s]\n"
     ]
    },
    {
     "name": "stdout",
     "output_type": "stream",
     "text": [
      "{'name': 'DOCE2015.dbc', 'uf': 'Ceará', 'year': 2015, 'group': 'CID10', 'size': '5.1 MB', 'last_update': '2020-01-31 02:49PM'}\n"
     ]
    },
    {
     "name": "stderr",
     "output_type": "stream",
     "text": [
      "DOCE2015.parquet: 100%|██████████| 240k/240k [00:02<00:00, 93.3kB/s]\n"
     ]
    },
    {
     "name": "stdout",
     "output_type": "stream",
     "text": [
      "{'name': 'DOCE2016.dbc', 'uf': 'Ceará', 'year': 2016, 'group': 'CID10', 'size': '5.7 MB', 'last_update': '2020-01-31 02:49PM'}\n"
     ]
    },
    {
     "name": "stderr",
     "output_type": "stream",
     "text": [
      "DOCE2016.parquet: 100%|██████████| 229k/229k [00:02<00:00, 93.4kB/s]\n"
     ]
    },
    {
     "name": "stdout",
     "output_type": "stream",
     "text": [
      "{'name': 'DOCE2017.dbc', 'uf': 'Ceará', 'year': 2017, 'group': 'CID10', 'size': '5.9 MB', 'last_update': '2020-01-31 02:49PM'}\n"
     ]
    },
    {
     "name": "stderr",
     "output_type": "stream",
     "text": [
      "DOCE2017.parquet: 100%|██████████| 250k/250k [00:02<00:00, 91.2kB/s]\n"
     ]
    },
    {
     "name": "stdout",
     "output_type": "stream",
     "text": [
      "{'name': 'DOCE2018.dbc', 'uf': 'Ceará', 'year': 2018, 'group': 'CID10', 'size': '4.4 MB', 'last_update': '2020-04-02 04:34PM'}\n"
     ]
    },
    {
     "name": "stderr",
     "output_type": "stream",
     "text": [
      "DOCE2018.parquet: 100%|██████████| 144k/144k [00:02<00:00, 59.7kB/s]\n"
     ]
    },
    {
     "name": "stdout",
     "output_type": "stream",
     "text": [
      "{'name': 'DOCE2019.dbc', 'uf': 'Ceará', 'year': 2019, 'group': 'CID10', 'size': '4.5 MB', 'last_update': '2021-04-06 12:55PM'}\n"
     ]
    },
    {
     "name": "stderr",
     "output_type": "stream",
     "text": [
      "DOCE2019.parquet: 100%|██████████| 139k/139k [00:02<00:00, 60.8kB/s]\n"
     ]
    },
    {
     "name": "stdout",
     "output_type": "stream",
     "text": [
      "{'name': 'DOCE2020.dbc', 'uf': 'Ceará', 'year': 2020, 'group': 'CID10', 'size': '5.7 MB', 'last_update': '2022-03-31 04:19PM'}\n"
     ]
    },
    {
     "name": "stderr",
     "output_type": "stream",
     "text": [
      "DOCE2020.parquet: 100%|██████████| 170k/170k [00:02<00:00, 58.2kB/s]\n"
     ]
    },
    {
     "name": "stdout",
     "output_type": "stream",
     "text": [
      "{'name': 'DOCE2021.dbc', 'uf': 'Ceará', 'year': 2021, 'group': 'CID10', 'size': '5.8 MB', 'last_update': '2023-04-28 12:00PM'}\n"
     ]
    },
    {
     "name": "stderr",
     "output_type": "stream",
     "text": [
      "DOCE2021.parquet: 100%|██████████| 181k/181k [00:02<00:00, 61.5kB/s]\n"
     ]
    },
    {
     "name": "stdout",
     "output_type": "stream",
     "text": [
      "{'name': 'DOCE2022.dbc', 'uf': 'Ceará', 'year': 2022, 'group': 'CID10', 'size': '5.2 MB', 'last_update': '2023-12-21 04:19PM'}\n"
     ]
    },
    {
     "name": "stderr",
     "output_type": "stream",
     "text": [
      "DOCE2022.parquet: 100%|██████████| 158k/158k [00:02<00:00, 58.1kB/s]\n"
     ]
    },
    {
     "name": "stdout",
     "output_type": "stream",
     "text": [
      "{'name': 'DODF2012.DBC', 'uf': 'Distrito Federal', 'year': 2012, 'group': 'CID10', 'size': '1.0 MB', 'last_update': '2020-01-31 02:49PM'}\n"
     ]
    },
    {
     "name": "stderr",
     "output_type": "stream",
     "text": [
      "DODF2012.parquet: 100%|██████████| 39.6k/39.6k [00:00<00:00, 90.7kB/s]\n"
     ]
    },
    {
     "name": "stdout",
     "output_type": "stream",
     "text": [
      "{'name': 'DODF2013.dbc', 'uf': 'Distrito Federal', 'year': 2013, 'group': 'CID10', 'size': '945.1 kB', 'last_update': '2020-01-31 02:49PM'}\n"
     ]
    },
    {
     "name": "stderr",
     "output_type": "stream",
     "text": [
      "DODF2013.parquet: 100%|██████████| 37.9k/37.9k [00:00<00:00, 92.2kB/s]\n"
     ]
    },
    {
     "name": "stdout",
     "output_type": "stream",
     "text": [
      "{'name': 'DODF2014.dbc', 'uf': 'Distrito Federal', 'year': 2014, 'group': 'CID10', 'size': '1.3 MB', 'last_update': '2020-01-31 02:49PM'}\n"
     ]
    },
    {
     "name": "stderr",
     "output_type": "stream",
     "text": [
      "DODF2014.parquet: 100%|██████████| 50.5k/50.5k [00:00<00:00, 91.5kB/s]\n"
     ]
    },
    {
     "name": "stdout",
     "output_type": "stream",
     "text": [
      "{'name': 'DODF2015.dbc', 'uf': 'Distrito Federal', 'year': 2015, 'group': 'CID10', 'size': '1.3 MB', 'last_update': '2020-01-31 02:49PM'}\n"
     ]
    },
    {
     "name": "stderr",
     "output_type": "stream",
     "text": [
      "DODF2015.parquet: 100%|██████████| 52.5k/52.5k [00:00<00:00, 95.9kB/s]\n"
     ]
    },
    {
     "name": "stdout",
     "output_type": "stream",
     "text": [
      "{'name': 'DODF2016.dbc', 'uf': 'Distrito Federal', 'year': 2016, 'group': 'CID10', 'size': '1.3 MB', 'last_update': '2020-01-31 02:49PM'}\n"
     ]
    },
    {
     "name": "stderr",
     "output_type": "stream",
     "text": [
      "DODF2016.parquet: 100%|██████████| 50.6k/50.6k [00:00<00:00, 92.4kB/s]\n"
     ]
    },
    {
     "name": "stdout",
     "output_type": "stream",
     "text": [
      "{'name': 'DODF2017.dbc', 'uf': 'Distrito Federal', 'year': 2017, 'group': 'CID10', 'size': '1.4 MB', 'last_update': '2020-01-31 02:49PM'}\n"
     ]
    },
    {
     "name": "stderr",
     "output_type": "stream",
     "text": [
      "DODF2017.parquet: 100%|██████████| 52.9k/52.9k [00:00<00:00, 78.1kB/s]\n"
     ]
    },
    {
     "name": "stdout",
     "output_type": "stream",
     "text": [
      "{'name': 'DODF2018.dbc', 'uf': 'Distrito Federal', 'year': 2018, 'group': 'CID10', 'size': '1.1 MB', 'last_update': '2020-04-02 04:34PM'}\n"
     ]
    },
    {
     "name": "stderr",
     "output_type": "stream",
     "text": [
      "DODF2018.parquet: 100%|██████████| 30.7k/30.7k [00:00<00:00, 59.4kB/s]\n"
     ]
    },
    {
     "name": "stdout",
     "output_type": "stream",
     "text": [
      "{'name': 'DODF2019.dbc', 'uf': 'Distrito Federal', 'year': 2019, 'group': 'CID10', 'size': '1.2 MB', 'last_update': '2021-04-06 12:55PM'}\n"
     ]
    },
    {
     "name": "stderr",
     "output_type": "stream",
     "text": [
      "DODF2019.parquet: 100%|██████████| 31.4k/31.4k [00:00<00:00, 57.7kB/s]\n"
     ]
    },
    {
     "name": "stdout",
     "output_type": "stream",
     "text": [
      "{'name': 'DODF2020.dbc', 'uf': 'Distrito Federal', 'year': 2020, 'group': 'CID10', 'size': '1.5 MB', 'last_update': '2022-03-31 04:19PM'}\n"
     ]
    },
    {
     "name": "stderr",
     "output_type": "stream",
     "text": [
      "DODF2020.parquet: 100%|██████████| 39.7k/39.7k [00:00<00:00, 59.2kB/s]\n"
     ]
    },
    {
     "name": "stdout",
     "output_type": "stream",
     "text": [
      "{'name': 'DODF2021.dbc', 'uf': 'Distrito Federal', 'year': 2021, 'group': 'CID10', 'size': '1.7 MB', 'last_update': '2023-04-28 12:00PM'}\n"
     ]
    },
    {
     "name": "stderr",
     "output_type": "stream",
     "text": [
      "DODF2021.parquet: 100%|██████████| 46.8k/46.8k [00:00<00:00, 58.0kB/s]\n"
     ]
    },
    {
     "name": "stdout",
     "output_type": "stream",
     "text": [
      "{'name': 'DODF2022.dbc', 'uf': 'Distrito Federal', 'year': 2022, 'group': 'CID10', 'size': '1.3 MB', 'last_update': '2023-12-21 04:19PM'}\n"
     ]
    },
    {
     "name": "stderr",
     "output_type": "stream",
     "text": [
      "DODF2022.parquet: 100%|██████████| 35.4k/35.4k [00:00<00:00, 59.5kB/s]\n"
     ]
    },
    {
     "name": "stdout",
     "output_type": "stream",
     "text": [
      "{'name': 'DOES2012.DBC', 'uf': 'Espírito Santo', 'year': 2012, 'group': 'CID10', 'size': '1.6 MB', 'last_update': '2020-01-31 02:49PM'}\n"
     ]
    },
    {
     "name": "stderr",
     "output_type": "stream",
     "text": [
      "DOES2012.parquet: 100%|██████████| 67.2k/67.2k [00:00<00:00, 93.2kB/s]\n"
     ]
    },
    {
     "name": "stdout",
     "output_type": "stream",
     "text": [
      "{'name': 'DOES2013.dbc', 'uf': 'Espírito Santo', 'year': 2013, 'group': 'CID10', 'size': '1.7 MB', 'last_update': '2020-01-31 02:49PM'}\n"
     ]
    },
    {
     "name": "stderr",
     "output_type": "stream",
     "text": [
      "DOES2013.parquet: 100%|██████████| 71.5k/71.5k [00:00<00:00, 83.5kB/s]\n"
     ]
    },
    {
     "name": "stdout",
     "output_type": "stream",
     "text": [
      "{'name': 'DOES2014.dbc', 'uf': 'Espírito Santo', 'year': 2014, 'group': 'CID10', 'size': '2.4 MB', 'last_update': '2020-01-31 02:49PM'}\n"
     ]
    },
    {
     "name": "stderr",
     "output_type": "stream",
     "text": [
      "DOES2014.parquet: 100%|██████████| 93.0k/93.0k [00:00<00:00, 94.9kB/s]\n"
     ]
    },
    {
     "name": "stdout",
     "output_type": "stream",
     "text": [
      "{'name': 'DOES2015.dbc', 'uf': 'Espírito Santo', 'year': 2015, 'group': 'CID10', 'size': '2.2 MB', 'last_update': '2020-01-31 02:49PM'}\n"
     ]
    },
    {
     "name": "stderr",
     "output_type": "stream",
     "text": [
      "DOES2015.parquet: 100%|██████████| 94.3k/94.3k [00:00<00:00, 95.7kB/s]\n"
     ]
    },
    {
     "name": "stdout",
     "output_type": "stream",
     "text": [
      "{'name': 'DOES2016.dbc', 'uf': 'Espírito Santo', 'year': 2016, 'group': 'CID10', 'size': '2.4 MB', 'last_update': '2020-01-31 02:49PM'}\n"
     ]
    },
    {
     "name": "stderr",
     "output_type": "stream",
     "text": [
      "DOES2016.parquet: 100%|██████████| 95.8k/95.8k [00:01<00:00, 94.3kB/s]\n"
     ]
    },
    {
     "name": "stdout",
     "output_type": "stream",
     "text": [
      "{'name': 'DOES2017.dbc', 'uf': 'Espírito Santo', 'year': 2017, 'group': 'CID10', 'size': '2.5 MB', 'last_update': '2020-01-31 02:49PM'}\n"
     ]
    },
    {
     "name": "stderr",
     "output_type": "stream",
     "text": [
      "DOES2017.parquet: 100%|██████████| 102k/102k [00:01<00:00, 84.4kB/s]\n"
     ]
    },
    {
     "name": "stdout",
     "output_type": "stream",
     "text": [
      "{'name': 'DOES2018.dbc', 'uf': 'Espírito Santo', 'year': 2018, 'group': 'CID10', 'size': '2.0 MB', 'last_update': '2020-04-02 04:34PM'}\n"
     ]
    },
    {
     "name": "stderr",
     "output_type": "stream",
     "text": [
      "DOES2018.parquet: 100%|██████████| 59.4k/59.4k [00:00<00:00, 61.7kB/s]\n"
     ]
    },
    {
     "name": "stdout",
     "output_type": "stream",
     "text": [
      "{'name': 'DOES2019.dbc', 'uf': 'Espírito Santo', 'year': 2019, 'group': 'CID10', 'size': '2.1 MB', 'last_update': '2021-04-06 12:55PM'}\n"
     ]
    },
    {
     "name": "stderr",
     "output_type": "stream",
     "text": [
      "DOES2019.parquet: 100%|██████████| 59.9k/59.9k [00:00<00:00, 61.0kB/s]\n"
     ]
    },
    {
     "name": "stdout",
     "output_type": "stream",
     "text": [
      "{'name': 'DOES2020.dbc', 'uf': 'Espírito Santo', 'year': 2020, 'group': 'CID10', 'size': '2.4 MB', 'last_update': '2022-03-31 04:19PM'}\n"
     ]
    },
    {
     "name": "stderr",
     "output_type": "stream",
     "text": [
      "DOES2020.parquet: 100%|██████████| 71.3k/71.3k [00:01<00:00, 59.4kB/s]\n"
     ]
    },
    {
     "name": "stdout",
     "output_type": "stream",
     "text": [
      "{'name': 'DOES2021.dbc', 'uf': 'Espírito Santo', 'year': 2021, 'group': 'CID10', 'size': '2.6 MB', 'last_update': '2023-04-28 12:00PM'}\n"
     ]
    },
    {
     "name": "stderr",
     "output_type": "stream",
     "text": [
      "DOES2021.parquet: 100%|██████████| 80.4k/80.4k [00:01<00:00, 55.2kB/s]\n"
     ]
    },
    {
     "name": "stdout",
     "output_type": "stream",
     "text": [
      "{'name': 'DOES2022.dbc', 'uf': 'Espírito Santo', 'year': 2022, 'group': 'CID10', 'size': '2.3 MB', 'last_update': '2023-12-21 04:19PM'}\n"
     ]
    },
    {
     "name": "stderr",
     "output_type": "stream",
     "text": [
      "DOES2022.parquet: 100%|██████████| 68.6k/68.6k [00:01<00:00, 60.5kB/s]\n"
     ]
    },
    {
     "name": "stdout",
     "output_type": "stream",
     "text": [
      "{'name': 'DOGO2012.DBC', 'uf': 'Goiás', 'year': 2012, 'group': 'CID10', 'size': '2.7 MB', 'last_update': '2020-01-31 02:49PM'}\n"
     ]
    },
    {
     "name": "stderr",
     "output_type": "stream",
     "text": [
      "DOGO2012.parquet: 100%|██████████| 112k/112k [00:01<00:00, 94.6kB/s]\n"
     ]
    },
    {
     "name": "stdout",
     "output_type": "stream",
     "text": [
      "{'name': 'DOGO2013.dbc', 'uf': 'Goiás', 'year': 2013, 'group': 'CID10', 'size': '2.7 MB', 'last_update': '2020-01-31 02:49PM'}\n"
     ]
    },
    {
     "name": "stderr",
     "output_type": "stream",
     "text": [
      "DOGO2013.parquet: 100%|██████████| 121k/121k [00:01<00:00, 94.0kB/s]\n"
     ]
    },
    {
     "name": "stdout",
     "output_type": "stream",
     "text": [
      "{'name': 'DOGO2014.dbc', 'uf': 'Goiás', 'year': 2014, 'group': 'CID10', 'size': '4.4 MB', 'last_update': '2020-01-31 02:49PM'}\n"
     ]
    },
    {
     "name": "stderr",
     "output_type": "stream",
     "text": [
      "DOGO2014.parquet: 100%|██████████| 160k/160k [00:01<00:00, 87.1kB/s]\n"
     ]
    },
    {
     "name": "stdout",
     "output_type": "stream",
     "text": [
      "{'name': 'DOGO2015.dbc', 'uf': 'Goiás', 'year': 2015, 'group': 'CID10', 'size': '4.1 MB', 'last_update': '2020-01-31 02:49PM'}\n"
     ]
    },
    {
     "name": "stderr",
     "output_type": "stream",
     "text": [
      "DOGO2015.parquet: 100%|██████████| 170k/170k [00:01<00:00, 96.3kB/s]\n"
     ]
    },
    {
     "name": "stdout",
     "output_type": "stream",
     "text": [
      "{'name': 'DOGO2016.dbc', 'uf': 'Goiás', 'year': 2016, 'group': 'CID10', 'size': '4.4 MB', 'last_update': '2020-01-31 02:49PM'}\n"
     ]
    },
    {
     "name": "stderr",
     "output_type": "stream",
     "text": [
      "DOGO2016.parquet: 100%|██████████| 161k/161k [00:01<00:00, 86.5kB/s]\n"
     ]
    },
    {
     "name": "stdout",
     "output_type": "stream",
     "text": [
      "{'name': 'DOGO2017.dbc', 'uf': 'Goiás', 'year': 2017, 'group': 'CID10', 'size': '4.7 MB', 'last_update': '2020-01-31 02:49PM'}\n"
     ]
    },
    {
     "name": "stderr",
     "output_type": "stream",
     "text": [
      "DOGO2017.parquet: 100%|██████████| 169k/169k [00:01<00:00, 93.1kB/s]\n"
     ]
    },
    {
     "name": "stdout",
     "output_type": "stream",
     "text": [
      "{'name': 'DOGO2018.dbc', 'uf': 'Goiás', 'year': 2018, 'group': 'CID10', 'size': '3.5 MB', 'last_update': '2020-04-02 04:34PM'}\n"
     ]
    },
    {
     "name": "stderr",
     "output_type": "stream",
     "text": [
      "DOGO2018.parquet: 100%|██████████| 99.8k/99.8k [00:01<00:00, 62.0kB/s]\n"
     ]
    },
    {
     "name": "stdout",
     "output_type": "stream",
     "text": [
      "{'name': 'DOGO2019.dbc', 'uf': 'Goiás', 'year': 2019, 'group': 'CID10', 'size': '3.8 MB', 'last_update': '2021-04-06 12:55PM'}\n"
     ]
    },
    {
     "name": "stderr",
     "output_type": "stream",
     "text": [
      "DOGO2019.parquet: 100%|██████████| 101k/101k [00:01<00:00, 56.4kB/s]\n"
     ]
    },
    {
     "name": "stdout",
     "output_type": "stream",
     "text": [
      "{'name': 'DOGO2020.dbc', 'uf': 'Goiás', 'year': 2020, 'group': 'CID10', 'size': '4.5 MB', 'last_update': '2022-03-31 04:19PM'}\n"
     ]
    },
    {
     "name": "stderr",
     "output_type": "stream",
     "text": [
      "DOGO2020.parquet: 100%|██████████| 118k/118k [00:01<00:00, 60.9kB/s]\n"
     ]
    },
    {
     "name": "stdout",
     "output_type": "stream",
     "text": [
      "{'name': 'DOGO2021.dbc', 'uf': 'Goiás', 'year': 2021, 'group': 'CID10', 'size': '5.6 MB', 'last_update': '2023-04-28 12:00PM'}\n"
     ]
    },
    {
     "name": "stderr",
     "output_type": "stream",
     "text": [
      "DOGO2021.parquet: 100%|██████████| 149k/149k [00:02<00:00, 58.0kB/s]\n"
     ]
    },
    {
     "name": "stdout",
     "output_type": "stream",
     "text": [
      "{'name': 'DOGO2022.dbc', 'uf': 'Goiás', 'year': 2022, 'group': 'CID10', 'size': '4.4 MB', 'last_update': '2023-12-21 04:19PM'}\n"
     ]
    },
    {
     "name": "stderr",
     "output_type": "stream",
     "text": [
      "DOGO2022.parquet: 100%|██████████| 116k/116k [00:01<00:00, 61.0kB/s]\n"
     ]
    },
    {
     "name": "stdout",
     "output_type": "stream",
     "text": [
      "{'name': 'DOMA2012.DBC', 'uf': 'Maranhão', 'year': 2012, 'group': 'CID10', 'size': '2.2 MB', 'last_update': '2020-01-31 02:49PM'}\n"
     ]
    },
    {
     "name": "stderr",
     "output_type": "stream",
     "text": [
      "DOMA2012.parquet: 100%|██████████| 101k/101k [00:01<00:00, 94.5kB/s]\n"
     ]
    },
    {
     "name": "stdout",
     "output_type": "stream",
     "text": [
      "{'name': 'DOMA2013.dbc', 'uf': 'Maranhão', 'year': 2013, 'group': 'CID10', 'size': '2.1 MB', 'last_update': '2020-01-31 02:49PM'}\n"
     ]
    },
    {
     "name": "stderr",
     "output_type": "stream",
     "text": [
      "DOMA2013.parquet: 100%|██████████| 100k/100k [00:01<00:00, 83.3kB/s]\n"
     ]
    },
    {
     "name": "stdout",
     "output_type": "stream",
     "text": [
      "{'name': 'DOMA2014.dbc', 'uf': 'Maranhão', 'year': 2014, 'group': 'CID10', 'size': '3.3 MB', 'last_update': '2020-01-31 02:49PM'}\n"
     ]
    },
    {
     "name": "stderr",
     "output_type": "stream",
     "text": [
      "DOMA2014.parquet: 100%|██████████| 131k/131k [00:01<00:00, 87.4kB/s]\n"
     ]
    },
    {
     "name": "stdout",
     "output_type": "stream",
     "text": [
      "{'name': 'DOMA2015.dbc', 'uf': 'Maranhão', 'year': 2015, 'group': 'CID10', 'size': '3.2 MB', 'last_update': '2020-01-31 02:49PM'}\n"
     ]
    },
    {
     "name": "stderr",
     "output_type": "stream",
     "text": [
      "DOMA2015.parquet: 100%|██████████| 138k/138k [00:01<00:00, 89.7kB/s]\n"
     ]
    },
    {
     "name": "stdout",
     "output_type": "stream",
     "text": [
      "{'name': 'DOMA2016.dbc', 'uf': 'Maranhão', 'year': 2016, 'group': 'CID10', 'size': '3.6 MB', 'last_update': '2020-01-31 02:49PM'}\n"
     ]
    },
    {
     "name": "stderr",
     "output_type": "stream",
     "text": [
      "DOMA2016.parquet: 100%|██████████| 144k/144k [00:01<00:00, 90.9kB/s]\n"
     ]
    },
    {
     "name": "stdout",
     "output_type": "stream",
     "text": [
      "{'name': 'DOMA2017.dbc', 'uf': 'Maranhão', 'year': 2017, 'group': 'CID10', 'size': '3.5 MB', 'last_update': '2020-01-31 02:49PM'}\n"
     ]
    },
    {
     "name": "stderr",
     "output_type": "stream",
     "text": [
      "DOMA2017.parquet: 100%|██████████| 146k/146k [00:01<00:00, 85.0kB/s]\n"
     ]
    },
    {
     "name": "stdout",
     "output_type": "stream",
     "text": [
      "{'name': 'DOMA2018.dbc', 'uf': 'Maranhão', 'year': 2018, 'group': 'CID10', 'size': '2.8 MB', 'last_update': '2020-04-02 04:34PM'}\n"
     ]
    },
    {
     "name": "stderr",
     "output_type": "stream",
     "text": [
      "DOMA2018.parquet: 100%|██████████| 87.2k/87.2k [00:01<00:00, 61.9kB/s]\n"
     ]
    },
    {
     "name": "stdout",
     "output_type": "stream",
     "text": [
      "{'name': 'DOMA2019.dbc', 'uf': 'Maranhão', 'year': 2019, 'group': 'CID10', 'size': '2.8 MB', 'last_update': '2021-04-06 12:55PM'}\n"
     ]
    },
    {
     "name": "stderr",
     "output_type": "stream",
     "text": [
      "DOMA2019.parquet: 100%|██████████| 86.1k/86.1k [00:01<00:00, 60.3kB/s]\n"
     ]
    },
    {
     "name": "stdout",
     "output_type": "stream",
     "text": [
      "{'name': 'DOMA2020.dbc', 'uf': 'Maranhão', 'year': 2020, 'group': 'CID10', 'size': '3.5 MB', 'last_update': '2022-03-31 04:19PM'}\n"
     ]
    },
    {
     "name": "stderr",
     "output_type": "stream",
     "text": [
      "DOMA2020.parquet: 100%|██████████| 106k/106k [00:01<00:00, 57.8kB/s]\n"
     ]
    },
    {
     "name": "stdout",
     "output_type": "stream",
     "text": [
      "{'name': 'DOMA2021.dbc', 'uf': 'Maranhão', 'year': 2021, 'group': 'CID10', 'size': '3.5 MB', 'last_update': '2023-04-28 12:01PM'}\n"
     ]
    },
    {
     "name": "stderr",
     "output_type": "stream",
     "text": [
      "DOMA2021.parquet: 100%|██████████| 109k/109k [00:01<00:00, 60.1kB/s]\n"
     ]
    },
    {
     "name": "stdout",
     "output_type": "stream",
     "text": [
      "{'name': 'DOMA2022.dbc', 'uf': 'Maranhão', 'year': 2022, 'group': 'CID10', 'size': '3.2 MB', 'last_update': '2023-12-21 04:19PM'}\n"
     ]
    },
    {
     "name": "stderr",
     "output_type": "stream",
     "text": [
      "DOMA2022.parquet: 100%|██████████| 97.9k/97.9k [00:01<00:00, 55.5kB/s]\n"
     ]
    },
    {
     "name": "stdout",
     "output_type": "stream",
     "text": [
      "{'name': 'DOMG2012.DBC', 'uf': 'Minas Gerais', 'year': 2012, 'group': 'CID10', 'size': '8.8 MB', 'last_update': '2020-01-31 02:49PM'}\n"
     ]
    },
    {
     "name": "stderr",
     "output_type": "stream",
     "text": [
      "DOMG2012.parquet: 100%|██████████| 389k/389k [00:04<00:00, 93.1kB/s]\n"
     ]
    },
    {
     "name": "stdout",
     "output_type": "stream",
     "text": [
      "{'name': 'DOMG2013.dbc', 'uf': 'Minas Gerais', 'year': 2013, 'group': 'CID10', 'size': '8.9 MB', 'last_update': '2020-01-31 02:49PM'}\n"
     ]
    },
    {
     "name": "stderr",
     "output_type": "stream",
     "text": [
      "DOMG2013.parquet: 100%|██████████| 418k/418k [00:04<00:00, 92.9kB/s]\n"
     ]
    },
    {
     "name": "stdout",
     "output_type": "stream",
     "text": [
      "{'name': 'DOMG2014.dbc', 'uf': 'Minas Gerais', 'year': 2014, 'group': 'CID10', 'size': '13.7 MB', 'last_update': '2020-01-31 02:49PM'}\n"
     ]
    },
    {
     "name": "stderr",
     "output_type": "stream",
     "text": [
      "DOMG2014.parquet: 100%|██████████| 545k/545k [00:05<00:00, 93.6kB/s]\n"
     ]
    },
    {
     "name": "stdout",
     "output_type": "stream",
     "text": [
      "{'name': 'DOMG2015.dbc', 'uf': 'Minas Gerais', 'year': 2015, 'group': 'CID10', 'size': '12.6 MB', 'last_update': '2020-01-31 02:49PM'}\n"
     ]
    },
    {
     "name": "stderr",
     "output_type": "stream",
     "text": [
      "DOMG2015.parquet: 100%|██████████| 559k/559k [00:05<00:00, 93.6kB/s]\n"
     ]
    },
    {
     "name": "stdout",
     "output_type": "stream",
     "text": [
      "{'name': 'DOMG2016.dbc', 'uf': 'Minas Gerais', 'year': 2016, 'group': 'CID10', 'size': '14.2 MB', 'last_update': '2020-01-31 02:49PM'}\n"
     ]
    },
    {
     "name": "stderr",
     "output_type": "stream",
     "text": [
      "DOMG2016.parquet: 100%|██████████| 571k/571k [00:06<00:00, 92.9kB/s]\n"
     ]
    },
    {
     "name": "stdout",
     "output_type": "stream",
     "text": [
      "{'name': 'DOMG2017.dbc', 'uf': 'Minas Gerais', 'year': 2017, 'group': 'CID10', 'size': '13.8 MB', 'last_update': '2020-01-31 02:49PM'}\n"
     ]
    },
    {
     "name": "stderr",
     "output_type": "stream",
     "text": [
      "DOMG2017.parquet: 100%|██████████| 584k/584k [00:06<00:00, 92.8kB/s]\n"
     ]
    },
    {
     "name": "stdout",
     "output_type": "stream",
     "text": [
      "{'name': 'DOMG2018.dbc', 'uf': 'Minas Gerais', 'year': 2018, 'group': 'CID10', 'size': '10.9 MB', 'last_update': '2020-04-02 04:34PM'}\n"
     ]
    },
    {
     "name": "stderr",
     "output_type": "stream",
     "text": [
      "DOMG2018.parquet: 100%|██████████| 342k/342k [00:05<00:00, 60.2kB/s]\n"
     ]
    },
    {
     "name": "stdout",
     "output_type": "stream",
     "text": [
      "{'name': 'DOMG2019.dbc', 'uf': 'Minas Gerais', 'year': 2019, 'group': 'CID10', 'size': '11.2 MB', 'last_update': '2021-04-06 12:55PM'}\n"
     ]
    },
    {
     "name": "stderr",
     "output_type": "stream",
     "text": [
      "DOMG2019.parquet: 100%|██████████| 346k/346k [00:05<00:00, 60.2kB/s]\n"
     ]
    },
    {
     "name": "stdout",
     "output_type": "stream",
     "text": [
      "{'name': 'DOMG2020.dbc', 'uf': 'Minas Gerais', 'year': 2020, 'group': 'CID10', 'size': '12.7 MB', 'last_update': '2022-03-31 04:19PM'}\n"
     ]
    },
    {
     "name": "stderr",
     "output_type": "stream",
     "text": [
      "DOMG2020.parquet: 100%|██████████| 373k/373k [00:06<00:00, 55.1kB/s]\n"
     ]
    },
    {
     "name": "stdout",
     "output_type": "stream",
     "text": [
      "{'name': 'DOMG2021.dbc', 'uf': 'Minas Gerais', 'year': 2021, 'group': 'CID10', 'size': '14.9 MB', 'last_update': '2023-04-28 12:01PM'}\n"
     ]
    },
    {
     "name": "stderr",
     "output_type": "stream",
     "text": [
      "DOMG2021.parquet: 100%|██████████| 466k/466k [00:08<00:00, 58.1kB/s]\n"
     ]
    },
    {
     "name": "stdout",
     "output_type": "stream",
     "text": [
      "{'name': 'DOMG2022.dbc', 'uf': 'Minas Gerais', 'year': 2022, 'group': 'CID10', 'size': '13.0 MB', 'last_update': '2023-12-21 04:19PM'}\n"
     ]
    },
    {
     "name": "stderr",
     "output_type": "stream",
     "text": [
      "DOMG2022.parquet: 100%|██████████| 398k/398k [00:06<00:00, 60.1kB/s]\n"
     ]
    },
    {
     "name": "stdout",
     "output_type": "stream",
     "text": [
      "{'name': 'DOMS2012.DBC', 'uf': 'Mato Grosso do Sul', 'year': 2012, 'group': 'CID10', 'size': '1.1 MB', 'last_update': '2020-01-31 02:49PM'}\n"
     ]
    },
    {
     "name": "stderr",
     "output_type": "stream",
     "text": [
      "DOMS2012.parquet: 100%|██████████| 45.2k/45.2k [00:00<00:00, 91.2kB/s]\n"
     ]
    },
    {
     "name": "stdout",
     "output_type": "stream",
     "text": [
      "{'name': 'DOMS2013.dbc', 'uf': 'Mato Grosso do Sul', 'year': 2013, 'group': 'CID10', 'size': '1.1 MB', 'last_update': '2020-01-31 02:49PM'}\n"
     ]
    },
    {
     "name": "stderr",
     "output_type": "stream",
     "text": [
      "DOMS2013.parquet: 100%|██████████| 49.3k/49.3k [00:00<00:00, 90.4kB/s]\n"
     ]
    },
    {
     "name": "stdout",
     "output_type": "stream",
     "text": [
      "{'name': 'DOMS2014.dbc', 'uf': 'Mato Grosso do Sul', 'year': 2014, 'group': 'CID10', 'size': '1.6 MB', 'last_update': '2020-01-31 02:49PM'}\n"
     ]
    },
    {
     "name": "stderr",
     "output_type": "stream",
     "text": [
      "DOMS2014.parquet: 100%|██████████| 61.5k/61.5k [00:00<00:00, 78.7kB/s]\n"
     ]
    },
    {
     "name": "stdout",
     "output_type": "stream",
     "text": [
      "{'name': 'DOMS2015.dbc', 'uf': 'Mato Grosso do Sul', 'year': 2015, 'group': 'CID10', 'size': '1.5 MB', 'last_update': '2020-01-31 02:49PM'}\n"
     ]
    },
    {
     "name": "stderr",
     "output_type": "stream",
     "text": [
      "DOMS2015.parquet: 100%|██████████| 64.8k/64.8k [00:00<00:00, 91.5kB/s]\n"
     ]
    },
    {
     "name": "stdout",
     "output_type": "stream",
     "text": [
      "{'name': 'DOMS2016.dbc', 'uf': 'Mato Grosso do Sul', 'year': 2016, 'group': 'CID10', 'size': '1.8 MB', 'last_update': '2020-01-31 02:49PM'}\n"
     ]
    },
    {
     "name": "stderr",
     "output_type": "stream",
     "text": [
      "DOMS2016.parquet: 100%|██████████| 69.5k/69.5k [00:00<00:00, 90.9kB/s]\n"
     ]
    },
    {
     "name": "stdout",
     "output_type": "stream",
     "text": [
      "{'name': 'DOMS2017.dbc', 'uf': 'Mato Grosso do Sul', 'year': 2017, 'group': 'CID10', 'size': '1.7 MB', 'last_update': '2020-01-31 02:49PM'}\n"
     ]
    },
    {
     "name": "stderr",
     "output_type": "stream",
     "text": [
      "DOMS2017.parquet: 100%|██████████| 66.1k/66.1k [00:00<00:00, 90.4kB/s]\n"
     ]
    },
    {
     "name": "stdout",
     "output_type": "stream",
     "text": [
      "{'name': 'DOMS2018.dbc', 'uf': 'Mato Grosso do Sul', 'year': 2018, 'group': 'CID10', 'size': '1.4 MB', 'last_update': '2020-04-02 04:34PM'}\n"
     ]
    },
    {
     "name": "stderr",
     "output_type": "stream",
     "text": [
      "DOMS2018.parquet: 100%|██████████| 41.9k/41.9k [00:00<00:00, 60.0kB/s]\n"
     ]
    },
    {
     "name": "stdout",
     "output_type": "stream",
     "text": [
      "{'name': 'DOMS2019.dbc', 'uf': 'Mato Grosso do Sul', 'year': 2019, 'group': 'CID10', 'size': '1.4 MB', 'last_update': '2021-04-06 12:55PM'}\n"
     ]
    },
    {
     "name": "stderr",
     "output_type": "stream",
     "text": [
      "DOMS2019.parquet: 100%|██████████| 41.2k/41.2k [00:00<00:00, 58.8kB/s]\n"
     ]
    },
    {
     "name": "stdout",
     "output_type": "stream",
     "text": [
      "{'name': 'DOMS2020.dbc', 'uf': 'Mato Grosso do Sul', 'year': 2020, 'group': 'CID10', 'size': '1.6 MB', 'last_update': '2022-03-31 04:19PM'}\n"
     ]
    },
    {
     "name": "stderr",
     "output_type": "stream",
     "text": [
      "DOMS2020.parquet: 100%|██████████| 46.7k/46.7k [00:00<00:00, 51.7kB/s]\n"
     ]
    },
    {
     "name": "stdout",
     "output_type": "stream",
     "text": [
      "{'name': 'DOMS2021.dbc', 'uf': 'Mato Grosso do Sul', 'year': 2021, 'group': 'CID10', 'size': '2.0 MB', 'last_update': '2023-04-28 12:02PM'}\n"
     ]
    },
    {
     "name": "stderr",
     "output_type": "stream",
     "text": [
      "DOMS2021.parquet: 100%|██████████| 61.4k/61.4k [00:01<00:00, 60.3kB/s]\n"
     ]
    },
    {
     "name": "stdout",
     "output_type": "stream",
     "text": [
      "{'name': 'DOMS2022.dbc', 'uf': 'Mato Grosso do Sul', 'year': 2022, 'group': 'CID10', 'size': '1.7 MB', 'last_update': '2023-12-21 04:19PM'}\n"
     ]
    },
    {
     "name": "stderr",
     "output_type": "stream",
     "text": [
      "DOMS2022.parquet: 100%|██████████| 50.1k/50.1k [00:00<00:00, 59.5kB/s]\n"
     ]
    },
    {
     "name": "stdout",
     "output_type": "stream",
     "text": [
      "{'name': 'DOMT2012.DBC', 'uf': 'Mato Grosso', 'year': 2012, 'group': 'CID10', 'size': '1.2 MB', 'last_update': '2020-01-31 02:49PM'}\n"
     ]
    },
    {
     "name": "stderr",
     "output_type": "stream",
     "text": [
      "DOMT2012.parquet: 100%|██████████| 48.7k/48.7k [00:00<00:00, 90.4kB/s]\n"
     ]
    },
    {
     "name": "stdout",
     "output_type": "stream",
     "text": [
      "{'name': 'DOMT2013.dbc', 'uf': 'Mato Grosso', 'year': 2013, 'group': 'CID10', 'size': '1.2 MB', 'last_update': '2020-01-31 02:49PM'}\n"
     ]
    },
    {
     "name": "stderr",
     "output_type": "stream",
     "text": [
      "DOMT2013.parquet: 100%|██████████| 52.5k/52.5k [00:00<00:00, 89.5kB/s]\n"
     ]
    },
    {
     "name": "stdout",
     "output_type": "stream",
     "text": [
      "{'name': 'DOMT2014.dbc', 'uf': 'Mato Grosso', 'year': 2014, 'group': 'CID10', 'size': '1.9 MB', 'last_update': '2020-01-31 02:49PM'}\n"
     ]
    },
    {
     "name": "stderr",
     "output_type": "stream",
     "text": [
      "DOMT2014.parquet: 100%|██████████| 69.5k/69.5k [00:00<00:00, 87.6kB/s]\n"
     ]
    },
    {
     "name": "stdout",
     "output_type": "stream",
     "text": [
      "{'name': 'DOMT2015.dbc', 'uf': 'Mato Grosso', 'year': 2015, 'group': 'CID10', 'size': '1.8 MB', 'last_update': '2020-01-31 02:49PM'}\n"
     ]
    },
    {
     "name": "stderr",
     "output_type": "stream",
     "text": [
      "DOMT2015.parquet: 100%|██████████| 74.2k/74.2k [00:00<00:00, 85.7kB/s]\n"
     ]
    },
    {
     "name": "stdout",
     "output_type": "stream",
     "text": [
      "{'name': 'DOMT2016.dbc', 'uf': 'Mato Grosso', 'year': 2016, 'group': 'CID10', 'size': '2.0 MB', 'last_update': '2020-01-31 02:49PM'}\n"
     ]
    },
    {
     "name": "stderr",
     "output_type": "stream",
     "text": [
      "DOMT2016.parquet: 100%|██████████| 74.1k/74.1k [00:00<00:00, 93.6kB/s]\n"
     ]
    },
    {
     "name": "stdout",
     "output_type": "stream",
     "text": [
      "{'name': 'DOMT2017.dbc', 'uf': 'Mato Grosso', 'year': 2017, 'group': 'CID10', 'size': '1.9 MB', 'last_update': '2020-01-31 02:49PM'}\n"
     ]
    },
    {
     "name": "stderr",
     "output_type": "stream",
     "text": [
      "DOMT2017.parquet: 100%|██████████| 74.4k/74.4k [00:00<00:00, 92.0kB/s]\n"
     ]
    },
    {
     "name": "stdout",
     "output_type": "stream",
     "text": [
      "{'name': 'DOMT2018.dbc', 'uf': 'Mato Grosso', 'year': 2018, 'group': 'CID10', 'size': '1.6 MB', 'last_update': '2020-04-02 04:34PM'}\n"
     ]
    },
    {
     "name": "stderr",
     "output_type": "stream",
     "text": [
      "DOMT2018.parquet: 100%|██████████| 46.0k/46.0k [00:00<00:00, 60.4kB/s]\n"
     ]
    },
    {
     "name": "stdout",
     "output_type": "stream",
     "text": [
      "{'name': 'DOMT2019.dbc', 'uf': 'Mato Grosso', 'year': 2019, 'group': 'CID10', 'size': '1.6 MB', 'last_update': '2021-04-06 12:55PM'}\n"
     ]
    },
    {
     "name": "stderr",
     "output_type": "stream",
     "text": [
      "DOMT2019.parquet: 100%|██████████| 44.9k/44.9k [00:00<00:00, 58.5kB/s]\n"
     ]
    },
    {
     "name": "stdout",
     "output_type": "stream",
     "text": [
      "{'name': 'DOMT2020.dbc', 'uf': 'Mato Grosso', 'year': 2020, 'group': 'CID10', 'size': '2.1 MB', 'last_update': '2022-03-31 04:19PM'}\n"
     ]
    },
    {
     "name": "stderr",
     "output_type": "stream",
     "text": [
      "DOMT2020.parquet: 100%|██████████| 57.3k/57.3k [00:00<00:00, 60.0kB/s]\n"
     ]
    },
    {
     "name": "stdout",
     "output_type": "stream",
     "text": [
      "{'name': 'DOMT2021.dbc', 'uf': 'Mato Grosso', 'year': 2021, 'group': 'CID10', 'size': '2.4 MB', 'last_update': '2023-04-28 12:02PM'}\n"
     ]
    },
    {
     "name": "stderr",
     "output_type": "stream",
     "text": [
      "DOMT2021.parquet: 100%|██████████| 70.1k/70.1k [00:01<00:00, 56.0kB/s]\n"
     ]
    },
    {
     "name": "stdout",
     "output_type": "stream",
     "text": [
      "{'name': 'DOMT2022.dbc', 'uf': 'Mato Grosso', 'year': 2022, 'group': 'CID10', 'size': '1.9 MB', 'last_update': '2023-12-21 04:19PM'}\n"
     ]
    },
    {
     "name": "stderr",
     "output_type": "stream",
     "text": [
      "DOMT2022.parquet: 100%|██████████| 53.3k/53.3k [00:00<00:00, 59.0kB/s]\n"
     ]
    },
    {
     "name": "stdout",
     "output_type": "stream",
     "text": [
      "{'name': 'DOPA2012.DBC', 'uf': 'Pará', 'year': 2012, 'group': 'CID10', 'size': '2.6 MB', 'last_update': '2020-01-31 02:49PM'}\n"
     ]
    },
    {
     "name": "stderr",
     "output_type": "stream",
     "text": [
      "DOPA2012.parquet: 100%|██████████| 119k/119k [00:01<00:00, 92.3kB/s]\n"
     ]
    },
    {
     "name": "stdout",
     "output_type": "stream",
     "text": [
      "{'name': 'DOPA2013.dbc', 'uf': 'Pará', 'year': 2013, 'group': 'CID10', 'size': '2.4 MB', 'last_update': '2020-01-31 02:49PM'}\n"
     ]
    },
    {
     "name": "stderr",
     "output_type": "stream",
     "text": [
      "DOPA2013.parquet: 100%|██████████| 111k/111k [00:01<00:00, 83.3kB/s]\n"
     ]
    },
    {
     "name": "stdout",
     "output_type": "stream",
     "text": [
      "{'name': 'DOPA2014.dbc', 'uf': 'Pará', 'year': 2014, 'group': 'CID10', 'size': '3.8 MB', 'last_update': '2020-01-31 02:49PM'}\n"
     ]
    },
    {
     "name": "stderr",
     "output_type": "stream",
     "text": [
      "DOPA2014.parquet: 100%|██████████| 149k/149k [00:01<00:00, 90.1kB/s]\n"
     ]
    },
    {
     "name": "stdout",
     "output_type": "stream",
     "text": [
      "{'name': 'DOPA2015.dbc', 'uf': 'Pará', 'year': 2015, 'group': 'CID10', 'size': '3.6 MB', 'last_update': '2020-01-31 02:49PM'}\n"
     ]
    },
    {
     "name": "stderr",
     "output_type": "stream",
     "text": [
      "DOPA2015.parquet: 100%|██████████| 156k/156k [00:01<00:00, 90.6kB/s]\n"
     ]
    },
    {
     "name": "stdout",
     "output_type": "stream",
     "text": [
      "{'name': 'DOPA2016.dbc', 'uf': 'Pará', 'year': 2016, 'group': 'CID10', 'size': '4.1 MB', 'last_update': '2020-01-31 02:49PM'}\n"
     ]
    },
    {
     "name": "stderr",
     "output_type": "stream",
     "text": [
      "DOPA2016.parquet: 100%|██████████| 161k/161k [00:01<00:00, 84.7kB/s]\n"
     ]
    },
    {
     "name": "stdout",
     "output_type": "stream",
     "text": [
      "{'name': 'DOPA2017.dbc', 'uf': 'Pará', 'year': 2017, 'group': 'CID10', 'size': '4.0 MB', 'last_update': '2020-01-31 02:49PM'}\n"
     ]
    },
    {
     "name": "stderr",
     "output_type": "stream",
     "text": [
      "DOPA2017.parquet: 100%|██████████| 168k/168k [00:01<00:00, 90.3kB/s]\n"
     ]
    },
    {
     "name": "stdout",
     "output_type": "stream",
     "text": [
      "{'name': 'DOPA2018.dbc', 'uf': 'Pará', 'year': 2018, 'group': 'CID10', 'size': '3.2 MB', 'last_update': '2020-04-02 04:34PM'}\n"
     ]
    },
    {
     "name": "stderr",
     "output_type": "stream",
     "text": [
      "DOPA2018.parquet: 100%|██████████| 102k/102k [00:01<00:00, 60.8kB/s]\n"
     ]
    },
    {
     "name": "stdout",
     "output_type": "stream",
     "text": [
      "{'name': 'DOPA2019.dbc', 'uf': 'Pará', 'year': 2019, 'group': 'CID10', 'size': '3.2 MB', 'last_update': '2021-04-06 12:55PM'}\n"
     ]
    },
    {
     "name": "stderr",
     "output_type": "stream",
     "text": [
      "DOPA2019.parquet: 100%|██████████| 99.5k/99.5k [00:01<00:00, 57.5kB/s]\n"
     ]
    },
    {
     "name": "stdout",
     "output_type": "stream",
     "text": [
      "{'name': 'DOPA2020.dbc', 'uf': 'Pará', 'year': 2020, 'group': 'CID10', 'size': '4.2 MB', 'last_update': '2022-04-01 01:41PM'}\n"
     ]
    },
    {
     "name": "stderr",
     "output_type": "stream",
     "text": [
      "DOPA2020.parquet: 100%|██████████| 127k/127k [00:02<00:00, 60.8kB/s]\n"
     ]
    },
    {
     "name": "stdout",
     "output_type": "stream",
     "text": [
      "{'name': 'DOPA2021.dbc', 'uf': 'Pará', 'year': 2021, 'group': 'CID10', 'size': '4.2 MB', 'last_update': '2023-04-28 12:02PM'}\n"
     ]
    },
    {
     "name": "stderr",
     "output_type": "stream",
     "text": [
      "DOPA2021.parquet: 100%|██████████| 128k/128k [00:02<00:00, 57.3kB/s]\n"
     ]
    },
    {
     "name": "stdout",
     "output_type": "stream",
     "text": [
      "{'name': 'DOPA2022.dbc', 'uf': 'Pará', 'year': 2022, 'group': 'CID10', 'size': '3.7 MB', 'last_update': '2023-12-21 04:19PM'}\n"
     ]
    },
    {
     "name": "stderr",
     "output_type": "stream",
     "text": [
      "DOPA2022.parquet: 100%|██████████| 111k/111k [00:01<00:00, 60.4kB/s]\n"
     ]
    },
    {
     "name": "stdout",
     "output_type": "stream",
     "text": [
      "{'name': 'DOPB2012.DBC', 'uf': 'Paraíba', 'year': 2012, 'group': 'CID10', 'size': '1.8 MB', 'last_update': '2020-01-31 02:49PM'}\n"
     ]
    },
    {
     "name": "stderr",
     "output_type": "stream",
     "text": [
      "DOPB2012.parquet: 100%|██████████| 88.0k/88.0k [00:00<00:00, 94.4kB/s]\n"
     ]
    },
    {
     "name": "stdout",
     "output_type": "stream",
     "text": [
      "{'name': 'DOPB2013.dbc', 'uf': 'Paraíba', 'year': 2013, 'group': 'CID10', 'size': '1.7 MB', 'last_update': '2020-01-31 02:49PM'}\n"
     ]
    },
    {
     "name": "stderr",
     "output_type": "stream",
     "text": [
      "DOPB2013.parquet: 100%|██████████| 85.4k/85.4k [00:01<00:00, 83.9kB/s]\n"
     ]
    },
    {
     "name": "stdout",
     "output_type": "stream",
     "text": [
      "{'name': 'DOPB2014.dbc', 'uf': 'Paraíba', 'year': 2014, 'group': 'CID10', 'size': '2.6 MB', 'last_update': '2020-01-31 02:49PM'}\n"
     ]
    },
    {
     "name": "stderr",
     "output_type": "stream",
     "text": [
      "DOPB2014.parquet: 100%|██████████| 106k/106k [00:01<00:00, 92.7kB/s]\n"
     ]
    },
    {
     "name": "stdout",
     "output_type": "stream",
     "text": [
      "{'name': 'DOPB2015.dbc', 'uf': 'Paraíba', 'year': 2015, 'group': 'CID10', 'size': '2.3 MB', 'last_update': '2020-01-31 02:49PM'}\n"
     ]
    },
    {
     "name": "stderr",
     "output_type": "stream",
     "text": [
      "DOPB2015.parquet: 100%|██████████| 111k/111k [00:01<00:00, 92.4kB/s]\n"
     ]
    },
    {
     "name": "stdout",
     "output_type": "stream",
     "text": [
      "{'name': 'DOPB2016.dbc', 'uf': 'Paraíba', 'year': 2016, 'group': 'CID10', 'size': '2.8 MB', 'last_update': '2020-01-31 02:49PM'}\n"
     ]
    },
    {
     "name": "stderr",
     "output_type": "stream",
     "text": [
      "DOPB2016.parquet: 100%|██████████| 118k/118k [00:01<00:00, 89.7kB/s]\n"
     ]
    },
    {
     "name": "stdout",
     "output_type": "stream",
     "text": [
      "{'name': 'DOPB2017.dbc', 'uf': 'Paraíba', 'year': 2017, 'group': 'CID10', 'size': '2.5 MB', 'last_update': '2020-01-31 02:49PM'}\n"
     ]
    },
    {
     "name": "stderr",
     "output_type": "stream",
     "text": [
      "DOPB2017.parquet: 100%|██████████| 113k/113k [00:01<00:00, 83.9kB/s]\n"
     ]
    },
    {
     "name": "stdout",
     "output_type": "stream",
     "text": [
      "{'name': 'DOPB2018.dbc', 'uf': 'Paraíba', 'year': 2018, 'group': 'CID10', 'size': '2.0 MB', 'last_update': '2020-04-02 04:34PM'}\n"
     ]
    },
    {
     "name": "stderr",
     "output_type": "stream",
     "text": [
      "DOPB2018.parquet: 100%|██████████| 67.3k/67.3k [00:01<00:00, 62.1kB/s]\n"
     ]
    },
    {
     "name": "stdout",
     "output_type": "stream",
     "text": [
      "{'name': 'DOPB2019.dbc', 'uf': 'Paraíba', 'year': 2019, 'group': 'CID10', 'size': '2.0 MB', 'last_update': '2021-04-06 12:55PM'}\n"
     ]
    },
    {
     "name": "stderr",
     "output_type": "stream",
     "text": [
      "DOPB2019.parquet: 100%|██████████| 67.1k/67.1k [00:01<00:00, 59.0kB/s]\n"
     ]
    },
    {
     "name": "stdout",
     "output_type": "stream",
     "text": [
      "{'name': 'DOPB2020.dbc', 'uf': 'Paraíba', 'year': 2020, 'group': 'CID10', 'size': '2.5 MB', 'last_update': '2022-03-31 04:19PM'}\n"
     ]
    },
    {
     "name": "stderr",
     "output_type": "stream",
     "text": [
      "DOPB2020.parquet: 100%|██████████| 76.2k/76.2k [00:01<00:00, 59.6kB/s]\n"
     ]
    },
    {
     "name": "stdout",
     "output_type": "stream",
     "text": [
      "{'name': 'DOPB2021.dbc', 'uf': 'Paraíba', 'year': 2021, 'group': 'CID10', 'size': '2.6 MB', 'last_update': '2023-04-28 12:02PM'}\n"
     ]
    },
    {
     "name": "stderr",
     "output_type": "stream",
     "text": [
      "DOPB2021.parquet: 100%|██████████| 85.0k/85.0k [00:01<00:00, 56.4kB/s]\n"
     ]
    },
    {
     "name": "stdout",
     "output_type": "stream",
     "text": [
      "{'name': 'DOPB2022.dbc', 'uf': 'Paraíba', 'year': 2022, 'group': 'CID10', 'size': '2.5 MB', 'last_update': '2023-12-21 04:19PM'}\n"
     ]
    },
    {
     "name": "stderr",
     "output_type": "stream",
     "text": [
      "DOPB2022.parquet: 100%|██████████| 79.4k/79.4k [00:01<00:00, 60.6kB/s]\n"
     ]
    },
    {
     "name": "stdout",
     "output_type": "stream",
     "text": [
      "{'name': 'DOPE2012.DBC', 'uf': 'Pernambuco', 'year': 2012, 'group': 'CID10', 'size': '4.6 MB', 'last_update': '2020-01-31 02:50PM'}\n"
     ]
    },
    {
     "name": "stderr",
     "output_type": "stream",
     "text": [
      "DOPE2012.parquet: 100%|██████████| 201k/201k [00:02<00:00, 88.3kB/s]\n"
     ]
    },
    {
     "name": "stdout",
     "output_type": "stream",
     "text": [
      "{'name': 'DOPE2013.dbc', 'uf': 'Pernambuco', 'year': 2013, 'group': 'CID10', 'size': '4.2 MB', 'last_update': '2020-01-31 02:50PM'}\n"
     ]
    },
    {
     "name": "stderr",
     "output_type": "stream",
     "text": [
      "DOPE2013.parquet: 100%|██████████| 194k/194k [00:02<00:00, 95.0kB/s]\n"
     ]
    },
    {
     "name": "stdout",
     "output_type": "stream",
     "text": [
      "{'name': 'DOPE2014.dbc', 'uf': 'Pernambuco', 'year': 2014, 'group': 'CID10', 'size': '6.4 MB', 'last_update': '2020-01-31 02:50PM'}\n"
     ]
    },
    {
     "name": "stderr",
     "output_type": "stream",
     "text": [
      "DOPE2014.parquet: 100%|██████████| 244k/244k [00:02<00:00, 88.6kB/s]\n"
     ]
    },
    {
     "name": "stdout",
     "output_type": "stream",
     "text": [
      "{'name': 'DOPE2015.dbc', 'uf': 'Pernambuco', 'year': 2015, 'group': 'CID10', 'size': '6.2 MB', 'last_update': '2020-01-31 02:50PM'}\n"
     ]
    },
    {
     "name": "stderr",
     "output_type": "stream",
     "text": [
      "DOPE2015.parquet: 100%|██████████| 264k/264k [00:02<00:00, 93.5kB/s]\n"
     ]
    },
    {
     "name": "stdout",
     "output_type": "stream",
     "text": [
      "{'name': 'DOPE2016.dbc', 'uf': 'Pernambuco', 'year': 2016, 'group': 'CID10', 'size': '7.2 MB', 'last_update': '2020-01-31 02:50PM'}\n"
     ]
    },
    {
     "name": "stderr",
     "output_type": "stream",
     "text": [
      "DOPE2016.parquet: 100%|██████████| 283k/283k [00:03<00:00, 89.1kB/s]\n"
     ]
    },
    {
     "name": "stdout",
     "output_type": "stream",
     "text": [
      "{'name': 'DOPE2017.dbc', 'uf': 'Pernambuco', 'year': 2017, 'group': 'CID10', 'size': '6.8 MB', 'last_update': '2020-01-31 02:50PM'}\n"
     ]
    },
    {
     "name": "stderr",
     "output_type": "stream",
     "text": [
      "DOPE2017.parquet: 100%|██████████| 272k/272k [00:02<00:00, 94.4kB/s]\n"
     ]
    },
    {
     "name": "stdout",
     "output_type": "stream",
     "text": [
      "{'name': 'DOPE2018.dbc', 'uf': 'Pernambuco', 'year': 2018, 'group': 'CID10', 'size': '5.1 MB', 'last_update': '2020-04-02 04:34PM'}\n"
     ]
    },
    {
     "name": "stderr",
     "output_type": "stream",
     "text": [
      "DOPE2018.parquet: 100%|██████████| 157k/157k [00:02<00:00, 59.0kB/s]\n"
     ]
    },
    {
     "name": "stdout",
     "output_type": "stream",
     "text": [
      "{'name': 'DOPE2019.dbc', 'uf': 'Pernambuco', 'year': 2019, 'group': 'CID10', 'size': '5.4 MB', 'last_update': '2021-04-06 12:55PM'}\n"
     ]
    },
    {
     "name": "stderr",
     "output_type": "stream",
     "text": [
      "DOPE2019.parquet: 100%|██████████| 158k/158k [00:02<00:00, 60.7kB/s]\n"
     ]
    },
    {
     "name": "stdout",
     "output_type": "stream",
     "text": [
      "{'name': 'DOPE2020.dbc', 'uf': 'Pernambuco', 'year': 2020, 'group': 'CID10', 'size': '6.4 MB', 'last_update': '2022-03-31 04:19PM'}\n"
     ]
    },
    {
     "name": "stderr",
     "output_type": "stream",
     "text": [
      "DOPE2020.parquet: 100%|██████████| 188k/188k [00:03<00:00, 58.4kB/s]\n"
     ]
    },
    {
     "name": "stdout",
     "output_type": "stream",
     "text": [
      "{'name': 'DOPE2021.dbc', 'uf': 'Pernambuco', 'year': 2021, 'group': 'CID10', 'size': '6.6 MB', 'last_update': '2023-04-28 12:02PM'}\n"
     ]
    },
    {
     "name": "stderr",
     "output_type": "stream",
     "text": [
      "DOPE2021.parquet: 100%|██████████| 198k/198k [00:03<00:00, 59.2kB/s]\n"
     ]
    },
    {
     "name": "stdout",
     "output_type": "stream",
     "text": [
      "{'name': 'DOPE2022.dbc', 'uf': 'Pernambuco', 'year': 2022, 'group': 'CID10', 'size': '5.8 MB', 'last_update': '2023-12-21 04:19PM'}\n"
     ]
    },
    {
     "name": "stderr",
     "output_type": "stream",
     "text": [
      "DOPE2022.parquet: 100%|██████████| 176k/176k [00:02<00:00, 60.2kB/s]\n"
     ]
    },
    {
     "name": "stdout",
     "output_type": "stream",
     "text": [
      "{'name': 'DOPI2012.DBC', 'uf': 'Piauí', 'year': 2012, 'group': 'CID10', 'size': '1.3 MB', 'last_update': '2020-01-31 02:50PM'}\n"
     ]
    },
    {
     "name": "stderr",
     "output_type": "stream",
     "text": [
      "DOPI2012.parquet: 100%|██████████| 61.1k/61.1k [00:00<00:00, 81.1kB/s]\n"
     ]
    },
    {
     "name": "stdout",
     "output_type": "stream",
     "text": [
      "{'name': 'DOPI2013.dbc', 'uf': 'Piauí', 'year': 2013, 'group': 'CID10', 'size': '1.3 MB', 'last_update': '2020-01-31 02:50PM'}\n"
     ]
    },
    {
     "name": "stderr",
     "output_type": "stream",
     "text": [
      "DOPI2013.parquet: 100%|██████████| 59.8k/59.8k [00:00<00:00, 91.6kB/s]\n"
     ]
    },
    {
     "name": "stdout",
     "output_type": "stream",
     "text": [
      "{'name': 'DOPI2014.dbc', 'uf': 'Piauí', 'year': 2014, 'group': 'CID10', 'size': '2.0 MB', 'last_update': '2020-01-31 02:50PM'}\n"
     ]
    },
    {
     "name": "stderr",
     "output_type": "stream",
     "text": [
      "DOPI2014.parquet: 100%|██████████| 77.6k/77.6k [00:00<00:00, 94.2kB/s]\n"
     ]
    },
    {
     "name": "stdout",
     "output_type": "stream",
     "text": [
      "{'name': 'DOPI2015.dbc', 'uf': 'Piauí', 'year': 2015, 'group': 'CID10', 'size': '1.8 MB', 'last_update': '2020-01-31 02:50PM'}\n"
     ]
    },
    {
     "name": "stderr",
     "output_type": "stream",
     "text": [
      "DOPI2015.parquet: 100%|██████████| 81.6k/81.6k [00:00<00:00, 93.5kB/s]\n"
     ]
    },
    {
     "name": "stdout",
     "output_type": "stream",
     "text": [
      "{'name': 'DOPI2016.dbc', 'uf': 'Piauí', 'year': 2016, 'group': 'CID10', 'size': '2.0 MB', 'last_update': '2020-01-31 02:50PM'}\n"
     ]
    },
    {
     "name": "stderr",
     "output_type": "stream",
     "text": [
      "DOPI2016.parquet: 100%|██████████| 79.2k/79.2k [00:00<00:00, 90.7kB/s]\n"
     ]
    },
    {
     "name": "stdout",
     "output_type": "stream",
     "text": [
      "{'name': 'DOPI2017.dbc', 'uf': 'Piauí', 'year': 2017, 'group': 'CID10', 'size': '2.0 MB', 'last_update': '2020-01-31 02:50PM'}\n"
     ]
    },
    {
     "name": "stderr",
     "output_type": "stream",
     "text": [
      "DOPI2017.parquet: 100%|██████████| 82.7k/82.7k [00:00<00:00, 92.1kB/s]\n"
     ]
    },
    {
     "name": "stdout",
     "output_type": "stream",
     "text": [
      "{'name': 'DOPI2018.dbc', 'uf': 'Piauí', 'year': 2018, 'group': 'CID10', 'size': '1.6 MB', 'last_update': '2020-04-02 04:34PM'}\n"
     ]
    },
    {
     "name": "stderr",
     "output_type": "stream",
     "text": [
      "DOPI2018.parquet: 100%|██████████| 50.5k/50.5k [00:00<00:00, 53.9kB/s]\n"
     ]
    },
    {
     "name": "stdout",
     "output_type": "stream",
     "text": [
      "{'name': 'DOPI2019.dbc', 'uf': 'Piauí', 'year': 2019, 'group': 'CID10', 'size': '1.6 MB', 'last_update': '2021-04-06 12:55PM'}\n"
     ]
    },
    {
     "name": "stderr",
     "output_type": "stream",
     "text": [
      "DOPI2019.parquet: 100%|██████████| 50.3k/50.3k [00:00<00:00, 59.3kB/s]\n"
     ]
    },
    {
     "name": "stdout",
     "output_type": "stream",
     "text": [
      "{'name': 'DOPI2020.dbc', 'uf': 'Piauí', 'year': 2020, 'group': 'CID10', 'size': '1.9 MB', 'last_update': '2022-03-31 04:19PM'}\n"
     ]
    },
    {
     "name": "stderr",
     "output_type": "stream",
     "text": [
      "DOPI2020.parquet: 100%|██████████| 57.9k/57.9k [00:00<00:00, 60.3kB/s]\n"
     ]
    },
    {
     "name": "stdout",
     "output_type": "stream",
     "text": [
      "{'name': 'DOPI2021.dbc', 'uf': 'Piauí', 'year': 2021, 'group': 'CID10', 'size': '2.1 MB', 'last_update': '2023-04-28 12:03PM'}\n"
     ]
    },
    {
     "name": "stderr",
     "output_type": "stream",
     "text": [
      "DOPI2021.parquet: 100%|██████████| 64.2k/64.2k [00:01<00:00, 60.2kB/s]\n"
     ]
    },
    {
     "name": "stdout",
     "output_type": "stream",
     "text": [
      "{'name': 'DOPI2022.dbc', 'uf': 'Piauí', 'year': 2022, 'group': 'CID10', 'size': '1.9 MB', 'last_update': '2023-12-21 04:19PM'}\n"
     ]
    },
    {
     "name": "stderr",
     "output_type": "stream",
     "text": [
      "DOPI2022.parquet: 100%|██████████| 59.7k/59.7k [00:00<00:00, 59.7kB/s]\n"
     ]
    },
    {
     "name": "stdout",
     "output_type": "stream",
     "text": [
      "{'name': 'DOPR2012.DBC', 'uf': 'Paraná', 'year': 2012, 'group': 'CID10', 'size': '5.0 MB', 'last_update': '2020-01-31 02:50PM'}\n"
     ]
    },
    {
     "name": "stderr",
     "output_type": "stream",
     "text": [
      "DOPR2012.parquet: 100%|██████████| 213k/213k [00:02<00:00, 91.5kB/s]\n"
     ]
    },
    {
     "name": "stdout",
     "output_type": "stream",
     "text": [
      "{'name': 'DOPR2013.dbc', 'uf': 'Paraná', 'year': 2013, 'group': 'CID10', 'size': '5.4 MB', 'last_update': '2020-01-31 02:50PM'}\n"
     ]
    },
    {
     "name": "stderr",
     "output_type": "stream",
     "text": [
      "DOPR2013.parquet: 100%|██████████| 233k/233k [00:02<00:00, 88.4kB/s]\n"
     ]
    },
    {
     "name": "stdout",
     "output_type": "stream",
     "text": [
      "{'name': 'DOPR2014.dbc', 'uf': 'Paraná', 'year': 2014, 'group': 'CID10', 'size': '7.7 MB', 'last_update': '2020-01-31 02:50PM'}\n"
     ]
    },
    {
     "name": "stderr",
     "output_type": "stream",
     "text": [
      "DOPR2014.parquet: 100%|██████████| 293k/293k [00:03<00:00, 93.0kB/s]\n"
     ]
    },
    {
     "name": "stdout",
     "output_type": "stream",
     "text": [
      "{'name': 'DOPR2015.dbc', 'uf': 'Paraná', 'year': 2015, 'group': 'CID10', 'size': '6.9 MB', 'last_update': '2020-01-31 02:50PM'}\n"
     ]
    },
    {
     "name": "stderr",
     "output_type": "stream",
     "text": [
      "DOPR2015.parquet: 100%|██████████| 298k/298k [00:03<00:00, 87.2kB/s]\n"
     ]
    },
    {
     "name": "stdout",
     "output_type": "stream",
     "text": [
      "{'name': 'DOPR2016.dbc', 'uf': 'Paraná', 'year': 2016, 'group': 'CID10', 'size': '8.1 MB', 'last_update': '2020-01-31 02:50PM'}\n"
     ]
    },
    {
     "name": "stderr",
     "output_type": "stream",
     "text": [
      "DOPR2016.parquet: 100%|██████████| 312k/312k [00:03<00:00, 88.1kB/s]\n"
     ]
    },
    {
     "name": "stdout",
     "output_type": "stream",
     "text": [
      "{'name': 'DOPR2017.dbc', 'uf': 'Paraná', 'year': 2017, 'group': 'CID10', 'size': '7.6 MB', 'last_update': '2020-01-31 02:50PM'}\n"
     ]
    },
    {
     "name": "stderr",
     "output_type": "stream",
     "text": [
      "DOPR2017.parquet: 100%|██████████| 301k/301k [00:03<00:00, 92.3kB/s]\n"
     ]
    },
    {
     "name": "stdout",
     "output_type": "stream",
     "text": [
      "{'name': 'DOPR2018.dbc', 'uf': 'Paraná', 'year': 2018, 'group': 'CID10', 'size': '6.1 MB', 'last_update': '2020-04-02 04:34PM'}\n"
     ]
    },
    {
     "name": "stderr",
     "output_type": "stream",
     "text": [
      "DOPR2018.parquet: 100%|██████████| 186k/186k [00:03<00:00, 59.6kB/s]\n"
     ]
    },
    {
     "name": "stdout",
     "output_type": "stream",
     "text": [
      "{'name': 'DOPR2019.dbc', 'uf': 'Paraná', 'year': 2019, 'group': 'CID10', 'size': '6.2 MB', 'last_update': '2021-04-06 12:55PM'}\n"
     ]
    },
    {
     "name": "stderr",
     "output_type": "stream",
     "text": [
      "DOPR2019.parquet: 100%|██████████| 183k/183k [00:03<00:00, 57.7kB/s]\n"
     ]
    },
    {
     "name": "stdout",
     "output_type": "stream",
     "text": [
      "{'name': 'DOPR2020.dbc', 'uf': 'Paraná', 'year': 2020, 'group': 'CID10', 'size': '7.2 MB', 'last_update': '2022-03-31 04:19PM'}\n"
     ]
    },
    {
     "name": "stderr",
     "output_type": "stream",
     "text": [
      "DOPR2020.parquet: 100%|██████████| 202k/202k [00:03<00:00, 61.3kB/s]\n"
     ]
    },
    {
     "name": "stdout",
     "output_type": "stream",
     "text": [
      "{'name': 'DOPR2021.dbc', 'uf': 'Paraná', 'year': 2021, 'group': 'CID10', 'size': '9.3 MB', 'last_update': '2023-04-28 12:03PM'}\n"
     ]
    },
    {
     "name": "stderr",
     "output_type": "stream",
     "text": [
      "DOPR2021.parquet: 100%|██████████| 276k/276k [00:04<00:00, 59.7kB/s]\n"
     ]
    },
    {
     "name": "stdout",
     "output_type": "stream",
     "text": [
      "{'name': 'DOPR2022.dbc', 'uf': 'Paraná', 'year': 2022, 'group': 'CID10', 'size': '7.6 MB', 'last_update': '2023-12-22 01:20PM'}\n"
     ]
    },
    {
     "name": "stderr",
     "output_type": "stream",
     "text": [
      "DOPR2022.parquet: 100%|██████████| 220k/220k [00:03<00:00, 59.9kB/s]\n"
     ]
    },
    {
     "name": "stdout",
     "output_type": "stream",
     "text": [
      "{'name': 'DORJ2012.DBC', 'uf': 'Rio de Janeiro', 'year': 2012, 'group': 'CID10', 'size': '8.9 MB', 'last_update': '2020-01-31 02:50PM'}\n"
     ]
    },
    {
     "name": "stderr",
     "output_type": "stream",
     "text": [
      "DORJ2012.parquet: 100%|██████████| 393k/393k [00:04<00:00, 93.7kB/s]\n"
     ]
    },
    {
     "name": "stdout",
     "output_type": "stream",
     "text": [
      "{'name': 'DORJ2013.dbc', 'uf': 'Rio de Janeiro', 'year': 2013, 'group': 'CID10', 'size': '9.6 MB', 'last_update': '2020-01-31 02:50PM'}\n"
     ]
    },
    {
     "name": "stderr",
     "output_type": "stream",
     "text": [
      "DORJ2013.parquet: 100%|██████████| 432k/432k [00:04<00:00, 90.8kB/s]\n"
     ]
    },
    {
     "name": "stdout",
     "output_type": "stream",
     "text": [
      "{'name': 'DORJ2014.dbc', 'uf': 'Rio de Janeiro', 'year': 2014, 'group': 'CID10', 'size': '13.7 MB', 'last_update': '2020-01-31 02:50PM'}\n"
     ]
    },
    {
     "name": "stderr",
     "output_type": "stream",
     "text": [
      "DORJ2014.parquet: 100%|██████████| 554k/554k [00:06<00:00, 91.6kB/s]\n"
     ]
    },
    {
     "name": "stdout",
     "output_type": "stream",
     "text": [
      "{'name': 'DORJ2015.dbc', 'uf': 'Rio de Janeiro', 'year': 2015, 'group': 'CID10', 'size': '12.6 MB', 'last_update': '2020-01-31 02:50PM'}\n"
     ]
    },
    {
     "name": "stderr",
     "output_type": "stream",
     "text": [
      "DORJ2015.parquet: 100%|██████████| 561k/561k [00:06<00:00, 92.5kB/s]\n"
     ]
    },
    {
     "name": "stdout",
     "output_type": "stream",
     "text": [
      "{'name': 'DORJ2016.dbc', 'uf': 'Rio de Janeiro', 'year': 2016, 'group': 'CID10', 'size': '14.5 MB', 'last_update': '2020-01-31 02:50PM'}\n"
     ]
    },
    {
     "name": "stderr",
     "output_type": "stream",
     "text": [
      "DORJ2016.parquet: 100%|██████████| 596k/596k [00:06<00:00, 92.4kB/s]\n"
     ]
    },
    {
     "name": "stdout",
     "output_type": "stream",
     "text": [
      "{'name': 'DORJ2017.dbc', 'uf': 'Rio de Janeiro', 'year': 2017, 'group': 'CID10', 'size': '14.1 MB', 'last_update': '2020-01-31 02:50PM'}\n"
     ]
    },
    {
     "name": "stderr",
     "output_type": "stream",
     "text": [
      "DORJ2017.parquet: 100%|██████████| 578k/578k [00:06<00:00, 89.4kB/s]\n"
     ]
    },
    {
     "name": "stdout",
     "output_type": "stream",
     "text": [
      "{'name': 'DORJ2018.dbc', 'uf': 'Rio de Janeiro', 'year': 2018, 'group': 'CID10', 'size': '10.9 MB', 'last_update': '2020-04-02 04:34PM'}\n"
     ]
    },
    {
     "name": "stderr",
     "output_type": "stream",
     "text": [
      "DORJ2018.parquet: 100%|██████████| 355k/355k [00:05<00:00, 60.7kB/s]\n"
     ]
    },
    {
     "name": "stdout",
     "output_type": "stream",
     "text": [
      "{'name': 'DORJ2019.dbc', 'uf': 'Rio de Janeiro', 'year': 2019, 'group': 'CID10', 'size': '11.3 MB', 'last_update': '2021-04-06 12:55PM'}\n"
     ]
    },
    {
     "name": "stderr",
     "output_type": "stream",
     "text": [
      "DORJ2019.parquet: 100%|██████████| 354k/354k [00:05<00:00, 59.6kB/s]\n"
     ]
    },
    {
     "name": "stdout",
     "output_type": "stream",
     "text": [
      "{'name': 'DORJ2020.dbc', 'uf': 'Rio de Janeiro', 'year': 2020, 'group': 'CID10', 'size': '13.8 MB', 'last_update': '2022-03-31 04:19PM'}\n"
     ]
    },
    {
     "name": "stderr",
     "output_type": "stream",
     "text": [
      "DORJ2020.parquet: 100%|██████████| 422k/422k [00:07<00:00, 58.8kB/s]\n"
     ]
    },
    {
     "name": "stdout",
     "output_type": "stream",
     "text": [
      "{'name': 'DORJ2021.dbc', 'uf': 'Rio de Janeiro', 'year': 2021, 'group': 'CID10', 'size': '15.0 MB', 'last_update': '2023-04-28 12:04PM'}\n"
     ]
    },
    {
     "name": "stderr",
     "output_type": "stream",
     "text": [
      "DORJ2021.parquet: 100%|██████████| 464k/464k [00:07<00:00, 60.1kB/s]\n"
     ]
    },
    {
     "name": "stdout",
     "output_type": "stream",
     "text": [
      "{'name': 'DORJ2022.dbc', 'uf': 'Rio de Janeiro', 'year': 2022, 'group': 'CID10', 'size': '11.9 MB', 'last_update': '2023-12-21 04:19PM'}\n"
     ]
    },
    {
     "name": "stderr",
     "output_type": "stream",
     "text": [
      "DORJ2022.parquet: 100%|██████████| 369k/369k [00:06<00:00, 58.6kB/s]\n"
     ]
    },
    {
     "name": "stdout",
     "output_type": "stream",
     "text": [
      "{'name': 'DORN2012.DBC', 'uf': 'Rio Grande do Norte', 'year': 2012, 'group': 'CID10', 'size': '1.3 MB', 'last_update': '2020-01-31 02:50PM'}\n"
     ]
    },
    {
     "name": "stderr",
     "output_type": "stream",
     "text": [
      "DORN2012.parquet: 100%|██████████| 60.5k/60.5k [00:00<00:00, 88.4kB/s]\n"
     ]
    },
    {
     "name": "stdout",
     "output_type": "stream",
     "text": [
      "{'name': 'DORN2013.dbc', 'uf': 'Rio Grande do Norte', 'year': 2013, 'group': 'CID10', 'size': '1.3 MB', 'last_update': '2020-01-31 02:50PM'}\n"
     ]
    },
    {
     "name": "stderr",
     "output_type": "stream",
     "text": [
      "DORN2013.parquet: 100%|██████████| 61.0k/61.0k [00:00<00:00, 86.1kB/s]\n"
     ]
    },
    {
     "name": "stdout",
     "output_type": "stream",
     "text": [
      "{'name': 'DORN2014.dbc', 'uf': 'Rio Grande do Norte', 'year': 2014, 'group': 'CID10', 'size': '2.0 MB', 'last_update': '2020-01-31 02:50PM'}\n"
     ]
    },
    {
     "name": "stderr",
     "output_type": "stream",
     "text": [
      "DORN2014.parquet: 100%|██████████| 80.3k/80.3k [00:00<00:00, 92.4kB/s]\n"
     ]
    },
    {
     "name": "stdout",
     "output_type": "stream",
     "text": [
      "{'name': 'DORN2015.dbc', 'uf': 'Rio Grande do Norte', 'year': 2015, 'group': 'CID10', 'size': '1.9 MB', 'last_update': '2020-01-31 02:50PM'}\n"
     ]
    },
    {
     "name": "stderr",
     "output_type": "stream",
     "text": [
      "DORN2015.parquet: 100%|██████████| 83.0k/83.0k [00:00<00:00, 91.2kB/s]\n"
     ]
    },
    {
     "name": "stdout",
     "output_type": "stream",
     "text": [
      "{'name': 'DORN2016.dbc', 'uf': 'Rio Grande do Norte', 'year': 2016, 'group': 'CID10', 'size': '2.3 MB', 'last_update': '2020-01-31 02:50PM'}\n"
     ]
    },
    {
     "name": "stderr",
     "output_type": "stream",
     "text": [
      "DORN2016.parquet: 100%|██████████| 92.0k/92.0k [00:00<00:00, 93.5kB/s]\n"
     ]
    },
    {
     "name": "stdout",
     "output_type": "stream",
     "text": [
      "{'name': 'DORN2017.dbc', 'uf': 'Rio Grande do Norte', 'year': 2017, 'group': 'CID10', 'size': '2.1 MB', 'last_update': '2020-01-31 02:50PM'}\n"
     ]
    },
    {
     "name": "stderr",
     "output_type": "stream",
     "text": [
      "DORN2017.parquet: 100%|██████████| 90.3k/90.3k [00:01<00:00, 86.1kB/s]\n"
     ]
    },
    {
     "name": "stdout",
     "output_type": "stream",
     "text": [
      "{'name': 'DORN2018.dbc', 'uf': 'Rio Grande do Norte', 'year': 2018, 'group': 'CID10', 'size': '1.7 MB', 'last_update': '2020-04-02 04:34PM'}\n"
     ]
    },
    {
     "name": "stderr",
     "output_type": "stream",
     "text": [
      "DORN2018.parquet: 100%|██████████| 53.6k/53.6k [00:00<00:00, 60.5kB/s]\n"
     ]
    },
    {
     "name": "stdout",
     "output_type": "stream",
     "text": [
      "{'name': 'DORN2019.dbc', 'uf': 'Rio Grande do Norte', 'year': 2019, 'group': 'CID10', 'size': '1.7 MB', 'last_update': '2021-04-06 12:55PM'}\n"
     ]
    },
    {
     "name": "stderr",
     "output_type": "stream",
     "text": [
      "DORN2019.parquet: 100%|██████████| 53.3k/53.3k [00:00<00:00, 59.5kB/s]\n"
     ]
    },
    {
     "name": "stdout",
     "output_type": "stream",
     "text": [
      "{'name': 'DORN2020.dbc', 'uf': 'Rio Grande do Norte', 'year': 2020, 'group': 'CID10', 'size': '2.0 MB', 'last_update': '2022-03-31 04:19PM'}\n"
     ]
    },
    {
     "name": "stderr",
     "output_type": "stream",
     "text": [
      "DORN2020.parquet: 100%|██████████| 60.5k/60.5k [00:01<00:00, 59.7kB/s]\n"
     ]
    },
    {
     "name": "stdout",
     "output_type": "stream",
     "text": [
      "{'name': 'DORN2021.dbc', 'uf': 'Rio Grande do Norte', 'year': 2021, 'group': 'CID10', 'size': '2.1 MB', 'last_update': '2023-04-28 12:04PM'}\n"
     ]
    },
    {
     "name": "stderr",
     "output_type": "stream",
     "text": [
      "DORN2021.parquet: 100%|██████████| 65.6k/65.6k [00:01<00:00, 54.5kB/s]\n"
     ]
    },
    {
     "name": "stdout",
     "output_type": "stream",
     "text": [
      "{'name': 'DORN2022.dbc', 'uf': 'Rio Grande do Norte', 'year': 2022, 'group': 'CID10', 'size': '1.9 MB', 'last_update': '2023-12-21 04:19PM'}\n"
     ]
    },
    {
     "name": "stderr",
     "output_type": "stream",
     "text": [
      "DORN2022.parquet: 100%|██████████| 59.4k/59.4k [00:00<00:00, 59.7kB/s]\n"
     ]
    },
    {
     "name": "stdout",
     "output_type": "stream",
     "text": [
      "{'name': 'DORO2012.DBC', 'uf': 'Rondônia', 'year': 2012, 'group': 'CID10', 'size': '569.9 kB', 'last_update': '2020-01-31 02:50PM'}\n"
     ]
    },
    {
     "name": "stderr",
     "output_type": "stream",
     "text": [
      "DORO2012.parquet: 100%|██████████| 25.7k/25.7k [00:00<00:00, 82.4kB/s]\n"
     ]
    },
    {
     "name": "stdout",
     "output_type": "stream",
     "text": [
      "{'name': 'DORO2013.dbc', 'uf': 'Rondônia', 'year': 2013, 'group': 'CID10', 'size': '527.1 kB', 'last_update': '2020-01-31 02:50PM'}\n"
     ]
    },
    {
     "name": "stderr",
     "output_type": "stream",
     "text": [
      "DORO2013.parquet: 100%|██████████| 23.8k/23.8k [00:00<00:00, 80.9kB/s]\n"
     ]
    },
    {
     "name": "stdout",
     "output_type": "stream",
     "text": [
      "{'name': 'DORO2014.dbc', 'uf': 'Rondônia', 'year': 2014, 'group': 'CID10', 'size': '827.0 kB', 'last_update': '2020-01-31 02:50PM'}\n"
     ]
    },
    {
     "name": "stderr",
     "output_type": "stream",
     "text": [
      "DORO2014.parquet: 100%|██████████| 31.3k/31.3k [00:00<00:00, 88.8kB/s]\n"
     ]
    },
    {
     "name": "stdout",
     "output_type": "stream",
     "text": [
      "{'name': 'DORO2015.dbc', 'uf': 'Rondônia', 'year': 2015, 'group': 'CID10', 'size': '773.2 kB', 'last_update': '2020-01-31 02:50PM'}\n"
     ]
    },
    {
     "name": "stderr",
     "output_type": "stream",
     "text": [
      "DORO2015.parquet: 100%|██████████| 32.6k/32.6k [00:00<00:00, 88.2kB/s]\n"
     ]
    },
    {
     "name": "stdout",
     "output_type": "stream",
     "text": [
      "{'name': 'DORO2016.dbc', 'uf': 'Rondônia', 'year': 2016, 'group': 'CID10', 'size': '902.2 kB', 'last_update': '2020-01-31 02:50PM'}\n"
     ]
    },
    {
     "name": "stderr",
     "output_type": "stream",
     "text": [
      "DORO2016.parquet: 100%|██████████| 34.6k/34.6k [00:00<00:00, 91.9kB/s]\n"
     ]
    },
    {
     "name": "stdout",
     "output_type": "stream",
     "text": [
      "{'name': 'DORO2017.dbc', 'uf': 'Rondônia', 'year': 2017, 'group': 'CID10', 'size': '820.9 kB', 'last_update': '2020-01-31 02:50PM'}\n"
     ]
    },
    {
     "name": "stderr",
     "output_type": "stream",
     "text": [
      "DORO2017.parquet: 100%|██████████| 33.2k/33.2k [00:00<00:00, 88.6kB/s]\n"
     ]
    },
    {
     "name": "stdout",
     "output_type": "stream",
     "text": [
      "{'name': 'DORO2018.dbc', 'uf': 'Rondônia', 'year': 2018, 'group': 'CID10', 'size': '664.9 kB', 'last_update': '2020-04-02 04:34PM'}\n"
     ]
    },
    {
     "name": "stderr",
     "output_type": "stream",
     "text": [
      "DORO2018.parquet: 100%|██████████| 20.6k/20.6k [00:00<00:00, 57.9kB/s]\n"
     ]
    },
    {
     "name": "stdout",
     "output_type": "stream",
     "text": [
      "{'name': 'DORO2019.dbc', 'uf': 'Rondônia', 'year': 2019, 'group': 'CID10', 'size': '682.1 kB', 'last_update': '2021-04-06 12:55PM'}\n"
     ]
    },
    {
     "name": "stderr",
     "output_type": "stream",
     "text": [
      "DORO2019.parquet: 100%|██████████| 20.4k/20.4k [00:00<00:00, 56.9kB/s]\n"
     ]
    },
    {
     "name": "stdout",
     "output_type": "stream",
     "text": [
      "{'name': 'DORO2020.dbc', 'uf': 'Rondônia', 'year': 2020, 'group': 'CID10', 'size': '870.7 kB', 'last_update': '2022-03-31 04:19PM'}\n"
     ]
    },
    {
     "name": "stderr",
     "output_type": "stream",
     "text": [
      "DORO2020.parquet: 100%|██████████| 25.2k/25.2k [00:00<00:00, 45.8kB/s]\n"
     ]
    },
    {
     "name": "stdout",
     "output_type": "stream",
     "text": [
      "{'name': 'DORO2021.dbc', 'uf': 'Rondônia', 'year': 2021, 'group': 'CID10', 'size': '1.1 MB', 'last_update': '2023-04-28 12:04PM'}\n"
     ]
    },
    {
     "name": "stderr",
     "output_type": "stream",
     "text": [
      "DORO2021.parquet: 100%|██████████| 34.4k/34.4k [00:00<00:00, 59.4kB/s]\n"
     ]
    },
    {
     "name": "stdout",
     "output_type": "stream",
     "text": [
      "{'name': 'DORO2022.dbc', 'uf': 'Rondônia', 'year': 2022, 'group': 'CID10', 'size': '855.6 kB', 'last_update': '2023-12-21 04:19PM'}\n"
     ]
    },
    {
     "name": "stderr",
     "output_type": "stream",
     "text": [
      "DORO2022.parquet: 100%|██████████| 25.2k/25.2k [00:00<00:00, 57.0kB/s]\n"
     ]
    },
    {
     "name": "stdout",
     "output_type": "stream",
     "text": [
      "{'name': 'DORR2012.DBC', 'uf': 'Roraima', 'year': 2012, 'group': 'CID10', 'size': '140.7 kB', 'last_update': '2020-01-31 02:50PM'}\n"
     ]
    },
    {
     "name": "stderr",
     "output_type": "stream",
     "text": [
      "DORR2012.parquet: 100%|█████████▉| 5.89k/5.89k [00:00<00:00, 76.4kB/s]\n"
     ]
    },
    {
     "name": "stdout",
     "output_type": "stream",
     "text": [
      "{'name': 'DORR2013.dbc', 'uf': 'Roraima', 'year': 2013, 'group': 'CID10', 'size': '138.6 kB', 'last_update': '2020-01-31 02:50PM'}\n"
     ]
    },
    {
     "name": "stderr",
     "output_type": "stream",
     "text": [
      "DORR2013.parquet: 100%|█████████▉| 6.05k/6.05k [00:00<00:00, 74.7kB/s]\n"
     ]
    },
    {
     "name": "stdout",
     "output_type": "stream",
     "text": [
      "{'name': 'DORR2014.dbc', 'uf': 'Roraima', 'year': 2014, 'group': 'CID10', 'size': '205.9 kB', 'last_update': '2020-01-31 02:50PM'}\n"
     ]
    },
    {
     "name": "stderr",
     "output_type": "stream",
     "text": [
      "DORR2014.parquet: 100%|█████████▉| 7.81k/7.81k [00:00<00:00, 78.2kB/s]\n"
     ]
    },
    {
     "name": "stdout",
     "output_type": "stream",
     "text": [
      "{'name': 'DORR2015.dbc', 'uf': 'Roraima', 'year': 2015, 'group': 'CID10', 'size': '201.0 kB', 'last_update': '2020-01-31 02:50PM'}\n"
     ]
    },
    {
     "name": "stderr",
     "output_type": "stream",
     "text": [
      "DORR2015.parquet: 100%|██████████| 8.14k/8.14k [00:00<00:00, 73.6kB/s]\n"
     ]
    },
    {
     "name": "stdout",
     "output_type": "stream",
     "text": [
      "{'name': 'DORR2016.dbc', 'uf': 'Roraima', 'year': 2016, 'group': 'CID10', 'size': '222.5 kB', 'last_update': '2020-01-31 02:50PM'}\n"
     ]
    },
    {
     "name": "stderr",
     "output_type": "stream",
     "text": [
      "DORR2016.parquet: 100%|██████████| 8.36k/8.36k [00:00<00:00, 77.1kB/s]\n"
     ]
    },
    {
     "name": "stdout",
     "output_type": "stream",
     "text": [
      "{'name': 'DORR2017.dbc', 'uf': 'Roraima', 'year': 2017, 'group': 'CID10', 'size': '249.5 kB', 'last_update': '2020-01-31 02:50PM'}\n"
     ]
    },
    {
     "name": "stderr",
     "output_type": "stream",
     "text": [
      "DORR2017.parquet: 100%|██████████| 9.59k/9.59k [00:00<00:00, 77.0kB/s]\n"
     ]
    },
    {
     "name": "stdout",
     "output_type": "stream",
     "text": [
      "{'name': 'DORR2018.dbc', 'uf': 'Roraima', 'year': 2018, 'group': 'CID10', 'size': '229.9 kB', 'last_update': '2020-04-02 04:34PM'}\n"
     ]
    },
    {
     "name": "stderr",
     "output_type": "stream",
     "text": [
      "DORR2018.parquet: 100%|█████████▉| 7.05k/7.05k [00:00<00:00, 56.1kB/s]\n"
     ]
    },
    {
     "name": "stdout",
     "output_type": "stream",
     "text": [
      "{'name': 'DORR2019.dbc', 'uf': 'Roraima', 'year': 2019, 'group': 'CID10', 'size': '229.4 kB', 'last_update': '2021-04-06 12:55PM'}\n"
     ]
    },
    {
     "name": "stderr",
     "output_type": "stream",
     "text": [
      "DORR2019.parquet: 100%|█████████▉| 6.82k/6.82k [00:00<00:00, 51.5kB/s]\n"
     ]
    },
    {
     "name": "stdout",
     "output_type": "stream",
     "text": [
      "{'name': 'DORR2020.dbc', 'uf': 'Roraima', 'year': 2020, 'group': 'CID10', 'size': '297.2 kB', 'last_update': '2022-03-31 04:19PM'}\n"
     ]
    },
    {
     "name": "stderr",
     "output_type": "stream",
     "text": [
      "DORR2020.parquet: 100%|██████████| 8.79k/8.79k [00:00<00:00, 54.8kB/s]\n"
     ]
    },
    {
     "name": "stdout",
     "output_type": "stream",
     "text": [
      "{'name': 'DORR2021.dbc', 'uf': 'Roraima', 'year': 2021, 'group': 'CID10', 'size': '355.3 kB', 'last_update': '2023-04-28 12:04PM'}\n"
     ]
    },
    {
     "name": "stderr",
     "output_type": "stream",
     "text": [
      "DORR2021.parquet: 100%|██████████| 10.6k/10.6k [00:00<00:00, 55.2kB/s]\n"
     ]
    },
    {
     "name": "stdout",
     "output_type": "stream",
     "text": [
      "{'name': 'DORR2022.dbc', 'uf': 'Roraima', 'year': 2022, 'group': 'CID10', 'size': '275.2 kB', 'last_update': '2023-12-21 04:19PM'}\n"
     ]
    },
    {
     "name": "stderr",
     "output_type": "stream",
     "text": [
      "DORR2022.parquet: 100%|██████████| 7.97k/7.97k [00:00<00:00, 54.9kB/s]\n"
     ]
    },
    {
     "name": "stdout",
     "output_type": "stream",
     "text": [
      "{'name': 'DORS2012.DBC', 'uf': 'Rio Grande do Sul', 'year': 2012, 'group': 'CID10', 'size': '5.5 MB', 'last_update': '2020-01-31 02:50PM'}\n"
     ]
    },
    {
     "name": "stderr",
     "output_type": "stream",
     "text": [
      "DORS2012.parquet: 100%|██████████| 247k/247k [00:02<00:00, 90.0kB/s]\n"
     ]
    },
    {
     "name": "stdout",
     "output_type": "stream",
     "text": [
      "{'name': 'DORS2013.dbc', 'uf': 'Rio Grande do Sul', 'year': 2013, 'group': 'CID10', 'size': '5.9 MB', 'last_update': '2020-01-31 02:50PM'}\n"
     ]
    },
    {
     "name": "stderr",
     "output_type": "stream",
     "text": [
      "DORS2013.parquet: 100%|██████████| 276k/276k [00:02<00:00, 94.2kB/s]\n"
     ]
    },
    {
     "name": "stdout",
     "output_type": "stream",
     "text": [
      "{'name': 'DORS2014.dbc', 'uf': 'Rio Grande do Sul', 'year': 2014, 'group': 'CID10', 'size': '8.4 MB', 'last_update': '2020-01-31 02:50PM'}\n"
     ]
    },
    {
     "name": "stderr",
     "output_type": "stream",
     "text": [
      "DORS2014.parquet: 100%|██████████| 347k/347k [00:03<00:00, 89.3kB/s]\n"
     ]
    },
    {
     "name": "stdout",
     "output_type": "stream",
     "text": [
      "{'name': 'DORS2015.dbc', 'uf': 'Rio Grande do Sul', 'year': 2015, 'group': 'CID10', 'size': '7.6 MB', 'last_update': '2020-01-31 02:51PM'}\n"
     ]
    },
    {
     "name": "stderr",
     "output_type": "stream",
     "text": [
      "DORS2015.parquet: 100%|██████████| 357k/357k [00:03<00:00, 92.1kB/s]\n"
     ]
    },
    {
     "name": "stdout",
     "output_type": "stream",
     "text": [
      "{'name': 'DORS2016.dbc', 'uf': 'Rio Grande do Sul', 'year': 2016, 'group': 'CID10', 'size': '9.0 MB', 'last_update': '2020-01-31 02:51PM'}\n"
     ]
    },
    {
     "name": "stderr",
     "output_type": "stream",
     "text": [
      "DORS2016.parquet: 100%|██████████| 370k/370k [00:04<00:00, 90.1kB/s]\n"
     ]
    },
    {
     "name": "stdout",
     "output_type": "stream",
     "text": [
      "{'name': 'DORS2017.dbc', 'uf': 'Rio Grande do Sul', 'year': 2017, 'group': 'CID10', 'size': '8.4 MB', 'last_update': '2020-01-31 02:51PM'}\n"
     ]
    },
    {
     "name": "stderr",
     "output_type": "stream",
     "text": [
      "DORS2017.parquet: 100%|██████████| 364k/364k [00:03<00:00, 93.5kB/s]\n"
     ]
    },
    {
     "name": "stdout",
     "output_type": "stream",
     "text": [
      "{'name': 'DORS2018.dbc', 'uf': 'Rio Grande do Sul', 'year': 2018, 'group': 'CID10', 'size': '7.0 MB', 'last_update': '2020-04-02 04:34PM'}\n"
     ]
    },
    {
     "name": "stderr",
     "output_type": "stream",
     "text": [
      "DORS2018.parquet: 100%|██████████| 224k/224k [00:03<00:00, 59.7kB/s]\n"
     ]
    },
    {
     "name": "stdout",
     "output_type": "stream",
     "text": [
      "{'name': 'DORS2019.dbc', 'uf': 'Rio Grande do Sul', 'year': 2019, 'group': 'CID10', 'size': '6.9 MB', 'last_update': '2021-04-06 12:55PM'}\n"
     ]
    },
    {
     "name": "stderr",
     "output_type": "stream",
     "text": [
      "DORS2019.parquet: 100%|██████████| 219k/219k [00:03<00:00, 58.9kB/s]\n"
     ]
    },
    {
     "name": "stdout",
     "output_type": "stream",
     "text": [
      "{'name': 'DORS2020.dbc', 'uf': 'Rio Grande do Sul', 'year': 2020, 'group': 'CID10', 'size': '7.5 MB', 'last_update': '2022-03-31 04:19PM'}\n"
     ]
    },
    {
     "name": "stderr",
     "output_type": "stream",
     "text": [
      "DORS2020.parquet: 100%|██████████| 227k/227k [00:03<00:00, 58.9kB/s]\n"
     ]
    },
    {
     "name": "stdout",
     "output_type": "stream",
     "text": [
      "{'name': 'DORS2021.dbc', 'uf': 'Rio Grande do Sul', 'year': 2021, 'group': 'CID10', 'size': '8.9 MB', 'last_update': '2023-04-28 12:05PM'}\n"
     ]
    },
    {
     "name": "stderr",
     "output_type": "stream",
     "text": [
      "DORS2021.parquet: 100%|██████████| 288k/288k [00:04<00:00, 59.6kB/s]\n"
     ]
    },
    {
     "name": "stdout",
     "output_type": "stream",
     "text": [
      "{'name': 'DORS2022.dbc', 'uf': 'Rio Grande do Sul', 'year': 2022, 'group': 'CID10', 'size': '8.1 MB', 'last_update': '2023-12-21 04:20PM'}\n"
     ]
    },
    {
     "name": "stderr",
     "output_type": "stream",
     "text": [
      "DORS2022.parquet: 100%|██████████| 255k/255k [00:04<00:00, 59.0kB/s]\n"
     ]
    },
    {
     "name": "stdout",
     "output_type": "stream",
     "text": [
      "{'name': 'DOSC2012.DBC', 'uf': 'Santa Catarina', 'year': 2012, 'group': 'CID10', 'size': '2.5 MB', 'last_update': '2020-01-31 02:51PM'}\n"
     ]
    },
    {
     "name": "stderr",
     "output_type": "stream",
     "text": [
      "DOSC2012.parquet: 100%|██████████| 108k/108k [00:01<00:00, 92.6kB/s]\n"
     ]
    },
    {
     "name": "stdout",
     "output_type": "stream",
     "text": [
      "{'name': 'DOSC2013.dbc', 'uf': 'Santa Catarina', 'year': 2013, 'group': 'CID10', 'size': '2.6 MB', 'last_update': '2020-01-31 02:51PM'}\n"
     ]
    },
    {
     "name": "stderr",
     "output_type": "stream",
     "text": [
      "DOSC2013.parquet: 100%|██████████| 120k/120k [00:01<00:00, 83.8kB/s]\n"
     ]
    },
    {
     "name": "stdout",
     "output_type": "stream",
     "text": [
      "{'name': 'DOSC2014.dbc', 'uf': 'Santa Catarina', 'year': 2014, 'group': 'CID10', 'size': '4.1 MB', 'last_update': '2020-01-31 02:51PM'}\n"
     ]
    },
    {
     "name": "stderr",
     "output_type": "stream",
     "text": [
      "DOSC2014.parquet: 100%|██████████| 154k/154k [00:01<00:00, 90.4kB/s]\n"
     ]
    },
    {
     "name": "stdout",
     "output_type": "stream",
     "text": [
      "{'name': 'DOSC2015.dbc', 'uf': 'Santa Catarina', 'year': 2015, 'group': 'CID10', 'size': '3.6 MB', 'last_update': '2020-01-31 02:51PM'}\n"
     ]
    },
    {
     "name": "stderr",
     "output_type": "stream",
     "text": [
      "DOSC2015.parquet: 100%|██████████| 160k/160k [00:01<00:00, 93.0kB/s]\n"
     ]
    },
    {
     "name": "stdout",
     "output_type": "stream",
     "text": [
      "{'name': 'DOSC2016.dbc', 'uf': 'Santa Catarina', 'year': 2016, 'group': 'CID10', 'size': '4.4 MB', 'last_update': '2020-01-31 02:51PM'}\n"
     ]
    },
    {
     "name": "stderr",
     "output_type": "stream",
     "text": [
      "DOSC2016.parquet: 100%|██████████| 168k/168k [00:01<00:00, 85.1kB/s]\n"
     ]
    },
    {
     "name": "stdout",
     "output_type": "stream",
     "text": [
      "{'name': 'DOSC2017.dbc', 'uf': 'Santa Catarina', 'year': 2017, 'group': 'CID10', 'size': '4.1 MB', 'last_update': '2020-01-31 02:51PM'}\n"
     ]
    },
    {
     "name": "stderr",
     "output_type": "stream",
     "text": [
      "DOSC2017.parquet: 100%|██████████| 168k/168k [00:01<00:00, 91.3kB/s]\n"
     ]
    },
    {
     "name": "stdout",
     "output_type": "stream",
     "text": [
      "{'name': 'DOSC2018.dbc', 'uf': 'Santa Catarina', 'year': 2018, 'group': 'CID10', 'size': '3.3 MB', 'last_update': '2020-04-02 04:34PM'}\n"
     ]
    },
    {
     "name": "stderr",
     "output_type": "stream",
     "text": [
      "DOSC2018.parquet: 100%|██████████| 104k/104k [00:01<00:00, 61.2kB/s]\n"
     ]
    },
    {
     "name": "stdout",
     "output_type": "stream",
     "text": [
      "{'name': 'DOSC2019.dbc', 'uf': 'Santa Catarina', 'year': 2019, 'group': 'CID10', 'size': '3.4 MB', 'last_update': '2021-04-06 12:55PM'}\n"
     ]
    },
    {
     "name": "stderr",
     "output_type": "stream",
     "text": [
      "DOSC2019.parquet: 100%|██████████| 104k/104k [00:01<00:00, 56.2kB/s]\n"
     ]
    },
    {
     "name": "stdout",
     "output_type": "stream",
     "text": [
      "{'name': 'DOSC2020.dbc', 'uf': 'Santa Catarina', 'year': 2020, 'group': 'CID10', 'size': '3.9 MB', 'last_update': '2022-03-31 04:19PM'}\n"
     ]
    },
    {
     "name": "stderr",
     "output_type": "stream",
     "text": [
      "DOSC2020.parquet: 100%|██████████| 114k/114k [00:01<00:00, 60.8kB/s]\n"
     ]
    },
    {
     "name": "stdout",
     "output_type": "stream",
     "text": [
      "{'name': 'DOSC2021.dbc', 'uf': 'Santa Catarina', 'year': 2021, 'group': 'CID10', 'size': '4.8 MB', 'last_update': '2023-04-28 12:05PM'}\n"
     ]
    },
    {
     "name": "stderr",
     "output_type": "stream",
     "text": [
      "DOSC2021.parquet: 100%|██████████| 147k/147k [00:02<00:00, 57.8kB/s]\n"
     ]
    },
    {
     "name": "stdout",
     "output_type": "stream",
     "text": [
      "{'name': 'DOSC2022.dbc', 'uf': 'Santa Catarina', 'year': 2022, 'group': 'CID10', 'size': '4.2 MB', 'last_update': '2023-12-21 04:20PM'}\n"
     ]
    },
    {
     "name": "stderr",
     "output_type": "stream",
     "text": [
      "DOSC2022.parquet: 100%|██████████| 126k/126k [00:02<00:00, 61.0kB/s]\n"
     ]
    },
    {
     "name": "stdout",
     "output_type": "stream",
     "text": [
      "{'name': 'DOSE2012.DBC', 'uf': 'Sergipe', 'year': 2012, 'group': 'CID10', 'size': '948.7 kB', 'last_update': '2020-01-31 02:51PM'}\n"
     ]
    },
    {
     "name": "stderr",
     "output_type": "stream",
     "text": [
      "DOSE2012.parquet: 100%|██████████| 41.4k/41.4k [00:00<00:00, 92.5kB/s]\n"
     ]
    },
    {
     "name": "stdout",
     "output_type": "stream",
     "text": [
      "{'name': 'DOSE2013.dbc', 'uf': 'Sergipe', 'year': 2013, 'group': 'CID10', 'size': '889.9 kB', 'last_update': '2020-01-31 02:51PM'}\n"
     ]
    },
    {
     "name": "stderr",
     "output_type": "stream",
     "text": [
      "DOSE2013.parquet: 100%|██████████| 39.7k/39.7k [00:00<00:00, 87.8kB/s]\n"
     ]
    },
    {
     "name": "stdout",
     "output_type": "stream",
     "text": [
      "{'name': 'DOSE2014.dbc', 'uf': 'Sergipe', 'year': 2014, 'group': 'CID10', 'size': '1.3 MB', 'last_update': '2020-01-31 02:51PM'}\n"
     ]
    },
    {
     "name": "stderr",
     "output_type": "stream",
     "text": [
      "DOSE2014.parquet: 100%|██████████| 50.8k/50.8k [00:00<00:00, 88.2kB/s]\n"
     ]
    },
    {
     "name": "stdout",
     "output_type": "stream",
     "text": [
      "{'name': 'DOSE2015.dbc', 'uf': 'Sergipe', 'year': 2015, 'group': 'CID10', 'size': '1.3 MB', 'last_update': '2020-01-31 02:51PM'}\n"
     ]
    },
    {
     "name": "stderr",
     "output_type": "stream",
     "text": [
      "DOSE2015.parquet: 100%|██████████| 56.4k/56.4k [00:00<00:00, 89.5kB/s]\n"
     ]
    },
    {
     "name": "stdout",
     "output_type": "stream",
     "text": [
      "{'name': 'DOSE2016.dbc', 'uf': 'Sergipe', 'year': 2016, 'group': 'CID10', 'size': '1.4 MB', 'last_update': '2020-01-31 02:51PM'}\n"
     ]
    },
    {
     "name": "stderr",
     "output_type": "stream",
     "text": [
      "DOSE2016.parquet: 100%|██████████| 56.8k/56.8k [00:00<00:00, 80.9kB/s]\n"
     ]
    },
    {
     "name": "stdout",
     "output_type": "stream",
     "text": [
      "{'name': 'DOSE2017.dbc', 'uf': 'Sergipe', 'year': 2017, 'group': 'CID10', 'size': '1.4 MB', 'last_update': '2020-01-31 02:51PM'}\n"
     ]
    },
    {
     "name": "stderr",
     "output_type": "stream",
     "text": [
      "DOSE2017.parquet: 100%|██████████| 56.0k/56.0k [00:00<00:00, 91.4kB/s]\n"
     ]
    },
    {
     "name": "stdout",
     "output_type": "stream",
     "text": [
      "{'name': 'DOSE2018.dbc', 'uf': 'Sergipe', 'year': 2018, 'group': 'CID10', 'size': '1.1 MB', 'last_update': '2020-04-02 04:34PM'}\n"
     ]
    },
    {
     "name": "stderr",
     "output_type": "stream",
     "text": [
      "DOSE2018.parquet: 100%|██████████| 32.9k/32.9k [00:00<00:00, 58.9kB/s]\n"
     ]
    },
    {
     "name": "stdout",
     "output_type": "stream",
     "text": [
      "{'name': 'DOSE2019.dbc', 'uf': 'Sergipe', 'year': 2019, 'group': 'CID10', 'size': '1.1 MB', 'last_update': '2021-04-06 12:55PM'}\n"
     ]
    },
    {
     "name": "stderr",
     "output_type": "stream",
     "text": [
      "DOSE2019.parquet: 100%|██████████| 33.0k/33.0k [00:00<00:00, 59.1kB/s]\n"
     ]
    },
    {
     "name": "stdout",
     "output_type": "stream",
     "text": [
      "{'name': 'DOSE2020.dbc', 'uf': 'Sergipe', 'year': 2020, 'group': 'CID10', 'size': '1.3 MB', 'last_update': '2022-03-31 04:19PM'}\n"
     ]
    },
    {
     "name": "stderr",
     "output_type": "stream",
     "text": [
      "DOSE2020.parquet: 100%|██████████| 38.7k/38.7k [00:00<00:00, 58.8kB/s]\n"
     ]
    },
    {
     "name": "stdout",
     "output_type": "stream",
     "text": [
      "{'name': 'DOSE2021.dbc', 'uf': 'Sergipe', 'year': 2021, 'group': 'CID10', 'size': '1.4 MB', 'last_update': '2023-04-28 12:05PM'}\n"
     ]
    },
    {
     "name": "stderr",
     "output_type": "stream",
     "text": [
      "DOSE2021.parquet: 100%|██████████| 40.9k/40.9k [00:00<00:00, 57.4kB/s]\n"
     ]
    },
    {
     "name": "stdout",
     "output_type": "stream",
     "text": [
      "{'name': 'DOSE2022.dbc', 'uf': 'Sergipe', 'year': 2022, 'group': 'CID10', 'size': '1.3 MB', 'last_update': '2023-12-21 04:20PM'}\n"
     ]
    },
    {
     "name": "stderr",
     "output_type": "stream",
     "text": [
      "DOSE2022.parquet: 100%|██████████| 36.3k/36.3k [00:00<00:00, 57.0kB/s]\n"
     ]
    },
    {
     "name": "stdout",
     "output_type": "stream",
     "text": [
      "{'name': 'DOSP2012.DBC', 'uf': 'São Paulo', 'year': 2012, 'group': 'CID10', 'size': '18.8 MB', 'last_update': '2020-01-31 02:51PM'}\n"
     ]
    },
    {
     "name": "stderr",
     "output_type": "stream",
     "text": [
      "DOSP2012.parquet: 100%|██████████| 841k/841k [00:09<00:00, 93.0kB/s]\n"
     ]
    },
    {
     "name": "stdout",
     "output_type": "stream",
     "text": [
      "{'name': 'DOSP2013.dbc', 'uf': 'São Paulo', 'year': 2013, 'group': 'CID10', 'size': '19.2 MB', 'last_update': '2020-01-31 02:51PM'}\n"
     ]
    },
    {
     "name": "stderr",
     "output_type": "stream",
     "text": [
      "DOSP2013.parquet: 100%|██████████| 921k/921k [00:09<00:00, 93.0kB/s]\n"
     ]
    },
    {
     "name": "stdout",
     "output_type": "stream",
     "text": [
      "{'name': 'DOSP2014.dbc', 'uf': 'São Paulo', 'year': 2014, 'group': 'CID10', 'size': '30.0 MB', 'last_update': '2020-01-31 02:51PM'}\n"
     ]
    },
    {
     "name": "stderr",
     "output_type": "stream",
     "text": [
      "DOSP2014.parquet: 100%|██████████| 1.23M/1.23M [00:12<00:00, 95.4kB/s]\n"
     ]
    },
    {
     "name": "stdout",
     "output_type": "stream",
     "text": [
      "{'name': 'DOSP2015.dbc', 'uf': 'São Paulo', 'year': 2015, 'group': 'CID10', 'size': '27.1 MB', 'last_update': '2020-01-31 02:51PM'}\n"
     ]
    },
    {
     "name": "stderr",
     "output_type": "stream",
     "text": [
      "DOSP2015.parquet: 100%|██████████| 1.26M/1.26M [00:13<00:00, 96.6kB/s]\n"
     ]
    },
    {
     "name": "stdout",
     "output_type": "stream",
     "text": [
      "{'name': 'DOSP2016.dbc', 'uf': 'São Paulo', 'year': 2016, 'group': 'CID10', 'size': '30.8 MB', 'last_update': '2020-01-31 02:51PM'}\n"
     ]
    },
    {
     "name": "stderr",
     "output_type": "stream",
     "text": [
      "DOSP2016.parquet: 100%|██████████| 1.25M/1.25M [00:13<00:00, 92.6kB/s]\n"
     ]
    },
    {
     "name": "stdout",
     "output_type": "stream",
     "text": [
      "{'name': 'DOSP2017.dbc', 'uf': 'São Paulo', 'year': 2017, 'group': 'CID10', 'size': '29.5 MB', 'last_update': '2020-01-31 02:51PM'}\n"
     ]
    },
    {
     "name": "stderr",
     "output_type": "stream",
     "text": [
      "DOSP2017.parquet: 100%|██████████| 1.25M/1.25M [00:13<00:00, 91.7kB/s]\n"
     ]
    },
    {
     "name": "stdout",
     "output_type": "stream",
     "text": [
      "{'name': 'DOSP2018.dbc', 'uf': 'São Paulo', 'year': 2018, 'group': 'CID10', 'size': '23.3 MB', 'last_update': '2020-04-02 04:34PM'}\n"
     ]
    },
    {
     "name": "stderr",
     "output_type": "stream",
     "text": [
      "DOSP2018.parquet: 100%|██████████| 753k/753k [00:12<00:00, 61.0kB/s]\n"
     ]
    },
    {
     "name": "stdout",
     "output_type": "stream",
     "text": [
      "{'name': 'DOSP2019.dbc', 'uf': 'São Paulo', 'year': 2019, 'group': 'CID10', 'size': '24.1 MB', 'last_update': '2021-04-06 12:55PM'}\n"
     ]
    },
    {
     "name": "stderr",
     "output_type": "stream",
     "text": [
      "DOSP2019.parquet: 100%|██████████| 750k/750k [00:12<00:00, 59.4kB/s]\n"
     ]
    },
    {
     "name": "stdout",
     "output_type": "stream",
     "text": [
      "{'name': 'DOSP2020.dbc', 'uf': 'São Paulo', 'year': 2020, 'group': 'CID10', 'size': '28.7 MB', 'last_update': '2022-03-31 04:19PM'}\n"
     ]
    },
    {
     "name": "stderr",
     "output_type": "stream",
     "text": [
      "DOSP2020.parquet: 100%|██████████| 857k/857k [00:14<00:00, 59.5kB/s]\n"
     ]
    },
    {
     "name": "stdout",
     "output_type": "stream",
     "text": [
      "{'name': 'DOSP2021.dbc', 'uf': 'São Paulo', 'year': 2021, 'group': 'CID10', 'size': '34.3 MB', 'last_update': '2023-04-28 12:07PM'}\n"
     ]
    },
    {
     "name": "stderr",
     "output_type": "stream",
     "text": [
      "DOSP2021.parquet: 100%|██████████| 1.06M/1.06M [00:17<00:00, 60.1kB/s]\n"
     ]
    },
    {
     "name": "stdout",
     "output_type": "stream",
     "text": [
      "{'name': 'DOSP2022.dbc', 'uf': 'São Paulo', 'year': 2022, 'group': 'CID10', 'size': '28.6 MB', 'last_update': '2023-12-21 04:20PM'}\n"
     ]
    },
    {
     "name": "stderr",
     "output_type": "stream",
     "text": [
      "DOSP2022.parquet: 100%|██████████| 867k/867k [00:14<00:00, 58.3kB/s]\n"
     ]
    },
    {
     "name": "stdout",
     "output_type": "stream",
     "text": [
      "{'name': 'DOTO2012.DBC', 'uf': 'Tocantins', 'year': 2012, 'group': 'CID10', 'size': '545.8 kB', 'last_update': '2020-01-31 02:51PM'}\n"
     ]
    },
    {
     "name": "stderr",
     "output_type": "stream",
     "text": [
      "DOTO2012.parquet: 100%|██████████| 22.8k/22.8k [00:00<00:00, 89.2kB/s]\n"
     ]
    },
    {
     "name": "stdout",
     "output_type": "stream",
     "text": [
      "{'name': 'DOTO2013.dbc', 'uf': 'Tocantins', 'year': 2013, 'group': 'CID10', 'size': '508.8 kB', 'last_update': '2020-01-31 02:51PM'}\n"
     ]
    },
    {
     "name": "stderr",
     "output_type": "stream",
     "text": [
      "DOTO2013.parquet: 100%|██████████| 22.9k/22.9k [00:00<00:00, 88.4kB/s]\n"
     ]
    },
    {
     "name": "stdout",
     "output_type": "stream",
     "text": [
      "{'name': 'DOTO2014.dbc', 'uf': 'Tocantins', 'year': 2014, 'group': 'CID10', 'size': '785.4 kB', 'last_update': '2020-01-31 02:51PM'}\n"
     ]
    },
    {
     "name": "stderr",
     "output_type": "stream",
     "text": [
      "DOTO2014.parquet: 100%|██████████| 29.7k/29.7k [00:00<00:00, 90.5kB/s]\n"
     ]
    },
    {
     "name": "stdout",
     "output_type": "stream",
     "text": [
      "{'name': 'DOTO2015.dbc', 'uf': 'Tocantins', 'year': 2015, 'group': 'CID10', 'size': '750.4 kB', 'last_update': '2020-01-31 02:51PM'}\n"
     ]
    },
    {
     "name": "stderr",
     "output_type": "stream",
     "text": [
      "DOTO2015.parquet: 100%|██████████| 30.5k/30.5k [00:00<00:00, 86.5kB/s]\n"
     ]
    },
    {
     "name": "stdout",
     "output_type": "stream",
     "text": [
      "{'name': 'DOTO2016.dbc', 'uf': 'Tocantins', 'year': 2016, 'group': 'CID10', 'size': '808.0 kB', 'last_update': '2020-01-31 02:51PM'}\n"
     ]
    },
    {
     "name": "stderr",
     "output_type": "stream",
     "text": [
      "DOTO2016.parquet: 100%|██████████| 31.3k/31.3k [00:00<00:00, 91.1kB/s]\n"
     ]
    },
    {
     "name": "stdout",
     "output_type": "stream",
     "text": [
      "{'name': 'DOTO2017.dbc', 'uf': 'Tocantins', 'year': 2017, 'group': 'CID10', 'size': '892.2 kB', 'last_update': '2020-01-31 02:51PM'}\n"
     ]
    },
    {
     "name": "stderr",
     "output_type": "stream",
     "text": [
      "DOTO2017.parquet: 100%|██████████| 33.8k/33.8k [00:00<00:00, 90.6kB/s]\n"
     ]
    },
    {
     "name": "stdout",
     "output_type": "stream",
     "text": [
      "{'name': 'DOTO2018.dbc', 'uf': 'Tocantins', 'year': 2018, 'group': 'CID10', 'size': '659.3 kB', 'last_update': '2020-04-02 04:34PM'}\n"
     ]
    },
    {
     "name": "stderr",
     "output_type": "stream",
     "text": [
      "DOTO2018.parquet: 100%|██████████| 19.7k/19.7k [00:00<00:00, 59.8kB/s]\n"
     ]
    },
    {
     "name": "stdout",
     "output_type": "stream",
     "text": [
      "{'name': 'DOTO2019.dbc', 'uf': 'Tocantins', 'year': 2019, 'group': 'CID10', 'size': '703.9 kB', 'last_update': '2021-04-06 12:55PM'}\n"
     ]
    },
    {
     "name": "stderr",
     "output_type": "stream",
     "text": [
      "DOTO2019.parquet: 100%|██████████| 19.7k/19.7k [00:00<00:00, 57.3kB/s]\n"
     ]
    },
    {
     "name": "stdout",
     "output_type": "stream",
     "text": [
      "{'name': 'DOTO2020.dbc', 'uf': 'Tocantins', 'year': 2020, 'group': 'CID10', 'size': '821.2 kB', 'last_update': '2022-03-31 04:19PM'}\n"
     ]
    },
    {
     "name": "stderr",
     "output_type": "stream",
     "text": [
      "DOTO2020.parquet: 100%|██████████| 22.7k/22.7k [00:00<00:00, 56.3kB/s]\n"
     ]
    },
    {
     "name": "stdout",
     "output_type": "stream",
     "text": [
      "{'name': 'DOTO2021.dbc', 'uf': 'Tocantins', 'year': 2021, 'group': 'CID10', 'size': '1.0 MB', 'last_update': '2023-04-28 11:56AM'}\n"
     ]
    },
    {
     "name": "stderr",
     "output_type": "stream",
     "text": [
      "DOTO2021.parquet: 100%|██████████| 28.2k/28.2k [00:00<00:00, 57.6kB/s]\n"
     ]
    },
    {
     "name": "stdout",
     "output_type": "stream",
     "text": [
      "{'name': 'DOTO2022.dbc', 'uf': 'Tocantins', 'year': 2022, 'group': 'CID10', 'size': '827.7 kB', 'last_update': '2023-12-21 04:20PM'}\n"
     ]
    },
    {
     "name": "stderr",
     "output_type": "stream",
     "text": [
      "DOTO2022.parquet: 100%|██████████| 23.0k/23.0k [00:00<00:00, 58.0kB/s]\n"
     ]
    }
   ],
   "source": [
    "years = [2012, 2013, 2014, 2015, 2016, 2017, 2018, 2019, 2020, 2021, 2022]\n",
    "sim = SIM().load()\n",
    "sim_files = sim.get_files('CID10', uf=states, year=years)\n",
    "\n",
    "parquet_path = os.getcwd() + \"/Data/Parquet/\"\n",
    "csv_path = os.getcwd() + '/Data/CSV/'\n",
    "\n",
    "if not 'Parquet' in os.listdir(os.getcwd() + \"/Data\") :\n",
    "      os.mkdir(parquet_path)\n",
    "\n",
    "if not 'CSV' in os.listdir(os.getcwd() + \"/Data\") :\n",
    "      os.mkdir(csv_path)\n",
    "\n",
    "for file in sim_files:\n",
    "      if not file.basename.replace('.dbc', '.parquet') in os.listdir(parquet_path) and not file.basename.replace('.dbc', '.csv') in os.listdir(csv_path):\n",
    "            print(sim.describe(file))\n",
    "            sim.download(file, local_dir=parquet_path)"
   ]
  },
  {
   "cell_type": "markdown",
   "metadata": {},
   "source": [
    "#### Transformação Parquet para CSV"
   ]
  },
  {
   "cell_type": "markdown",
   "metadata": {},
   "source": [
    "Transforma todos os .parquet em .csv"
   ]
  },
  {
   "cell_type": "code",
   "execution_count": 92,
   "metadata": {},
   "outputs": [],
   "source": [
    "error_log_path = os.getcwd() + '/Data/error_log.txt'\n",
    "\n",
    "files_names = os.listdir(parquet_path)\n",
    "error_files = []\n",
    "\n",
    "for file in files_names:\n",
    "    try:\n",
    "        df = pd.read_parquet(path= parquet_path + file)\n",
    "        print(file)\n",
    "        df.to_csv(path_or_buf=(csv_path + file.replace('.parquet', '.csv')), sep=';')\n",
    "        \n",
    "        parquet_files = os.listdir(parquet_path + file)\n",
    "        for pFile in parquet_files:\n",
    "            os.remove(parquet_path + file + '/' + pFile)\n",
    "        os.rmdir(parquet_path + file) \n",
    "    except Exception as e:\n",
    "        error_files.append(file)\n",
    "        print(f\"Erro ao processar o arquivo: {file}\")\n",
    "\n",
    "        os.remove(path=parquet_path + file)\n",
    "\n",
    "\n",
    "\n",
    "# Escrever os arquivos que causaram erro em um arquivo de texto\n",
    "if len(error_files) > 0:\n",
    "    with open(error_log_path, 'w') as f:\n",
    "        for error_file in error_files:\n",
    "            f.write(f\"{error_file}\\n\")"
   ]
  }
 ],
 "metadata": {
  "kernelspec": {
   "display_name": "Python 3",
   "language": "python",
   "name": "python3"
  },
  "language_info": {
   "codemirror_mode": {
    "name": "ipython",
    "version": 3
   },
   "file_extension": ".py",
   "mimetype": "text/x-python",
   "name": "python",
   "nbconvert_exporter": "python",
   "pygments_lexer": "ipython3",
   "version": "3.10.12"
  }
 },
 "nbformat": 4,
 "nbformat_minor": 2
}
